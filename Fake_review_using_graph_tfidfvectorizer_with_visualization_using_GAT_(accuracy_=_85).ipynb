{
  "cells": [
    {
      "cell_type": "markdown",
      "metadata": {
        "id": "zicTH6Fi8rIf"
      },
      "source": [
        "# FAKE REVIEW NODE EMBEDDING"
      ]
    },
    {
      "cell_type": "code",
      "source": [
        "!pip install stellargraph"
      ],
      "metadata": {
        "colab": {
          "base_uri": "https://localhost:8080/"
        },
        "id": "e0PeN6BT5fz5",
        "outputId": "0335242d-a5b3-47c6-a46d-339bf447a523"
      },
      "execution_count": 1,
      "outputs": [
        {
          "output_type": "stream",
          "name": "stdout",
          "text": [
            "Looking in indexes: https://pypi.org/simple, https://us-python.pkg.dev/colab-wheels/public/simple/\n",
            "Collecting stellargraph\n",
            "  Downloading stellargraph-1.2.1-py3-none-any.whl (435 kB)\n",
            "\u001b[?25l     \u001b[90m━━━━━━━━━━━━━━━━━━━━━━━━━━━━━━━━━━━━━━━━\u001b[0m \u001b[32m0.0/435.2 KB\u001b[0m \u001b[31m?\u001b[0m eta \u001b[36m-:--:--\u001b[0m\r\u001b[2K     \u001b[90m━━━━━━━━━━━━━━━━━━━━━━━━━━━━━━━━━━━━━━\u001b[0m \u001b[32m435.2/435.2 KB\u001b[0m \u001b[31m19.2 MB/s\u001b[0m eta \u001b[36m0:00:00\u001b[0m\n",
            "\u001b[?25hRequirement already satisfied: numpy>=1.14 in /usr/local/lib/python3.8/dist-packages (from stellargraph) (1.21.6)\n",
            "Requirement already satisfied: matplotlib>=2.2 in /usr/local/lib/python3.8/dist-packages (from stellargraph) (3.2.2)\n",
            "Requirement already satisfied: gensim>=3.4.0 in /usr/local/lib/python3.8/dist-packages (from stellargraph) (3.6.0)\n",
            "Requirement already satisfied: scipy>=1.1.0 in /usr/local/lib/python3.8/dist-packages (from stellargraph) (1.7.3)\n",
            "Requirement already satisfied: pandas>=0.24 in /usr/local/lib/python3.8/dist-packages (from stellargraph) (1.3.5)\n",
            "Requirement already satisfied: tensorflow>=2.1.0 in /usr/local/lib/python3.8/dist-packages (from stellargraph) (2.9.2)\n",
            "Requirement already satisfied: scikit-learn>=0.20 in /usr/local/lib/python3.8/dist-packages (from stellargraph) (1.0.2)\n",
            "Requirement already satisfied: networkx>=2.2 in /usr/local/lib/python3.8/dist-packages (from stellargraph) (2.8.8)\n",
            "Requirement already satisfied: smart-open>=1.2.1 in /usr/local/lib/python3.8/dist-packages (from gensim>=3.4.0->stellargraph) (6.3.0)\n",
            "Requirement already satisfied: six>=1.5.0 in /usr/local/lib/python3.8/dist-packages (from gensim>=3.4.0->stellargraph) (1.15.0)\n",
            "Requirement already satisfied: cycler>=0.10 in /usr/local/lib/python3.8/dist-packages (from matplotlib>=2.2->stellargraph) (0.11.0)\n",
            "Requirement already satisfied: python-dateutil>=2.1 in /usr/local/lib/python3.8/dist-packages (from matplotlib>=2.2->stellargraph) (2.8.2)\n",
            "Requirement already satisfied: kiwisolver>=1.0.1 in /usr/local/lib/python3.8/dist-packages (from matplotlib>=2.2->stellargraph) (1.4.4)\n",
            "Requirement already satisfied: pyparsing!=2.0.4,!=2.1.2,!=2.1.6,>=2.0.1 in /usr/local/lib/python3.8/dist-packages (from matplotlib>=2.2->stellargraph) (3.0.9)\n",
            "Requirement already satisfied: pytz>=2017.3 in /usr/local/lib/python3.8/dist-packages (from pandas>=0.24->stellargraph) (2022.7)\n",
            "Requirement already satisfied: joblib>=0.11 in /usr/local/lib/python3.8/dist-packages (from scikit-learn>=0.20->stellargraph) (1.2.0)\n",
            "Requirement already satisfied: threadpoolctl>=2.0.0 in /usr/local/lib/python3.8/dist-packages (from scikit-learn>=0.20->stellargraph) (3.1.0)\n",
            "Requirement already satisfied: flatbuffers<2,>=1.12 in /usr/local/lib/python3.8/dist-packages (from tensorflow>=2.1.0->stellargraph) (1.12)\n",
            "Requirement already satisfied: tensorboard<2.10,>=2.9 in /usr/local/lib/python3.8/dist-packages (from tensorflow>=2.1.0->stellargraph) (2.9.1)\n",
            "Requirement already satisfied: tensorflow-io-gcs-filesystem>=0.23.1 in /usr/local/lib/python3.8/dist-packages (from tensorflow>=2.1.0->stellargraph) (0.29.0)\n",
            "Requirement already satisfied: absl-py>=1.0.0 in /usr/local/lib/python3.8/dist-packages (from tensorflow>=2.1.0->stellargraph) (1.3.0)\n",
            "Requirement already satisfied: keras-preprocessing>=1.1.1 in /usr/local/lib/python3.8/dist-packages (from tensorflow>=2.1.0->stellargraph) (1.1.2)\n",
            "Requirement already satisfied: keras<2.10.0,>=2.9.0rc0 in /usr/local/lib/python3.8/dist-packages (from tensorflow>=2.1.0->stellargraph) (2.9.0)\n",
            "Requirement already satisfied: h5py>=2.9.0 in /usr/local/lib/python3.8/dist-packages (from tensorflow>=2.1.0->stellargraph) (3.1.0)\n",
            "Requirement already satisfied: termcolor>=1.1.0 in /usr/local/lib/python3.8/dist-packages (from tensorflow>=2.1.0->stellargraph) (2.2.0)\n",
            "Requirement already satisfied: setuptools in /usr/local/lib/python3.8/dist-packages (from tensorflow>=2.1.0->stellargraph) (57.4.0)\n",
            "Requirement already satisfied: protobuf<3.20,>=3.9.2 in /usr/local/lib/python3.8/dist-packages (from tensorflow>=2.1.0->stellargraph) (3.19.6)\n",
            "Requirement already satisfied: typing-extensions>=3.6.6 in /usr/local/lib/python3.8/dist-packages (from tensorflow>=2.1.0->stellargraph) (4.4.0)\n",
            "Requirement already satisfied: gast<=0.4.0,>=0.2.1 in /usr/local/lib/python3.8/dist-packages (from tensorflow>=2.1.0->stellargraph) (0.4.0)\n",
            "Requirement already satisfied: opt-einsum>=2.3.2 in /usr/local/lib/python3.8/dist-packages (from tensorflow>=2.1.0->stellargraph) (3.3.0)\n",
            "Requirement already satisfied: tensorflow-estimator<2.10.0,>=2.9.0rc0 in /usr/local/lib/python3.8/dist-packages (from tensorflow>=2.1.0->stellargraph) (2.9.0)\n",
            "Requirement already satisfied: grpcio<2.0,>=1.24.3 in /usr/local/lib/python3.8/dist-packages (from tensorflow>=2.1.0->stellargraph) (1.51.1)\n",
            "Requirement already satisfied: wrapt>=1.11.0 in /usr/local/lib/python3.8/dist-packages (from tensorflow>=2.1.0->stellargraph) (1.14.1)\n",
            "Requirement already satisfied: libclang>=13.0.0 in /usr/local/lib/python3.8/dist-packages (from tensorflow>=2.1.0->stellargraph) (14.0.6)\n",
            "Requirement already satisfied: packaging in /usr/local/lib/python3.8/dist-packages (from tensorflow>=2.1.0->stellargraph) (21.3)\n",
            "Requirement already satisfied: google-pasta>=0.1.1 in /usr/local/lib/python3.8/dist-packages (from tensorflow>=2.1.0->stellargraph) (0.2.0)\n",
            "Requirement already satisfied: astunparse>=1.6.0 in /usr/local/lib/python3.8/dist-packages (from tensorflow>=2.1.0->stellargraph) (1.6.3)\n",
            "Requirement already satisfied: wheel<1.0,>=0.23.0 in /usr/local/lib/python3.8/dist-packages (from astunparse>=1.6.0->tensorflow>=2.1.0->stellargraph) (0.38.4)\n",
            "Requirement already satisfied: werkzeug>=1.0.1 in /usr/local/lib/python3.8/dist-packages (from tensorboard<2.10,>=2.9->tensorflow>=2.1.0->stellargraph) (1.0.1)\n",
            "Requirement already satisfied: markdown>=2.6.8 in /usr/local/lib/python3.8/dist-packages (from tensorboard<2.10,>=2.9->tensorflow>=2.1.0->stellargraph) (3.4.1)\n",
            "Requirement already satisfied: requests<3,>=2.21.0 in /usr/local/lib/python3.8/dist-packages (from tensorboard<2.10,>=2.9->tensorflow>=2.1.0->stellargraph) (2.25.1)\n",
            "Requirement already satisfied: google-auth-oauthlib<0.5,>=0.4.1 in /usr/local/lib/python3.8/dist-packages (from tensorboard<2.10,>=2.9->tensorflow>=2.1.0->stellargraph) (0.4.6)\n",
            "Requirement already satisfied: tensorboard-plugin-wit>=1.6.0 in /usr/local/lib/python3.8/dist-packages (from tensorboard<2.10,>=2.9->tensorflow>=2.1.0->stellargraph) (1.8.1)\n",
            "Requirement already satisfied: tensorboard-data-server<0.7.0,>=0.6.0 in /usr/local/lib/python3.8/dist-packages (from tensorboard<2.10,>=2.9->tensorflow>=2.1.0->stellargraph) (0.6.1)\n",
            "Requirement already satisfied: google-auth<3,>=1.6.3 in /usr/local/lib/python3.8/dist-packages (from tensorboard<2.10,>=2.9->tensorflow>=2.1.0->stellargraph) (2.15.0)\n",
            "Requirement already satisfied: cachetools<6.0,>=2.0.0 in /usr/local/lib/python3.8/dist-packages (from google-auth<3,>=1.6.3->tensorboard<2.10,>=2.9->tensorflow>=2.1.0->stellargraph) (5.2.0)\n",
            "Requirement already satisfied: pyasn1-modules>=0.2.1 in /usr/local/lib/python3.8/dist-packages (from google-auth<3,>=1.6.3->tensorboard<2.10,>=2.9->tensorflow>=2.1.0->stellargraph) (0.2.8)\n",
            "Requirement already satisfied: rsa<5,>=3.1.4 in /usr/local/lib/python3.8/dist-packages (from google-auth<3,>=1.6.3->tensorboard<2.10,>=2.9->tensorflow>=2.1.0->stellargraph) (4.9)\n",
            "Requirement already satisfied: requests-oauthlib>=0.7.0 in /usr/local/lib/python3.8/dist-packages (from google-auth-oauthlib<0.5,>=0.4.1->tensorboard<2.10,>=2.9->tensorflow>=2.1.0->stellargraph) (1.3.1)\n",
            "Requirement already satisfied: importlib-metadata>=4.4 in /usr/local/lib/python3.8/dist-packages (from markdown>=2.6.8->tensorboard<2.10,>=2.9->tensorflow>=2.1.0->stellargraph) (6.0.0)\n",
            "Requirement already satisfied: urllib3<1.27,>=1.21.1 in /usr/local/lib/python3.8/dist-packages (from requests<3,>=2.21.0->tensorboard<2.10,>=2.9->tensorflow>=2.1.0->stellargraph) (1.24.3)\n",
            "Requirement already satisfied: chardet<5,>=3.0.2 in /usr/local/lib/python3.8/dist-packages (from requests<3,>=2.21.0->tensorboard<2.10,>=2.9->tensorflow>=2.1.0->stellargraph) (4.0.0)\n",
            "Requirement already satisfied: certifi>=2017.4.17 in /usr/local/lib/python3.8/dist-packages (from requests<3,>=2.21.0->tensorboard<2.10,>=2.9->tensorflow>=2.1.0->stellargraph) (2022.12.7)\n",
            "Requirement already satisfied: idna<3,>=2.5 in /usr/local/lib/python3.8/dist-packages (from requests<3,>=2.21.0->tensorboard<2.10,>=2.9->tensorflow>=2.1.0->stellargraph) (2.10)\n",
            "Requirement already satisfied: zipp>=0.5 in /usr/local/lib/python3.8/dist-packages (from importlib-metadata>=4.4->markdown>=2.6.8->tensorboard<2.10,>=2.9->tensorflow>=2.1.0->stellargraph) (3.11.0)\n",
            "Requirement already satisfied: pyasn1<0.5.0,>=0.4.6 in /usr/local/lib/python3.8/dist-packages (from pyasn1-modules>=0.2.1->google-auth<3,>=1.6.3->tensorboard<2.10,>=2.9->tensorflow>=2.1.0->stellargraph) (0.4.8)\n",
            "Requirement already satisfied: oauthlib>=3.0.0 in /usr/local/lib/python3.8/dist-packages (from requests-oauthlib>=0.7.0->google-auth-oauthlib<0.5,>=0.4.1->tensorboard<2.10,>=2.9->tensorflow>=2.1.0->stellargraph) (3.2.2)\n",
            "Installing collected packages: stellargraph\n",
            "Successfully installed stellargraph-1.2.1\n"
          ]
        }
      ]
    },
    {
      "cell_type": "code",
      "source": [
        "!pip install networkx==2.3"
      ],
      "metadata": {
        "colab": {
          "base_uri": "https://localhost:8080/"
        },
        "id": "gytlTl_8i6mF",
        "outputId": "9d356eb4-be37-45ef-b0db-8e37a4ec7201"
      },
      "execution_count": 2,
      "outputs": [
        {
          "output_type": "stream",
          "name": "stdout",
          "text": [
            "Looking in indexes: https://pypi.org/simple, https://us-python.pkg.dev/colab-wheels/public/simple/\n",
            "Collecting networkx==2.3\n",
            "  Downloading networkx-2.3.zip (1.7 MB)\n",
            "\u001b[2K     \u001b[90m━━━━━━━━━━━━━━━━━━━━━━━━━━━━━━━━━━━━━━━━\u001b[0m \u001b[32m1.7/1.7 MB\u001b[0m \u001b[31m46.9 MB/s\u001b[0m eta \u001b[36m0:00:00\u001b[0m\n",
            "\u001b[?25h  Preparing metadata (setup.py) ... \u001b[?25l\u001b[?25hdone\n",
            "Requirement already satisfied: decorator>=4.3.0 in /usr/local/lib/python3.8/dist-packages (from networkx==2.3) (4.4.2)\n",
            "Building wheels for collected packages: networkx\n",
            "  Building wheel for networkx (setup.py) ... \u001b[?25l\u001b[?25hdone\n",
            "  Created wheel for networkx: filename=networkx-2.3-py2.py3-none-any.whl size=1556009 sha256=1421fc0a25ca4de3dc4531e059d0c0d21689db6ea2e3f2f86cd1bf48ff45ad4c\n",
            "  Stored in directory: /root/.cache/pip/wheels/ff/62/9e/0ed2d25fd4f5761e2d19568cda0c32716556dfa682e65ecf64\n",
            "Successfully built networkx\n",
            "Installing collected packages: networkx\n",
            "  Attempting uninstall: networkx\n",
            "    Found existing installation: networkx 2.8.8\n",
            "    Uninstalling networkx-2.8.8:\n",
            "      Successfully uninstalled networkx-2.8.8\n",
            "Successfully installed networkx-2.3\n"
          ]
        }
      ]
    },
    {
      "cell_type": "code",
      "source": [
        "# importing all necessary libraries\n",
        "import networkx as nx\n",
        "import pandas as pd\n",
        "import numpy as np\n",
        "import matplotlib.pyplot as plt\n",
        "import seaborn as sns\n",
        "import string\n",
        "import os\n",
        "import networkx as nx\n",
        "import stellargraph as sg\n",
        "from stellargraph import StellarGraph\n",
        "from sklearn import preprocessing, model_selection\n",
        "from IPython.display import display, HTML\n",
        "import matplotlib.pyplot as plt\n",
        "from sklearn.decomposition import PCA\n",
        "#from node2vec import Node2Vec as n2v\n",
        "sns.set()\n",
        "\n",
        "%matplotlib inline"
      ],
      "metadata": {
        "id": "QnCy6AgP5iwy"
      },
      "execution_count": 3,
      "outputs": []
    },
    {
      "cell_type": "code",
      "source": [
        "#importing libraries\n",
        "import numpy as np\n",
        "import pandas as pd\n",
        "import nltk\n",
        "import matplotlib.pyplot as plt\n",
        "import statistics\n",
        "import math\n",
        "import os\n",
        "from sklearn.model_selection import KFold, StratifiedKFold, cross_val_score\n",
        "from sklearn.metrics import confusion_matrix\n",
        "nltk.download('stopwords')\n",
        "nltk.download('punkt')\n",
        "nltk.download('wordnet')\n",
        "nltk.download('omw-1.4')\n",
        "\n",
        "import re\n",
        "pd.set_option('max_colwidth', 800)\n",
        "\n",
        "\n",
        "#importing Libraies\n",
        "import networkx as nx\n",
        "import matplotlib.pyplot as plt\n",
        "from numpy import genfromtxt\n",
        "import collections\n",
        "from collections import OrderedDict\n",
        "\n",
        "import matplotlib.pyplot as plt\n",
        "%matplotlib inline\n",
        "from sklearn.model_selection import train_test_split\n",
        "from sklearn.model_selection import KFold\n",
        "from sklearn.model_selection import cross_val_score\n",
        "from sklearn.tree import DecisionTreeClassifier\n",
        "from sklearn.feature_selection import SelectFromModel\n",
        "from sklearn.svm import SVC\n",
        "from sklearn.preprocessing import StandardScaler,MinMaxScaler\n",
        "from sklearn.linear_model import LinearRegression,LogisticRegression, RidgeClassifier\n",
        "from sklearn.discriminant_analysis import LinearDiscriminantAnalysis, QuadraticDiscriminantAnalysis\n",
        "from sklearn.ensemble import RandomForestClassifier\n",
        "from sklearn.preprocessing import LabelEncoder\n",
        "from sklearn.metrics import classification_report,accuracy_score"
      ],
      "metadata": {
        "colab": {
          "base_uri": "https://localhost:8080/"
        },
        "id": "zvMyzp-I1CU6",
        "outputId": "18463a92-4484-4cc1-8fee-ae83cf78235a"
      },
      "execution_count": 4,
      "outputs": [
        {
          "output_type": "stream",
          "name": "stderr",
          "text": [
            "[nltk_data] Downloading package stopwords to /root/nltk_data...\n",
            "[nltk_data]   Unzipping corpora/stopwords.zip.\n",
            "[nltk_data] Downloading package punkt to /root/nltk_data...\n",
            "[nltk_data]   Unzipping tokenizers/punkt.zip.\n",
            "[nltk_data] Downloading package wordnet to /root/nltk_data...\n",
            "[nltk_data] Downloading package omw-1.4 to /root/nltk_data...\n"
          ]
        }
      ]
    },
    {
      "cell_type": "code",
      "source": [
        "#loading dataset\n",
        "df=pd.read_csv('/content/deceptive.csv')\n",
        "df.head()"
      ],
      "metadata": {
        "colab": {
          "base_uri": "https://localhost:8080/",
          "height": 614
        },
        "id": "56yBSCmN1CSB",
        "outputId": "dc1d5ba0-c8c5-4996-faad-8f708fd21283"
      },
      "execution_count": 5,
      "outputs": [
        {
          "output_type": "execute_result",
          "data": {
            "text/plain": [
              "  deceptive   hotel  polarity       source  \\\n",
              "0  truthful  conrad  positive  TripAdvisor   \n",
              "1  truthful   hyatt  positive  TripAdvisor   \n",
              "2  truthful   hyatt  positive  TripAdvisor   \n",
              "3  truthful    omni  positive  TripAdvisor   \n",
              "4  truthful   hyatt  positive  TripAdvisor   \n",
              "\n",
              "                                                                                                                                                                                                                                                                                                                                                                                                                                                                                                                                                                                                                                                                                                                                                                                                                              text  \\\n",
              "0                                                                                                                                                                                                                                    We stayed for a one night getaway with family on a thursday. Triple AAA rate of 173 was a steal. 7th floor room complete with 44in plasma TV bose stereo, voss and evian water, and gorgeous bathroom(no tub but was fine for us) Concierge was very helpful. You cannot beat this location... Only flaw was breakfast was pricey and service was very very slow(2hours for four kids and four adults on a friday morning) even though there were only two other tables in the restaurant. Food was very good so it was worth the wait. I would return in a heartbeat. A gem in chicago... \\n   \n",
              "1                                                                                                                                                                                                                                                                                                                                                                                                                                                                                                                                  Triple A rate with upgrade to view room was less than $200 which also included breakfast vouchers. Had a great view of river, lake, Wrigley Bldg. & Tribune Bldg. Most major restaurants, Shopping, Sightseeing attractions within walking distance. Large room with a very comfortable bed. \\n   \n",
              "2  This comes a little late as I'm finally catching up on my reviews from the past several months:) A dear friend and I stayed at the Hyatt Regency in late October 2007 for one night while visiting a friend and her husband from out of town. This hotel is perfect, IMO. Easy check in and check out. Lovely, clean, comfortable rooms with great views of the city. I know this area pretty well and it's very convenient to many downtown Chicago attractions. We had dinner and went clubing with our friends around Division St.. We had no problems getting cabs back and forth to the Hyatt and there's even public transportation right near by but we didn't bother since we only needed cabs from and to the hotel. Parking, as is usual for Chicago, was expensive but we were able to get our car out quickly (h...   \n",
              "3                                                                                             The Omni Chicago really delivers on all fronts, from the spaciousness of the rooms to the helpful staff to the prized location on Michigan Avenue. While this address in Chicago requires a high level of quality, the Omni delivers. Check in for myself and a whole group of people with me was under 3 minutes, the staff had plentiful recommendations for dining and events, and the rooms are some of the largest you'll find at this price range in Chicago. Even the 'standard' room has a separate living area and work desk. The fitness center has free weights, weight machines, and two rows of cardio equipment. I shared the room with 7 others and did not feel cramped in any way! All in all, a great property! \\n   \n",
              "4                                                                                                                                                                                                                                                                                                                                                                                                                                I asked for a high floor away from the elevator and that is what I got. The room was pleasantly decorated, functional and very clean. I didn't need a whole lot of service but when I did they were pleasant and prompt. I used the fitness center which was well equipped and everything was in working order. It is in a great location at one end of the Michigan Avenue shopping district. \\n   \n",
              "\n",
              "   Class  \n",
              "0      1  \n",
              "1      1  \n",
              "2      1  \n",
              "3      1  \n",
              "4      1  "
            ],
            "text/html": [
              "\n",
              "  <div id=\"df-133d0587-a644-45f7-80d1-61c285f46239\">\n",
              "    <div class=\"colab-df-container\">\n",
              "      <div>\n",
              "<style scoped>\n",
              "    .dataframe tbody tr th:only-of-type {\n",
              "        vertical-align: middle;\n",
              "    }\n",
              "\n",
              "    .dataframe tbody tr th {\n",
              "        vertical-align: top;\n",
              "    }\n",
              "\n",
              "    .dataframe thead th {\n",
              "        text-align: right;\n",
              "    }\n",
              "</style>\n",
              "<table border=\"1\" class=\"dataframe\">\n",
              "  <thead>\n",
              "    <tr style=\"text-align: right;\">\n",
              "      <th></th>\n",
              "      <th>deceptive</th>\n",
              "      <th>hotel</th>\n",
              "      <th>polarity</th>\n",
              "      <th>source</th>\n",
              "      <th>text</th>\n",
              "      <th>Class</th>\n",
              "    </tr>\n",
              "  </thead>\n",
              "  <tbody>\n",
              "    <tr>\n",
              "      <th>0</th>\n",
              "      <td>truthful</td>\n",
              "      <td>conrad</td>\n",
              "      <td>positive</td>\n",
              "      <td>TripAdvisor</td>\n",
              "      <td>We stayed for a one night getaway with family on a thursday. Triple AAA rate of 173 was a steal. 7th floor room complete with 44in plasma TV bose stereo, voss and evian water, and gorgeous bathroom(no tub but was fine for us) Concierge was very helpful. You cannot beat this location... Only flaw was breakfast was pricey and service was very very slow(2hours for four kids and four adults on a friday morning) even though there were only two other tables in the restaurant. Food was very good so it was worth the wait. I would return in a heartbeat. A gem in chicago... \\n</td>\n",
              "      <td>1</td>\n",
              "    </tr>\n",
              "    <tr>\n",
              "      <th>1</th>\n",
              "      <td>truthful</td>\n",
              "      <td>hyatt</td>\n",
              "      <td>positive</td>\n",
              "      <td>TripAdvisor</td>\n",
              "      <td>Triple A rate with upgrade to view room was less than $200 which also included breakfast vouchers. Had a great view of river, lake, Wrigley Bldg. &amp; Tribune Bldg. Most major restaurants, Shopping, Sightseeing attractions within walking distance. Large room with a very comfortable bed. \\n</td>\n",
              "      <td>1</td>\n",
              "    </tr>\n",
              "    <tr>\n",
              "      <th>2</th>\n",
              "      <td>truthful</td>\n",
              "      <td>hyatt</td>\n",
              "      <td>positive</td>\n",
              "      <td>TripAdvisor</td>\n",
              "      <td>This comes a little late as I'm finally catching up on my reviews from the past several months:) A dear friend and I stayed at the Hyatt Regency in late October 2007 for one night while visiting a friend and her husband from out of town. This hotel is perfect, IMO. Easy check in and check out. Lovely, clean, comfortable rooms with great views of the city. I know this area pretty well and it's very convenient to many downtown Chicago attractions. We had dinner and went clubing with our friends around Division St.. We had no problems getting cabs back and forth to the Hyatt and there's even public transportation right near by but we didn't bother since we only needed cabs from and to the hotel. Parking, as is usual for Chicago, was expensive but we were able to get our car out quickly (h...</td>\n",
              "      <td>1</td>\n",
              "    </tr>\n",
              "    <tr>\n",
              "      <th>3</th>\n",
              "      <td>truthful</td>\n",
              "      <td>omni</td>\n",
              "      <td>positive</td>\n",
              "      <td>TripAdvisor</td>\n",
              "      <td>The Omni Chicago really delivers on all fronts, from the spaciousness of the rooms to the helpful staff to the prized location on Michigan Avenue. While this address in Chicago requires a high level of quality, the Omni delivers. Check in for myself and a whole group of people with me was under 3 minutes, the staff had plentiful recommendations for dining and events, and the rooms are some of the largest you'll find at this price range in Chicago. Even the 'standard' room has a separate living area and work desk. The fitness center has free weights, weight machines, and two rows of cardio equipment. I shared the room with 7 others and did not feel cramped in any way! All in all, a great property! \\n</td>\n",
              "      <td>1</td>\n",
              "    </tr>\n",
              "    <tr>\n",
              "      <th>4</th>\n",
              "      <td>truthful</td>\n",
              "      <td>hyatt</td>\n",
              "      <td>positive</td>\n",
              "      <td>TripAdvisor</td>\n",
              "      <td>I asked for a high floor away from the elevator and that is what I got. The room was pleasantly decorated, functional and very clean. I didn't need a whole lot of service but when I did they were pleasant and prompt. I used the fitness center which was well equipped and everything was in working order. It is in a great location at one end of the Michigan Avenue shopping district. \\n</td>\n",
              "      <td>1</td>\n",
              "    </tr>\n",
              "  </tbody>\n",
              "</table>\n",
              "</div>\n",
              "      <button class=\"colab-df-convert\" onclick=\"convertToInteractive('df-133d0587-a644-45f7-80d1-61c285f46239')\"\n",
              "              title=\"Convert this dataframe to an interactive table.\"\n",
              "              style=\"display:none;\">\n",
              "        \n",
              "  <svg xmlns=\"http://www.w3.org/2000/svg\" height=\"24px\"viewBox=\"0 0 24 24\"\n",
              "       width=\"24px\">\n",
              "    <path d=\"M0 0h24v24H0V0z\" fill=\"none\"/>\n",
              "    <path d=\"M18.56 5.44l.94 2.06.94-2.06 2.06-.94-2.06-.94-.94-2.06-.94 2.06-2.06.94zm-11 1L8.5 8.5l.94-2.06 2.06-.94-2.06-.94L8.5 2.5l-.94 2.06-2.06.94zm10 10l.94 2.06.94-2.06 2.06-.94-2.06-.94-.94-2.06-.94 2.06-2.06.94z\"/><path d=\"M17.41 7.96l-1.37-1.37c-.4-.4-.92-.59-1.43-.59-.52 0-1.04.2-1.43.59L10.3 9.45l-7.72 7.72c-.78.78-.78 2.05 0 2.83L4 21.41c.39.39.9.59 1.41.59.51 0 1.02-.2 1.41-.59l7.78-7.78 2.81-2.81c.8-.78.8-2.07 0-2.86zM5.41 20L4 18.59l7.72-7.72 1.47 1.35L5.41 20z\"/>\n",
              "  </svg>\n",
              "      </button>\n",
              "      \n",
              "  <style>\n",
              "    .colab-df-container {\n",
              "      display:flex;\n",
              "      flex-wrap:wrap;\n",
              "      gap: 12px;\n",
              "    }\n",
              "\n",
              "    .colab-df-convert {\n",
              "      background-color: #E8F0FE;\n",
              "      border: none;\n",
              "      border-radius: 50%;\n",
              "      cursor: pointer;\n",
              "      display: none;\n",
              "      fill: #1967D2;\n",
              "      height: 32px;\n",
              "      padding: 0 0 0 0;\n",
              "      width: 32px;\n",
              "    }\n",
              "\n",
              "    .colab-df-convert:hover {\n",
              "      background-color: #E2EBFA;\n",
              "      box-shadow: 0px 1px 2px rgba(60, 64, 67, 0.3), 0px 1px 3px 1px rgba(60, 64, 67, 0.15);\n",
              "      fill: #174EA6;\n",
              "    }\n",
              "\n",
              "    [theme=dark] .colab-df-convert {\n",
              "      background-color: #3B4455;\n",
              "      fill: #D2E3FC;\n",
              "    }\n",
              "\n",
              "    [theme=dark] .colab-df-convert:hover {\n",
              "      background-color: #434B5C;\n",
              "      box-shadow: 0px 1px 3px 1px rgba(0, 0, 0, 0.15);\n",
              "      filter: drop-shadow(0px 1px 2px rgba(0, 0, 0, 0.3));\n",
              "      fill: #FFFFFF;\n",
              "    }\n",
              "  </style>\n",
              "\n",
              "      <script>\n",
              "        const buttonEl =\n",
              "          document.querySelector('#df-133d0587-a644-45f7-80d1-61c285f46239 button.colab-df-convert');\n",
              "        buttonEl.style.display =\n",
              "          google.colab.kernel.accessAllowed ? 'block' : 'none';\n",
              "\n",
              "        async function convertToInteractive(key) {\n",
              "          const element = document.querySelector('#df-133d0587-a644-45f7-80d1-61c285f46239');\n",
              "          const dataTable =\n",
              "            await google.colab.kernel.invokeFunction('convertToInteractive',\n",
              "                                                     [key], {});\n",
              "          if (!dataTable) return;\n",
              "\n",
              "          const docLinkHtml = 'Like what you see? Visit the ' +\n",
              "            '<a target=\"_blank\" href=https://colab.research.google.com/notebooks/data_table.ipynb>data table notebook</a>'\n",
              "            + ' to learn more about interactive tables.';\n",
              "          element.innerHTML = '';\n",
              "          dataTable['output_type'] = 'display_data';\n",
              "          await google.colab.output.renderOutput(dataTable, element);\n",
              "          const docLink = document.createElement('div');\n",
              "          docLink.innerHTML = docLinkHtml;\n",
              "          element.appendChild(docLink);\n",
              "        }\n",
              "      </script>\n",
              "    </div>\n",
              "  </div>\n",
              "  "
            ]
          },
          "metadata": {},
          "execution_count": 5
        }
      ]
    },
    {
      "cell_type": "code",
      "source": [
        "df.shape"
      ],
      "metadata": {
        "colab": {
          "base_uri": "https://localhost:8080/"
        },
        "id": "L9sxSwAi1CPB",
        "outputId": "e972bab7-8669-44fc-b28e-ab43e324e81d"
      },
      "execution_count": 6,
      "outputs": [
        {
          "output_type": "execute_result",
          "data": {
            "text/plain": [
              "(1600, 6)"
            ]
          },
          "metadata": {},
          "execution_count": 6
        }
      ]
    },
    {
      "cell_type": "code",
      "source": [
        "df['Class'].value_counts()"
      ],
      "metadata": {
        "colab": {
          "base_uri": "https://localhost:8080/"
        },
        "id": "gIqg1tqk1CL5",
        "outputId": "7f6e313c-517a-4dc5-e6fc-a53ebb918389"
      },
      "execution_count": 7,
      "outputs": [
        {
          "output_type": "execute_result",
          "data": {
            "text/plain": [
              "1    800\n",
              "0    800\n",
              "Name: Class, dtype: int64"
            ]
          },
          "metadata": {},
          "execution_count": 7
        }
      ]
    },
    {
      "cell_type": "markdown",
      "source": [
        "### Data preprocessing"
      ],
      "metadata": {
        "id": "zu9xKf7K19vI"
      }
    },
    {
      "cell_type": "code",
      "source": [
        "# dropping unnecessary columns. \n",
        "df.drop(['deceptive', 'hotel', 'polarity', 'source'], axis = 1, inplace=True)\n",
        "df.head()"
      ],
      "metadata": {
        "colab": {
          "base_uri": "https://localhost:8080/",
          "height": 493
        },
        "id": "PCAf1wlZ1CI5",
        "outputId": "77e2b39f-0722-464f-ea8c-de76b886cc10"
      },
      "execution_count": 8,
      "outputs": [
        {
          "output_type": "execute_result",
          "data": {
            "text/plain": [
              "                                                                                                                                                                                                                                                                                                                                                                                                                                                                                                                                                                                                                                                                                                                                                                                                                              text  \\\n",
              "0                                                                                                                                                                                                                                    We stayed for a one night getaway with family on a thursday. Triple AAA rate of 173 was a steal. 7th floor room complete with 44in plasma TV bose stereo, voss and evian water, and gorgeous bathroom(no tub but was fine for us) Concierge was very helpful. You cannot beat this location... Only flaw was breakfast was pricey and service was very very slow(2hours for four kids and four adults on a friday morning) even though there were only two other tables in the restaurant. Food was very good so it was worth the wait. I would return in a heartbeat. A gem in chicago... \\n   \n",
              "1                                                                                                                                                                                                                                                                                                                                                                                                                                                                                                                                  Triple A rate with upgrade to view room was less than $200 which also included breakfast vouchers. Had a great view of river, lake, Wrigley Bldg. & Tribune Bldg. Most major restaurants, Shopping, Sightseeing attractions within walking distance. Large room with a very comfortable bed. \\n   \n",
              "2  This comes a little late as I'm finally catching up on my reviews from the past several months:) A dear friend and I stayed at the Hyatt Regency in late October 2007 for one night while visiting a friend and her husband from out of town. This hotel is perfect, IMO. Easy check in and check out. Lovely, clean, comfortable rooms with great views of the city. I know this area pretty well and it's very convenient to many downtown Chicago attractions. We had dinner and went clubing with our friends around Division St.. We had no problems getting cabs back and forth to the Hyatt and there's even public transportation right near by but we didn't bother since we only needed cabs from and to the hotel. Parking, as is usual for Chicago, was expensive but we were able to get our car out quickly (h...   \n",
              "3                                                                                             The Omni Chicago really delivers on all fronts, from the spaciousness of the rooms to the helpful staff to the prized location on Michigan Avenue. While this address in Chicago requires a high level of quality, the Omni delivers. Check in for myself and a whole group of people with me was under 3 minutes, the staff had plentiful recommendations for dining and events, and the rooms are some of the largest you'll find at this price range in Chicago. Even the 'standard' room has a separate living area and work desk. The fitness center has free weights, weight machines, and two rows of cardio equipment. I shared the room with 7 others and did not feel cramped in any way! All in all, a great property! \\n   \n",
              "4                                                                                                                                                                                                                                                                                                                                                                                                                                I asked for a high floor away from the elevator and that is what I got. The room was pleasantly decorated, functional and very clean. I didn't need a whole lot of service but when I did they were pleasant and prompt. I used the fitness center which was well equipped and everything was in working order. It is in a great location at one end of the Michigan Avenue shopping district. \\n   \n",
              "\n",
              "   Class  \n",
              "0      1  \n",
              "1      1  \n",
              "2      1  \n",
              "3      1  \n",
              "4      1  "
            ],
            "text/html": [
              "\n",
              "  <div id=\"df-9c9516d0-3691-48c3-9fe7-50d7107e2cff\">\n",
              "    <div class=\"colab-df-container\">\n",
              "      <div>\n",
              "<style scoped>\n",
              "    .dataframe tbody tr th:only-of-type {\n",
              "        vertical-align: middle;\n",
              "    }\n",
              "\n",
              "    .dataframe tbody tr th {\n",
              "        vertical-align: top;\n",
              "    }\n",
              "\n",
              "    .dataframe thead th {\n",
              "        text-align: right;\n",
              "    }\n",
              "</style>\n",
              "<table border=\"1\" class=\"dataframe\">\n",
              "  <thead>\n",
              "    <tr style=\"text-align: right;\">\n",
              "      <th></th>\n",
              "      <th>text</th>\n",
              "      <th>Class</th>\n",
              "    </tr>\n",
              "  </thead>\n",
              "  <tbody>\n",
              "    <tr>\n",
              "      <th>0</th>\n",
              "      <td>We stayed for a one night getaway with family on a thursday. Triple AAA rate of 173 was a steal. 7th floor room complete with 44in plasma TV bose stereo, voss and evian water, and gorgeous bathroom(no tub but was fine for us) Concierge was very helpful. You cannot beat this location... Only flaw was breakfast was pricey and service was very very slow(2hours for four kids and four adults on a friday morning) even though there were only two other tables in the restaurant. Food was very good so it was worth the wait. I would return in a heartbeat. A gem in chicago... \\n</td>\n",
              "      <td>1</td>\n",
              "    </tr>\n",
              "    <tr>\n",
              "      <th>1</th>\n",
              "      <td>Triple A rate with upgrade to view room was less than $200 which also included breakfast vouchers. Had a great view of river, lake, Wrigley Bldg. &amp; Tribune Bldg. Most major restaurants, Shopping, Sightseeing attractions within walking distance. Large room with a very comfortable bed. \\n</td>\n",
              "      <td>1</td>\n",
              "    </tr>\n",
              "    <tr>\n",
              "      <th>2</th>\n",
              "      <td>This comes a little late as I'm finally catching up on my reviews from the past several months:) A dear friend and I stayed at the Hyatt Regency in late October 2007 for one night while visiting a friend and her husband from out of town. This hotel is perfect, IMO. Easy check in and check out. Lovely, clean, comfortable rooms with great views of the city. I know this area pretty well and it's very convenient to many downtown Chicago attractions. We had dinner and went clubing with our friends around Division St.. We had no problems getting cabs back and forth to the Hyatt and there's even public transportation right near by but we didn't bother since we only needed cabs from and to the hotel. Parking, as is usual for Chicago, was expensive but we were able to get our car out quickly (h...</td>\n",
              "      <td>1</td>\n",
              "    </tr>\n",
              "    <tr>\n",
              "      <th>3</th>\n",
              "      <td>The Omni Chicago really delivers on all fronts, from the spaciousness of the rooms to the helpful staff to the prized location on Michigan Avenue. While this address in Chicago requires a high level of quality, the Omni delivers. Check in for myself and a whole group of people with me was under 3 minutes, the staff had plentiful recommendations for dining and events, and the rooms are some of the largest you'll find at this price range in Chicago. Even the 'standard' room has a separate living area and work desk. The fitness center has free weights, weight machines, and two rows of cardio equipment. I shared the room with 7 others and did not feel cramped in any way! All in all, a great property! \\n</td>\n",
              "      <td>1</td>\n",
              "    </tr>\n",
              "    <tr>\n",
              "      <th>4</th>\n",
              "      <td>I asked for a high floor away from the elevator and that is what I got. The room was pleasantly decorated, functional and very clean. I didn't need a whole lot of service but when I did they were pleasant and prompt. I used the fitness center which was well equipped and everything was in working order. It is in a great location at one end of the Michigan Avenue shopping district. \\n</td>\n",
              "      <td>1</td>\n",
              "    </tr>\n",
              "  </tbody>\n",
              "</table>\n",
              "</div>\n",
              "      <button class=\"colab-df-convert\" onclick=\"convertToInteractive('df-9c9516d0-3691-48c3-9fe7-50d7107e2cff')\"\n",
              "              title=\"Convert this dataframe to an interactive table.\"\n",
              "              style=\"display:none;\">\n",
              "        \n",
              "  <svg xmlns=\"http://www.w3.org/2000/svg\" height=\"24px\"viewBox=\"0 0 24 24\"\n",
              "       width=\"24px\">\n",
              "    <path d=\"M0 0h24v24H0V0z\" fill=\"none\"/>\n",
              "    <path d=\"M18.56 5.44l.94 2.06.94-2.06 2.06-.94-2.06-.94-.94-2.06-.94 2.06-2.06.94zm-11 1L8.5 8.5l.94-2.06 2.06-.94-2.06-.94L8.5 2.5l-.94 2.06-2.06.94zm10 10l.94 2.06.94-2.06 2.06-.94-2.06-.94-.94-2.06-.94 2.06-2.06.94z\"/><path d=\"M17.41 7.96l-1.37-1.37c-.4-.4-.92-.59-1.43-.59-.52 0-1.04.2-1.43.59L10.3 9.45l-7.72 7.72c-.78.78-.78 2.05 0 2.83L4 21.41c.39.39.9.59 1.41.59.51 0 1.02-.2 1.41-.59l7.78-7.78 2.81-2.81c.8-.78.8-2.07 0-2.86zM5.41 20L4 18.59l7.72-7.72 1.47 1.35L5.41 20z\"/>\n",
              "  </svg>\n",
              "      </button>\n",
              "      \n",
              "  <style>\n",
              "    .colab-df-container {\n",
              "      display:flex;\n",
              "      flex-wrap:wrap;\n",
              "      gap: 12px;\n",
              "    }\n",
              "\n",
              "    .colab-df-convert {\n",
              "      background-color: #E8F0FE;\n",
              "      border: none;\n",
              "      border-radius: 50%;\n",
              "      cursor: pointer;\n",
              "      display: none;\n",
              "      fill: #1967D2;\n",
              "      height: 32px;\n",
              "      padding: 0 0 0 0;\n",
              "      width: 32px;\n",
              "    }\n",
              "\n",
              "    .colab-df-convert:hover {\n",
              "      background-color: #E2EBFA;\n",
              "      box-shadow: 0px 1px 2px rgba(60, 64, 67, 0.3), 0px 1px 3px 1px rgba(60, 64, 67, 0.15);\n",
              "      fill: #174EA6;\n",
              "    }\n",
              "\n",
              "    [theme=dark] .colab-df-convert {\n",
              "      background-color: #3B4455;\n",
              "      fill: #D2E3FC;\n",
              "    }\n",
              "\n",
              "    [theme=dark] .colab-df-convert:hover {\n",
              "      background-color: #434B5C;\n",
              "      box-shadow: 0px 1px 3px 1px rgba(0, 0, 0, 0.15);\n",
              "      filter: drop-shadow(0px 1px 2px rgba(0, 0, 0, 0.3));\n",
              "      fill: #FFFFFF;\n",
              "    }\n",
              "  </style>\n",
              "\n",
              "      <script>\n",
              "        const buttonEl =\n",
              "          document.querySelector('#df-9c9516d0-3691-48c3-9fe7-50d7107e2cff button.colab-df-convert');\n",
              "        buttonEl.style.display =\n",
              "          google.colab.kernel.accessAllowed ? 'block' : 'none';\n",
              "\n",
              "        async function convertToInteractive(key) {\n",
              "          const element = document.querySelector('#df-9c9516d0-3691-48c3-9fe7-50d7107e2cff');\n",
              "          const dataTable =\n",
              "            await google.colab.kernel.invokeFunction('convertToInteractive',\n",
              "                                                     [key], {});\n",
              "          if (!dataTable) return;\n",
              "\n",
              "          const docLinkHtml = 'Like what you see? Visit the ' +\n",
              "            '<a target=\"_blank\" href=https://colab.research.google.com/notebooks/data_table.ipynb>data table notebook</a>'\n",
              "            + ' to learn more about interactive tables.';\n",
              "          element.innerHTML = '';\n",
              "          dataTable['output_type'] = 'display_data';\n",
              "          await google.colab.output.renderOutput(dataTable, element);\n",
              "          const docLink = document.createElement('div');\n",
              "          docLink.innerHTML = docLinkHtml;\n",
              "          element.appendChild(docLink);\n",
              "        }\n",
              "      </script>\n",
              "    </div>\n",
              "  </div>\n",
              "  "
            ]
          },
          "metadata": {},
          "execution_count": 8
        }
      ]
    },
    {
      "cell_type": "code",
      "source": [
        "# Cleaning Raw tweets\n",
        "def clean_text(text):\n",
        "    \n",
        "    #remove emails\n",
        "    text = ' '.join([i for i in text.split() if '@' not in i])\n",
        "    \n",
        "    #remove web address\n",
        "    text = re.sub('http[s]?://\\S+', '', text)\n",
        "\n",
        "    #remove brackets and parantheses (and removing the text inside the brackets and parantheses)\n",
        "    text = re.sub(\"[\\(\\[].*?[\\)\\]]\", \"\", text)\n",
        "\n",
        "    #remove punctuations\n",
        "    text = re.sub(r'[^\\w\\s]', ' ', text)\n",
        "    \n",
        "    #Filter to allow only alphabets and numbers\n",
        "    text = re.sub(r'[^a-zA-Z\\']', ' ', text)\n",
        "    \n",
        "    #Remove Unicode characters\n",
        "    text = re.sub(r'[^\\x00-\\x7F]+', '', text)\n",
        "\n",
        "    #remove double spaces \n",
        "    text = re.sub('\\s+', ' ', text)\n",
        "    \n",
        "    return text"
      ],
      "metadata": {
        "id": "iFvbHYi_1CFx"
      },
      "execution_count": 9,
      "outputs": []
    },
    {
      "cell_type": "code",
      "source": [
        "# applying that into function.\n",
        "df[\"clean_text\"] = df['text'].apply(lambda x: clean_text(x))\n",
        "df.head(10)"
      ],
      "metadata": {
        "colab": {
          "base_uri": "https://localhost:8080/",
          "height": 1000
        },
        "id": "v6Mp22wd1CCr",
        "outputId": "e00ba2cf-03ba-4758-9c1e-a772f5dc5b73"
      },
      "execution_count": 10,
      "outputs": [
        {
          "output_type": "execute_result",
          "data": {
            "text/plain": [
              "                                                                                                                                                                                                                                                                                                                                                                                                                                                                                                                                                                                                                                                                                                                                                                                                                              text  \\\n",
              "0                                                                                                                                                                                                                                    We stayed for a one night getaway with family on a thursday. Triple AAA rate of 173 was a steal. 7th floor room complete with 44in plasma TV bose stereo, voss and evian water, and gorgeous bathroom(no tub but was fine for us) Concierge was very helpful. You cannot beat this location... Only flaw was breakfast was pricey and service was very very slow(2hours for four kids and four adults on a friday morning) even though there were only two other tables in the restaurant. Food was very good so it was worth the wait. I would return in a heartbeat. A gem in chicago... \\n   \n",
              "1                                                                                                                                                                                                                                                                                                                                                                                                                                                                                                                                  Triple A rate with upgrade to view room was less than $200 which also included breakfast vouchers. Had a great view of river, lake, Wrigley Bldg. & Tribune Bldg. Most major restaurants, Shopping, Sightseeing attractions within walking distance. Large room with a very comfortable bed. \\n   \n",
              "2  This comes a little late as I'm finally catching up on my reviews from the past several months:) A dear friend and I stayed at the Hyatt Regency in late October 2007 for one night while visiting a friend and her husband from out of town. This hotel is perfect, IMO. Easy check in and check out. Lovely, clean, comfortable rooms with great views of the city. I know this area pretty well and it's very convenient to many downtown Chicago attractions. We had dinner and went clubing with our friends around Division St.. We had no problems getting cabs back and forth to the Hyatt and there's even public transportation right near by but we didn't bother since we only needed cabs from and to the hotel. Parking, as is usual for Chicago, was expensive but we were able to get our car out quickly (h...   \n",
              "3                                                                                             The Omni Chicago really delivers on all fronts, from the spaciousness of the rooms to the helpful staff to the prized location on Michigan Avenue. While this address in Chicago requires a high level of quality, the Omni delivers. Check in for myself and a whole group of people with me was under 3 minutes, the staff had plentiful recommendations for dining and events, and the rooms are some of the largest you'll find at this price range in Chicago. Even the 'standard' room has a separate living area and work desk. The fitness center has free weights, weight machines, and two rows of cardio equipment. I shared the room with 7 others and did not feel cramped in any way! All in all, a great property! \\n   \n",
              "4                                                                                                                                                                                                                                                                                                                                                                                                                                I asked for a high floor away from the elevator and that is what I got. The room was pleasantly decorated, functional and very clean. I didn't need a whole lot of service but when I did they were pleasant and prompt. I used the fitness center which was well equipped and everything was in working order. It is in a great location at one end of the Michigan Avenue shopping district. \\n   \n",
              "5  I stayed at the Omni for one night following a business meeting at another downtown Chicago hotel. I was completely impressed by the service; all personnel during my stay were absolutely outstanding. I checked in quite early (no problem) and was efficiently checked in. My room had a somewhat heavy scent of air freshener (the ONLY negative from the entire stay), which was managed reasonably well by opening the windows. I don't generally require much during my hotel stays, but suffice to say the doorman, housekeeping, the night manager and bartender at 676, the day waiter at 676, and the concierge were amazing - I never waited more than about 30 seconds for anything. The room was very comfy and the amenities were superior. One very tiny complaint - there was no wastebasket near the sink ...   \n",
              "6                                                                                                                                         We stayed in the Conrad for 4 nights just before Thanksgiving. We had a corner room overlooking N Michigan Av and the Tribune Building. To say this is a 5 star hotel is to damn this place with faint praise - it is wonderful. The staff were unbelievably helpful. The standard of the room was superb - HD plasma screens, luxury bedlinens, iPod radio, huge bathroom. Location is unbeatable - right in the heart of everything - watched the whole Light Festival parade from the window. Breakfasts were excellent - no help yourself buffet here - with full and attentive table service. Would have no hesitation recommending or staying again in this hotel - 5 out of 5. \\n   \n",
              "7                                                                             Just got back from 2 days up in Chicago shopping with girlfriends. First time I have stayed at the Omni. I did so because I saw a $129.00 rate that included $25.00 of free food on Travelzoo. The three of us (55 year olds) all stayed in one suite with 2 double beds and a VERY comfortable pull out sofa. We had plenty of room. Food in the restaurant was great, service was outstanding from everone we came into contact with, early morning delivery of free coffee, juice and hot chocolate was fabulous and recommendations from the staff on where to eat, time of movies, shopping areas, etc was really helpful. Need I mention the outstanding location? Simply the best! We all decided that the Omni is our new favorite hotel. \\n   \n",
              "8  We arrived at the Omni on 2nd September for a 6 day stay. I took ill when I left the plane after travelling from Manchester so I saw more of the room than I anticipated. I couldn't go out for 4 days. The room was spacious and clean. The bed was extremely comfortable. The bathroom was large and very clean. What more could you ask. We had coffee and juice left outside our door every morning at the time we requested. I managed to go to the 5th floor to see the sun terrace (outside the gym) Having a sun terrace in a city hotel is a great idea but the terrace was a bit grim. A few sunbeds on a concrete floor. There was also noise from an air conditioning unit. It could do with a bit of cheering up. What I saw of Chicago was very pleasing, it has something for everyone. Would I go back to th...   \n",
              "9                                                                                                                                                                                                                                                                                                                           On our visit to Chicago, we chose the Hyatt due to its location in downtown, within walking distance to most major attractions, such as Sears Tower, Magnificent Mile, Grant/Millenium Parks, etc. Subway & bus stops very close by to travel to other locations in the city . Overall the hotel was very nice, clean, and at a great location. Was in a safe area. Went to beautiful Wrigley Field and Soldier Field and saw both teams play. I love Chicago and would defenitely stay here again! \\n   \n",
              "\n",
              "   Class  \\\n",
              "0      1   \n",
              "1      1   \n",
              "2      1   \n",
              "3      1   \n",
              "4      1   \n",
              "5      1   \n",
              "6      1   \n",
              "7      1   \n",
              "8      1   \n",
              "9      1   \n",
              "\n",
              "                                                                                                                                                                                                                                                                                                                                                                                                                                                                                                                                                                                                                                                                                                                                                                                                                        clean_text  \n",
              "0                                                                                                                                                                                                                                                                                                                                                 We stayed for a one night getaway with family on a thursday Triple AAA rate of was a steal th floor room complete with in plasma TV bose stereo voss and evian water and gorgeous bathroom Concierge was very helpful You cannot beat this location Only flaw was breakfast was pricey and service was very very slow even though there were only two other tables in the restaurant Food was very good so it was worth the wait I would return in a heartbeat A gem in chicago   \n",
              "1                                                                                                                                                                                                                                                                                                                                                                                                                                                                                                                                                    Triple A rate with upgrade to view room was less than which also included breakfast vouchers Had a great view of river lake Wrigley Bldg Tribune Bldg Most major restaurants Shopping Sightseeing attractions within walking distance Large room with a very comfortable bed   \n",
              "2  This comes a little late as I m finally catching up on my reviews from the past several months A dear friend and I stayed at the Hyatt Regency in late October for one night while visiting a friend and her husband from out of town This hotel is perfect IMO Easy check in and check out Lovely clean comfortable rooms with great views of the city I know this area pretty well and it s very convenient to many downtown Chicago attractions We had dinner and went clubing with our friends around Division St We had no problems getting cabs back and forth to the Hyatt and there s even public transportation right near by but we didn t bother since we only needed cabs from and to the hotel Parking as is usual for Chicago was expensive but we were able to get our car out quickly No problems at all and...  \n",
              "3                                                                                                                   The Omni Chicago really delivers on all fronts from the spaciousness of the rooms to the helpful staff to the prized location on Michigan Avenue While this address in Chicago requires a high level of quality the Omni delivers Check in for myself and a whole group of people with me was under minutes the staff had plentiful recommendations for dining and events and the rooms are some of the largest you ll find at this price range in Chicago Even the standard room has a separate living area and work desk The fitness center has free weights weight machines and two rows of cardio equipment I shared the room with others and did not feel cramped in any way All in all a great property   \n",
              "4                                                                                                                                                                                                                                                                                                                                                                                                                                        I asked for a high floor away from the elevator and that is what I got The room was pleasantly decorated functional and very clean I didn t need a whole lot of service but when I did they were pleasant and prompt I used the fitness center which was well equipped and everything was in working order It is in a great location at one end of the Michigan Avenue shopping district   \n",
              "5  I stayed at the Omni for one night following a business meeting at another downtown Chicago hotel I was completely impressed by the service all personnel during my stay were absolutely outstanding I checked in quite early and was efficiently checked in My room had a somewhat heavy scent of air freshener which was managed reasonably well by opening the windows I don t generally require much during my hotel stays but suffice to say the doorman housekeeping the night manager and bartender at the day waiter at and the concierge were amazing I never waited more than about seconds for anything The room was very comfy and the amenities were superior One very tiny complaint there was no wastebasket near the sink or near the wet bar had to walk to the other end of the bathroom or sitting room t...  \n",
              "6                                                                                                                                                                            We stayed in the Conrad for nights just before Thanksgiving We had a corner room overlooking N Michigan Av and the Tribune Building To say this is a star hotel is to damn this place with faint praise it is wonderful The staff were unbelievably helpful The standard of the room was superb HD plasma screens luxury bedlinens iPod radio huge bathroom Location is unbeatable right in the heart of everything watched the whole Light Festival parade from the window Breakfasts were excellent no help yourself buffet here with full and attentive table service Would have no hesitation recommending or staying again in this hotel out of   \n",
              "7                                                                                                                                Just got back from days up in Chicago shopping with girlfriends First time I have stayed at the Omni I did so because I saw a rate that included of free food on Travelzoo The three of us all stayed in one suite with double beds and a VERY comfortable pull out sofa We had plenty of room Food in the restaurant was great service was outstanding from everone we came into contact with early morning delivery of free coffee juice and hot chocolate was fabulous and recommendations from the staff on where to eat time of movies shopping areas etc was really helpful Need I mention the outstanding location Simply the best We all decided that the Omni is our new favorite hotel   \n",
              "8                        We arrived at the Omni on nd September for a day stay I took ill when I left the plane after travelling from Manchester so I saw more of the room than I anticipated I couldn t go out for days The room was spacious and clean The bed was extremely comfortable The bathroom was large and very clean What more could you ask We had coffee and juice left outside our door every morning at the time we requested I managed to go to the th floor to see the sun terrace Having a sun terrace in a city hotel is a great idea but the terrace was a bit grim A few sunbeds on a concrete floor There was also noise from an air conditioning unit It could do with a bit of cheering up What I saw of Chicago was very pleasing it has something for everyone Would I go back to the Omni yes I would   \n",
              "9                                                                                                                                                                                                                                                                                                                                              On our visit to Chicago we chose the Hyatt due to its location in downtown within walking distance to most major attractions such as Sears Tower Magnificent Mile Grant Millenium Parks etc Subway bus stops very close by to travel to other locations in the city Overall the hotel was very nice clean and at a great location Was in a safe area Went to beautiful Wrigley Field and Soldier Field and saw both teams play I love Chicago and would defenitely stay here again   "
            ],
            "text/html": [
              "\n",
              "  <div id=\"df-85c2bf1a-ab37-4124-845c-4d730da9a26b\">\n",
              "    <div class=\"colab-df-container\">\n",
              "      <div>\n",
              "<style scoped>\n",
              "    .dataframe tbody tr th:only-of-type {\n",
              "        vertical-align: middle;\n",
              "    }\n",
              "\n",
              "    .dataframe tbody tr th {\n",
              "        vertical-align: top;\n",
              "    }\n",
              "\n",
              "    .dataframe thead th {\n",
              "        text-align: right;\n",
              "    }\n",
              "</style>\n",
              "<table border=\"1\" class=\"dataframe\">\n",
              "  <thead>\n",
              "    <tr style=\"text-align: right;\">\n",
              "      <th></th>\n",
              "      <th>text</th>\n",
              "      <th>Class</th>\n",
              "      <th>clean_text</th>\n",
              "    </tr>\n",
              "  </thead>\n",
              "  <tbody>\n",
              "    <tr>\n",
              "      <th>0</th>\n",
              "      <td>We stayed for a one night getaway with family on a thursday. Triple AAA rate of 173 was a steal. 7th floor room complete with 44in plasma TV bose stereo, voss and evian water, and gorgeous bathroom(no tub but was fine for us) Concierge was very helpful. You cannot beat this location... Only flaw was breakfast was pricey and service was very very slow(2hours for four kids and four adults on a friday morning) even though there were only two other tables in the restaurant. Food was very good so it was worth the wait. I would return in a heartbeat. A gem in chicago... \\n</td>\n",
              "      <td>1</td>\n",
              "      <td>We stayed for a one night getaway with family on a thursday Triple AAA rate of was a steal th floor room complete with in plasma TV bose stereo voss and evian water and gorgeous bathroom Concierge was very helpful You cannot beat this location Only flaw was breakfast was pricey and service was very very slow even though there were only two other tables in the restaurant Food was very good so it was worth the wait I would return in a heartbeat A gem in chicago</td>\n",
              "    </tr>\n",
              "    <tr>\n",
              "      <th>1</th>\n",
              "      <td>Triple A rate with upgrade to view room was less than $200 which also included breakfast vouchers. Had a great view of river, lake, Wrigley Bldg. &amp; Tribune Bldg. Most major restaurants, Shopping, Sightseeing attractions within walking distance. Large room with a very comfortable bed. \\n</td>\n",
              "      <td>1</td>\n",
              "      <td>Triple A rate with upgrade to view room was less than which also included breakfast vouchers Had a great view of river lake Wrigley Bldg Tribune Bldg Most major restaurants Shopping Sightseeing attractions within walking distance Large room with a very comfortable bed</td>\n",
              "    </tr>\n",
              "    <tr>\n",
              "      <th>2</th>\n",
              "      <td>This comes a little late as I'm finally catching up on my reviews from the past several months:) A dear friend and I stayed at the Hyatt Regency in late October 2007 for one night while visiting a friend and her husband from out of town. This hotel is perfect, IMO. Easy check in and check out. Lovely, clean, comfortable rooms with great views of the city. I know this area pretty well and it's very convenient to many downtown Chicago attractions. We had dinner and went clubing with our friends around Division St.. We had no problems getting cabs back and forth to the Hyatt and there's even public transportation right near by but we didn't bother since we only needed cabs from and to the hotel. Parking, as is usual for Chicago, was expensive but we were able to get our car out quickly (h...</td>\n",
              "      <td>1</td>\n",
              "      <td>This comes a little late as I m finally catching up on my reviews from the past several months A dear friend and I stayed at the Hyatt Regency in late October for one night while visiting a friend and her husband from out of town This hotel is perfect IMO Easy check in and check out Lovely clean comfortable rooms with great views of the city I know this area pretty well and it s very convenient to many downtown Chicago attractions We had dinner and went clubing with our friends around Division St We had no problems getting cabs back and forth to the Hyatt and there s even public transportation right near by but we didn t bother since we only needed cabs from and to the hotel Parking as is usual for Chicago was expensive but we were able to get our car out quickly No problems at all and...</td>\n",
              "    </tr>\n",
              "    <tr>\n",
              "      <th>3</th>\n",
              "      <td>The Omni Chicago really delivers on all fronts, from the spaciousness of the rooms to the helpful staff to the prized location on Michigan Avenue. While this address in Chicago requires a high level of quality, the Omni delivers. Check in for myself and a whole group of people with me was under 3 minutes, the staff had plentiful recommendations for dining and events, and the rooms are some of the largest you'll find at this price range in Chicago. Even the 'standard' room has a separate living area and work desk. The fitness center has free weights, weight machines, and two rows of cardio equipment. I shared the room with 7 others and did not feel cramped in any way! All in all, a great property! \\n</td>\n",
              "      <td>1</td>\n",
              "      <td>The Omni Chicago really delivers on all fronts from the spaciousness of the rooms to the helpful staff to the prized location on Michigan Avenue While this address in Chicago requires a high level of quality the Omni delivers Check in for myself and a whole group of people with me was under minutes the staff had plentiful recommendations for dining and events and the rooms are some of the largest you ll find at this price range in Chicago Even the standard room has a separate living area and work desk The fitness center has free weights weight machines and two rows of cardio equipment I shared the room with others and did not feel cramped in any way All in all a great property</td>\n",
              "    </tr>\n",
              "    <tr>\n",
              "      <th>4</th>\n",
              "      <td>I asked for a high floor away from the elevator and that is what I got. The room was pleasantly decorated, functional and very clean. I didn't need a whole lot of service but when I did they were pleasant and prompt. I used the fitness center which was well equipped and everything was in working order. It is in a great location at one end of the Michigan Avenue shopping district. \\n</td>\n",
              "      <td>1</td>\n",
              "      <td>I asked for a high floor away from the elevator and that is what I got The room was pleasantly decorated functional and very clean I didn t need a whole lot of service but when I did they were pleasant and prompt I used the fitness center which was well equipped and everything was in working order It is in a great location at one end of the Michigan Avenue shopping district</td>\n",
              "    </tr>\n",
              "    <tr>\n",
              "      <th>5</th>\n",
              "      <td>I stayed at the Omni for one night following a business meeting at another downtown Chicago hotel. I was completely impressed by the service; all personnel during my stay were absolutely outstanding. I checked in quite early (no problem) and was efficiently checked in. My room had a somewhat heavy scent of air freshener (the ONLY negative from the entire stay), which was managed reasonably well by opening the windows. I don't generally require much during my hotel stays, but suffice to say the doorman, housekeeping, the night manager and bartender at 676, the day waiter at 676, and the concierge were amazing - I never waited more than about 30 seconds for anything. The room was very comfy and the amenities were superior. One very tiny complaint - there was no wastebasket near the sink ...</td>\n",
              "      <td>1</td>\n",
              "      <td>I stayed at the Omni for one night following a business meeting at another downtown Chicago hotel I was completely impressed by the service all personnel during my stay were absolutely outstanding I checked in quite early and was efficiently checked in My room had a somewhat heavy scent of air freshener which was managed reasonably well by opening the windows I don t generally require much during my hotel stays but suffice to say the doorman housekeeping the night manager and bartender at the day waiter at and the concierge were amazing I never waited more than about seconds for anything The room was very comfy and the amenities were superior One very tiny complaint there was no wastebasket near the sink or near the wet bar had to walk to the other end of the bathroom or sitting room t...</td>\n",
              "    </tr>\n",
              "    <tr>\n",
              "      <th>6</th>\n",
              "      <td>We stayed in the Conrad for 4 nights just before Thanksgiving. We had a corner room overlooking N Michigan Av and the Tribune Building. To say this is a 5 star hotel is to damn this place with faint praise - it is wonderful. The staff were unbelievably helpful. The standard of the room was superb - HD plasma screens, luxury bedlinens, iPod radio, huge bathroom. Location is unbeatable - right in the heart of everything - watched the whole Light Festival parade from the window. Breakfasts were excellent - no help yourself buffet here - with full and attentive table service. Would have no hesitation recommending or staying again in this hotel - 5 out of 5. \\n</td>\n",
              "      <td>1</td>\n",
              "      <td>We stayed in the Conrad for nights just before Thanksgiving We had a corner room overlooking N Michigan Av and the Tribune Building To say this is a star hotel is to damn this place with faint praise it is wonderful The staff were unbelievably helpful The standard of the room was superb HD plasma screens luxury bedlinens iPod radio huge bathroom Location is unbeatable right in the heart of everything watched the whole Light Festival parade from the window Breakfasts were excellent no help yourself buffet here with full and attentive table service Would have no hesitation recommending or staying again in this hotel out of</td>\n",
              "    </tr>\n",
              "    <tr>\n",
              "      <th>7</th>\n",
              "      <td>Just got back from 2 days up in Chicago shopping with girlfriends. First time I have stayed at the Omni. I did so because I saw a $129.00 rate that included $25.00 of free food on Travelzoo. The three of us (55 year olds) all stayed in one suite with 2 double beds and a VERY comfortable pull out sofa. We had plenty of room. Food in the restaurant was great, service was outstanding from everone we came into contact with, early morning delivery of free coffee, juice and hot chocolate was fabulous and recommendations from the staff on where to eat, time of movies, shopping areas, etc was really helpful. Need I mention the outstanding location? Simply the best! We all decided that the Omni is our new favorite hotel. \\n</td>\n",
              "      <td>1</td>\n",
              "      <td>Just got back from days up in Chicago shopping with girlfriends First time I have stayed at the Omni I did so because I saw a rate that included of free food on Travelzoo The three of us all stayed in one suite with double beds and a VERY comfortable pull out sofa We had plenty of room Food in the restaurant was great service was outstanding from everone we came into contact with early morning delivery of free coffee juice and hot chocolate was fabulous and recommendations from the staff on where to eat time of movies shopping areas etc was really helpful Need I mention the outstanding location Simply the best We all decided that the Omni is our new favorite hotel</td>\n",
              "    </tr>\n",
              "    <tr>\n",
              "      <th>8</th>\n",
              "      <td>We arrived at the Omni on 2nd September for a 6 day stay. I took ill when I left the plane after travelling from Manchester so I saw more of the room than I anticipated. I couldn't go out for 4 days. The room was spacious and clean. The bed was extremely comfortable. The bathroom was large and very clean. What more could you ask. We had coffee and juice left outside our door every morning at the time we requested. I managed to go to the 5th floor to see the sun terrace (outside the gym) Having a sun terrace in a city hotel is a great idea but the terrace was a bit grim. A few sunbeds on a concrete floor. There was also noise from an air conditioning unit. It could do with a bit of cheering up. What I saw of Chicago was very pleasing, it has something for everyone. Would I go back to th...</td>\n",
              "      <td>1</td>\n",
              "      <td>We arrived at the Omni on nd September for a day stay I took ill when I left the plane after travelling from Manchester so I saw more of the room than I anticipated I couldn t go out for days The room was spacious and clean The bed was extremely comfortable The bathroom was large and very clean What more could you ask We had coffee and juice left outside our door every morning at the time we requested I managed to go to the th floor to see the sun terrace Having a sun terrace in a city hotel is a great idea but the terrace was a bit grim A few sunbeds on a concrete floor There was also noise from an air conditioning unit It could do with a bit of cheering up What I saw of Chicago was very pleasing it has something for everyone Would I go back to the Omni yes I would</td>\n",
              "    </tr>\n",
              "    <tr>\n",
              "      <th>9</th>\n",
              "      <td>On our visit to Chicago, we chose the Hyatt due to its location in downtown, within walking distance to most major attractions, such as Sears Tower, Magnificent Mile, Grant/Millenium Parks, etc. Subway &amp; bus stops very close by to travel to other locations in the city . Overall the hotel was very nice, clean, and at a great location. Was in a safe area. Went to beautiful Wrigley Field and Soldier Field and saw both teams play. I love Chicago and would defenitely stay here again! \\n</td>\n",
              "      <td>1</td>\n",
              "      <td>On our visit to Chicago we chose the Hyatt due to its location in downtown within walking distance to most major attractions such as Sears Tower Magnificent Mile Grant Millenium Parks etc Subway bus stops very close by to travel to other locations in the city Overall the hotel was very nice clean and at a great location Was in a safe area Went to beautiful Wrigley Field and Soldier Field and saw both teams play I love Chicago and would defenitely stay here again</td>\n",
              "    </tr>\n",
              "  </tbody>\n",
              "</table>\n",
              "</div>\n",
              "      <button class=\"colab-df-convert\" onclick=\"convertToInteractive('df-85c2bf1a-ab37-4124-845c-4d730da9a26b')\"\n",
              "              title=\"Convert this dataframe to an interactive table.\"\n",
              "              style=\"display:none;\">\n",
              "        \n",
              "  <svg xmlns=\"http://www.w3.org/2000/svg\" height=\"24px\"viewBox=\"0 0 24 24\"\n",
              "       width=\"24px\">\n",
              "    <path d=\"M0 0h24v24H0V0z\" fill=\"none\"/>\n",
              "    <path d=\"M18.56 5.44l.94 2.06.94-2.06 2.06-.94-2.06-.94-.94-2.06-.94 2.06-2.06.94zm-11 1L8.5 8.5l.94-2.06 2.06-.94-2.06-.94L8.5 2.5l-.94 2.06-2.06.94zm10 10l.94 2.06.94-2.06 2.06-.94-2.06-.94-.94-2.06-.94 2.06-2.06.94z\"/><path d=\"M17.41 7.96l-1.37-1.37c-.4-.4-.92-.59-1.43-.59-.52 0-1.04.2-1.43.59L10.3 9.45l-7.72 7.72c-.78.78-.78 2.05 0 2.83L4 21.41c.39.39.9.59 1.41.59.51 0 1.02-.2 1.41-.59l7.78-7.78 2.81-2.81c.8-.78.8-2.07 0-2.86zM5.41 20L4 18.59l7.72-7.72 1.47 1.35L5.41 20z\"/>\n",
              "  </svg>\n",
              "      </button>\n",
              "      \n",
              "  <style>\n",
              "    .colab-df-container {\n",
              "      display:flex;\n",
              "      flex-wrap:wrap;\n",
              "      gap: 12px;\n",
              "    }\n",
              "\n",
              "    .colab-df-convert {\n",
              "      background-color: #E8F0FE;\n",
              "      border: none;\n",
              "      border-radius: 50%;\n",
              "      cursor: pointer;\n",
              "      display: none;\n",
              "      fill: #1967D2;\n",
              "      height: 32px;\n",
              "      padding: 0 0 0 0;\n",
              "      width: 32px;\n",
              "    }\n",
              "\n",
              "    .colab-df-convert:hover {\n",
              "      background-color: #E2EBFA;\n",
              "      box-shadow: 0px 1px 2px rgba(60, 64, 67, 0.3), 0px 1px 3px 1px rgba(60, 64, 67, 0.15);\n",
              "      fill: #174EA6;\n",
              "    }\n",
              "\n",
              "    [theme=dark] .colab-df-convert {\n",
              "      background-color: #3B4455;\n",
              "      fill: #D2E3FC;\n",
              "    }\n",
              "\n",
              "    [theme=dark] .colab-df-convert:hover {\n",
              "      background-color: #434B5C;\n",
              "      box-shadow: 0px 1px 3px 1px rgba(0, 0, 0, 0.15);\n",
              "      filter: drop-shadow(0px 1px 2px rgba(0, 0, 0, 0.3));\n",
              "      fill: #FFFFFF;\n",
              "    }\n",
              "  </style>\n",
              "\n",
              "      <script>\n",
              "        const buttonEl =\n",
              "          document.querySelector('#df-85c2bf1a-ab37-4124-845c-4d730da9a26b button.colab-df-convert');\n",
              "        buttonEl.style.display =\n",
              "          google.colab.kernel.accessAllowed ? 'block' : 'none';\n",
              "\n",
              "        async function convertToInteractive(key) {\n",
              "          const element = document.querySelector('#df-85c2bf1a-ab37-4124-845c-4d730da9a26b');\n",
              "          const dataTable =\n",
              "            await google.colab.kernel.invokeFunction('convertToInteractive',\n",
              "                                                     [key], {});\n",
              "          if (!dataTable) return;\n",
              "\n",
              "          const docLinkHtml = 'Like what you see? Visit the ' +\n",
              "            '<a target=\"_blank\" href=https://colab.research.google.com/notebooks/data_table.ipynb>data table notebook</a>'\n",
              "            + ' to learn more about interactive tables.';\n",
              "          element.innerHTML = '';\n",
              "          dataTable['output_type'] = 'display_data';\n",
              "          await google.colab.output.renderOutput(dataTable, element);\n",
              "          const docLink = document.createElement('div');\n",
              "          docLink.innerHTML = docLinkHtml;\n",
              "          element.appendChild(docLink);\n",
              "        }\n",
              "      </script>\n",
              "    </div>\n",
              "  </div>\n",
              "  "
            ]
          },
          "metadata": {},
          "execution_count": 10
        }
      ]
    },
    {
      "cell_type": "code",
      "source": [
        "# dropping the uncleaned text column \"text\"\n",
        "df = df.drop(['text'], axis=1)"
      ],
      "metadata": {
        "id": "8Z23FwIO1B_Z"
      },
      "execution_count": 11,
      "outputs": []
    },
    {
      "cell_type": "code",
      "source": [
        "# renaming the column\n",
        "df.rename(columns = {'clean_text':'text'}, inplace = True)\n",
        "df.head()"
      ],
      "metadata": {
        "colab": {
          "base_uri": "https://localhost:8080/",
          "height": 475
        },
        "id": "PA6IV9PC1B8B",
        "outputId": "03ec48e4-206f-4500-ee82-4340a8a41123"
      },
      "execution_count": 12,
      "outputs": [
        {
          "output_type": "execute_result",
          "data": {
            "text/plain": [
              "   Class  \\\n",
              "0      1   \n",
              "1      1   \n",
              "2      1   \n",
              "3      1   \n",
              "4      1   \n",
              "\n",
              "                                                                                                                                                                                                                                                                                                                                                                                                                                                                                                                                                                                                                                                                                                                                                                                                                              text  \n",
              "0                                                                                                                                                                                                                                                                                                                                                 We stayed for a one night getaway with family on a thursday Triple AAA rate of was a steal th floor room complete with in plasma TV bose stereo voss and evian water and gorgeous bathroom Concierge was very helpful You cannot beat this location Only flaw was breakfast was pricey and service was very very slow even though there were only two other tables in the restaurant Food was very good so it was worth the wait I would return in a heartbeat A gem in chicago   \n",
              "1                                                                                                                                                                                                                                                                                                                                                                                                                                                                                                                                                    Triple A rate with upgrade to view room was less than which also included breakfast vouchers Had a great view of river lake Wrigley Bldg Tribune Bldg Most major restaurants Shopping Sightseeing attractions within walking distance Large room with a very comfortable bed   \n",
              "2  This comes a little late as I m finally catching up on my reviews from the past several months A dear friend and I stayed at the Hyatt Regency in late October for one night while visiting a friend and her husband from out of town This hotel is perfect IMO Easy check in and check out Lovely clean comfortable rooms with great views of the city I know this area pretty well and it s very convenient to many downtown Chicago attractions We had dinner and went clubing with our friends around Division St We had no problems getting cabs back and forth to the Hyatt and there s even public transportation right near by but we didn t bother since we only needed cabs from and to the hotel Parking as is usual for Chicago was expensive but we were able to get our car out quickly No problems at all and...  \n",
              "3                                                                                                                   The Omni Chicago really delivers on all fronts from the spaciousness of the rooms to the helpful staff to the prized location on Michigan Avenue While this address in Chicago requires a high level of quality the Omni delivers Check in for myself and a whole group of people with me was under minutes the staff had plentiful recommendations for dining and events and the rooms are some of the largest you ll find at this price range in Chicago Even the standard room has a separate living area and work desk The fitness center has free weights weight machines and two rows of cardio equipment I shared the room with others and did not feel cramped in any way All in all a great property   \n",
              "4                                                                                                                                                                                                                                                                                                                                                                                                                                        I asked for a high floor away from the elevator and that is what I got The room was pleasantly decorated functional and very clean I didn t need a whole lot of service but when I did they were pleasant and prompt I used the fitness center which was well equipped and everything was in working order It is in a great location at one end of the Michigan Avenue shopping district   "
            ],
            "text/html": [
              "\n",
              "  <div id=\"df-ae470797-adb0-4165-972a-13c6f6e9d73d\">\n",
              "    <div class=\"colab-df-container\">\n",
              "      <div>\n",
              "<style scoped>\n",
              "    .dataframe tbody tr th:only-of-type {\n",
              "        vertical-align: middle;\n",
              "    }\n",
              "\n",
              "    .dataframe tbody tr th {\n",
              "        vertical-align: top;\n",
              "    }\n",
              "\n",
              "    .dataframe thead th {\n",
              "        text-align: right;\n",
              "    }\n",
              "</style>\n",
              "<table border=\"1\" class=\"dataframe\">\n",
              "  <thead>\n",
              "    <tr style=\"text-align: right;\">\n",
              "      <th></th>\n",
              "      <th>Class</th>\n",
              "      <th>text</th>\n",
              "    </tr>\n",
              "  </thead>\n",
              "  <tbody>\n",
              "    <tr>\n",
              "      <th>0</th>\n",
              "      <td>1</td>\n",
              "      <td>We stayed for a one night getaway with family on a thursday Triple AAA rate of was a steal th floor room complete with in plasma TV bose stereo voss and evian water and gorgeous bathroom Concierge was very helpful You cannot beat this location Only flaw was breakfast was pricey and service was very very slow even though there were only two other tables in the restaurant Food was very good so it was worth the wait I would return in a heartbeat A gem in chicago</td>\n",
              "    </tr>\n",
              "    <tr>\n",
              "      <th>1</th>\n",
              "      <td>1</td>\n",
              "      <td>Triple A rate with upgrade to view room was less than which also included breakfast vouchers Had a great view of river lake Wrigley Bldg Tribune Bldg Most major restaurants Shopping Sightseeing attractions within walking distance Large room with a very comfortable bed</td>\n",
              "    </tr>\n",
              "    <tr>\n",
              "      <th>2</th>\n",
              "      <td>1</td>\n",
              "      <td>This comes a little late as I m finally catching up on my reviews from the past several months A dear friend and I stayed at the Hyatt Regency in late October for one night while visiting a friend and her husband from out of town This hotel is perfect IMO Easy check in and check out Lovely clean comfortable rooms with great views of the city I know this area pretty well and it s very convenient to many downtown Chicago attractions We had dinner and went clubing with our friends around Division St We had no problems getting cabs back and forth to the Hyatt and there s even public transportation right near by but we didn t bother since we only needed cabs from and to the hotel Parking as is usual for Chicago was expensive but we were able to get our car out quickly No problems at all and...</td>\n",
              "    </tr>\n",
              "    <tr>\n",
              "      <th>3</th>\n",
              "      <td>1</td>\n",
              "      <td>The Omni Chicago really delivers on all fronts from the spaciousness of the rooms to the helpful staff to the prized location on Michigan Avenue While this address in Chicago requires a high level of quality the Omni delivers Check in for myself and a whole group of people with me was under minutes the staff had plentiful recommendations for dining and events and the rooms are some of the largest you ll find at this price range in Chicago Even the standard room has a separate living area and work desk The fitness center has free weights weight machines and two rows of cardio equipment I shared the room with others and did not feel cramped in any way All in all a great property</td>\n",
              "    </tr>\n",
              "    <tr>\n",
              "      <th>4</th>\n",
              "      <td>1</td>\n",
              "      <td>I asked for a high floor away from the elevator and that is what I got The room was pleasantly decorated functional and very clean I didn t need a whole lot of service but when I did they were pleasant and prompt I used the fitness center which was well equipped and everything was in working order It is in a great location at one end of the Michigan Avenue shopping district</td>\n",
              "    </tr>\n",
              "  </tbody>\n",
              "</table>\n",
              "</div>\n",
              "      <button class=\"colab-df-convert\" onclick=\"convertToInteractive('df-ae470797-adb0-4165-972a-13c6f6e9d73d')\"\n",
              "              title=\"Convert this dataframe to an interactive table.\"\n",
              "              style=\"display:none;\">\n",
              "        \n",
              "  <svg xmlns=\"http://www.w3.org/2000/svg\" height=\"24px\"viewBox=\"0 0 24 24\"\n",
              "       width=\"24px\">\n",
              "    <path d=\"M0 0h24v24H0V0z\" fill=\"none\"/>\n",
              "    <path d=\"M18.56 5.44l.94 2.06.94-2.06 2.06-.94-2.06-.94-.94-2.06-.94 2.06-2.06.94zm-11 1L8.5 8.5l.94-2.06 2.06-.94-2.06-.94L8.5 2.5l-.94 2.06-2.06.94zm10 10l.94 2.06.94-2.06 2.06-.94-2.06-.94-.94-2.06-.94 2.06-2.06.94z\"/><path d=\"M17.41 7.96l-1.37-1.37c-.4-.4-.92-.59-1.43-.59-.52 0-1.04.2-1.43.59L10.3 9.45l-7.72 7.72c-.78.78-.78 2.05 0 2.83L4 21.41c.39.39.9.59 1.41.59.51 0 1.02-.2 1.41-.59l7.78-7.78 2.81-2.81c.8-.78.8-2.07 0-2.86zM5.41 20L4 18.59l7.72-7.72 1.47 1.35L5.41 20z\"/>\n",
              "  </svg>\n",
              "      </button>\n",
              "      \n",
              "  <style>\n",
              "    .colab-df-container {\n",
              "      display:flex;\n",
              "      flex-wrap:wrap;\n",
              "      gap: 12px;\n",
              "    }\n",
              "\n",
              "    .colab-df-convert {\n",
              "      background-color: #E8F0FE;\n",
              "      border: none;\n",
              "      border-radius: 50%;\n",
              "      cursor: pointer;\n",
              "      display: none;\n",
              "      fill: #1967D2;\n",
              "      height: 32px;\n",
              "      padding: 0 0 0 0;\n",
              "      width: 32px;\n",
              "    }\n",
              "\n",
              "    .colab-df-convert:hover {\n",
              "      background-color: #E2EBFA;\n",
              "      box-shadow: 0px 1px 2px rgba(60, 64, 67, 0.3), 0px 1px 3px 1px rgba(60, 64, 67, 0.15);\n",
              "      fill: #174EA6;\n",
              "    }\n",
              "\n",
              "    [theme=dark] .colab-df-convert {\n",
              "      background-color: #3B4455;\n",
              "      fill: #D2E3FC;\n",
              "    }\n",
              "\n",
              "    [theme=dark] .colab-df-convert:hover {\n",
              "      background-color: #434B5C;\n",
              "      box-shadow: 0px 1px 3px 1px rgba(0, 0, 0, 0.15);\n",
              "      filter: drop-shadow(0px 1px 2px rgba(0, 0, 0, 0.3));\n",
              "      fill: #FFFFFF;\n",
              "    }\n",
              "  </style>\n",
              "\n",
              "      <script>\n",
              "        const buttonEl =\n",
              "          document.querySelector('#df-ae470797-adb0-4165-972a-13c6f6e9d73d button.colab-df-convert');\n",
              "        buttonEl.style.display =\n",
              "          google.colab.kernel.accessAllowed ? 'block' : 'none';\n",
              "\n",
              "        async function convertToInteractive(key) {\n",
              "          const element = document.querySelector('#df-ae470797-adb0-4165-972a-13c6f6e9d73d');\n",
              "          const dataTable =\n",
              "            await google.colab.kernel.invokeFunction('convertToInteractive',\n",
              "                                                     [key], {});\n",
              "          if (!dataTable) return;\n",
              "\n",
              "          const docLinkHtml = 'Like what you see? Visit the ' +\n",
              "            '<a target=\"_blank\" href=https://colab.research.google.com/notebooks/data_table.ipynb>data table notebook</a>'\n",
              "            + ' to learn more about interactive tables.';\n",
              "          element.innerHTML = '';\n",
              "          dataTable['output_type'] = 'display_data';\n",
              "          await google.colab.output.renderOutput(dataTable, element);\n",
              "          const docLink = document.createElement('div');\n",
              "          docLink.innerHTML = docLinkHtml;\n",
              "          element.appendChild(docLink);\n",
              "        }\n",
              "      </script>\n",
              "    </div>\n",
              "  </div>\n",
              "  "
            ]
          },
          "metadata": {},
          "execution_count": 12
        }
      ]
    },
    {
      "cell_type": "code",
      "source": [
        "import spacy\n",
        "#loading the english language small model of spacy\n",
        "en = spacy.load('en_core_web_sm')\n",
        "sw_spacy = en.Defaults.stop_words\n",
        "print(sw_spacy)"
      ],
      "metadata": {
        "colab": {
          "base_uri": "https://localhost:8080/"
        },
        "id": "TS03aaDy1B4p",
        "outputId": "a64f8eca-94e1-4caa-ff79-3dafd9f5faa4"
      },
      "execution_count": 13,
      "outputs": [
        {
          "output_type": "stream",
          "name": "stderr",
          "text": [
            "/usr/local/lib/python3.8/dist-packages/torch/cuda/__init__.py:497: UserWarning: Can't initialize NVML\n",
            "  warnings.warn(\"Can't initialize NVML\")\n"
          ]
        },
        {
          "output_type": "stream",
          "name": "stdout",
          "text": [
            "{'please', 'else', 'something', 'seem', 'off', 'twelve', 'thereafter', 'throughout', 'part', 'whether', 'next', 'down', 'quite', 'any', 'last', 'always', 'being', 'besides', '‘re', 'keep', 'several', 'might', 'most', 'beside', 'front', 'into', 'none', 'has', 'for', 'four', 'is', '‘d', 'few', 'anywhere', 'via', 'about', 'namely', 'how', 'serious', 'done', 'until', 'hereafter', 'seems', 'whenever', 'cannot', 'latterly', 'there', 'behind', 'neither', 'mine', 'others', '’s', 'every', 'unless', 'say', 'to', 'empty', 'many', 'six', 'on', 'moreover', 'eleven', 'did', 'those', 'whereby', 'otherwise', 'whose', 'had', \"'ve\", 'everyone', 'show', 'take', 'should', 'just', 'nowhere', \"'d\", 'our', 'yourself', 'everything', 'own', 'were', 'then', 'amongst', '‘s', '’re', 'be', 'thence', 'yet', 'became', 'bottom', 'seeming', 'some', 'why', 'except', 'must', 'anyone', 'first', 'n’t', 'of', 'least', 'wherein', 'full', 'former', 'ourselves', 'us', 'whereupon', 'formerly', 'everywhere', 'if', 'therein', 'among', 'nobody', 'could', 're', 'whatever', 'more', 'too', 'other', 'up', 'give', 'although', 'often', 'nine', 'becoming', 'though', 'over', 'various', 'while', 'mostly', 'who', 'because', 'once', 'hundred', 'yourselves', 'even', 'still', 'have', 'see', 'can', 'within', 'he', 'but', 'name', 'hereupon', 'which', 'therefore', 'upon', 'during', 'elsewhere', 'without', 'after', 'or', 'doing', 'herein', 'each', 'hers', 'become', 'his', 'sometime', 'never', 'thereupon', 'whither', 'make', 'whence', 'together', 'regarding', 'thereby', 'one', 'ever', 'really', 'your', 'with', 'between', 'also', 'due', 'put', 'further', 'forty', 'you', 'me', 'two', 'she', 'go', 'been', 'thus', 'are', 'anyway', 'enough', 'beforehand', 'anyhow', 'them', 'we', 'wherever', 'alone', 'they', 'twenty', 'would', 'ca', 'nor', 'will', 'well', 'nevertheless', 'when', '‘ve', 'does', 'top', 'back', 'eight', 'my', 'side', 'may', 'her', 'through', 'was', 'myself', 'however', 'meanwhile', \"'re\", 'using', 'do', 'this', 'sixty', 'anything', 'whereafter', 'noone', '’ve', 'here', '‘m', 'since', 'before', 'under', 'either', 'used', 'himself', 'so', 'where', 'whoever', 'by', 'toward', 'the', 'thru', 'third', 'an', 'same', 'a', 'below', \"'m\", 'all', 'hence', '’m', 'out', 'move', 'sometimes', 'amount', 'get', 'afterwards', \"'s\", 'herself', 'fifteen', 'n‘t', 'very', '’ll', 'against', \"'ll\", 'above', 'and', 'towards', \"n't\", 'ten', 'call', 'in', 'both', 'three', 'perhaps', 'now', 'almost', 'i', 'latter', 'hereby', 'than', 'onto', 'somehow', 'as', 'becomes', 'no', 'rather', 'such', 'its', 'ours', 'itself', 'made', 'again', 'per', 'along', 'already', 'these', 'five', 'someone', 'less', '‘ll', 'seemed', 'it', 'another', 'somewhere', 'nothing', '’d', 'themselves', 'fifty', 'beyond', 'not', 'what', 'around', 'whom', 'only', 'whereas', 'whole', 'across', 'much', 'indeed', 'that', 'their', 'yours', 'at', 'from', 'am', 'him'}\n"
          ]
        }
      ]
    },
    {
      "cell_type": "code",
      "source": [
        "import nltk\n",
        "from nltk.corpus import stopwords\n",
        "sw_nltk = stopwords.words('english')\n",
        "print(sw_nltk)"
      ],
      "metadata": {
        "colab": {
          "base_uri": "https://localhost:8080/"
        },
        "id": "HQ43oOMR1B1N",
        "outputId": "2159de06-f8a5-4e9b-bf40-93b3a3457d26"
      },
      "execution_count": 14,
      "outputs": [
        {
          "output_type": "stream",
          "name": "stdout",
          "text": [
            "['i', 'me', 'my', 'myself', 'we', 'our', 'ours', 'ourselves', 'you', \"you're\", \"you've\", \"you'll\", \"you'd\", 'your', 'yours', 'yourself', 'yourselves', 'he', 'him', 'his', 'himself', 'she', \"she's\", 'her', 'hers', 'herself', 'it', \"it's\", 'its', 'itself', 'they', 'them', 'their', 'theirs', 'themselves', 'what', 'which', 'who', 'whom', 'this', 'that', \"that'll\", 'these', 'those', 'am', 'is', 'are', 'was', 'were', 'be', 'been', 'being', 'have', 'has', 'had', 'having', 'do', 'does', 'did', 'doing', 'a', 'an', 'the', 'and', 'but', 'if', 'or', 'because', 'as', 'until', 'while', 'of', 'at', 'by', 'for', 'with', 'about', 'against', 'between', 'into', 'through', 'during', 'before', 'after', 'above', 'below', 'to', 'from', 'up', 'down', 'in', 'out', 'on', 'off', 'over', 'under', 'again', 'further', 'then', 'once', 'here', 'there', 'when', 'where', 'why', 'how', 'all', 'any', 'both', 'each', 'few', 'more', 'most', 'other', 'some', 'such', 'no', 'nor', 'not', 'only', 'own', 'same', 'so', 'than', 'too', 'very', 's', 't', 'can', 'will', 'just', 'don', \"don't\", 'should', \"should've\", 'now', 'd', 'll', 'm', 'o', 're', 've', 'y', 'ain', 'aren', \"aren't\", 'couldn', \"couldn't\", 'didn', \"didn't\", 'doesn', \"doesn't\", 'hadn', \"hadn't\", 'hasn', \"hasn't\", 'haven', \"haven't\", 'isn', \"isn't\", 'ma', 'mightn', \"mightn't\", 'mustn', \"mustn't\", 'needn', \"needn't\", 'shan', \"shan't\", 'shouldn', \"shouldn't\", 'wasn', \"wasn't\", 'weren', \"weren't\", 'won', \"won't\", 'wouldn', \"wouldn't\"]\n"
          ]
        }
      ]
    },
    {
      "cell_type": "code",
      "source": [
        "sw_nltk.extend(['th','stay'])\n",
        "print(len(sw_nltk))"
      ],
      "metadata": {
        "colab": {
          "base_uri": "https://localhost:8080/"
        },
        "id": "OedFNhJ01BxZ",
        "outputId": "90e8dd2a-9961-4fd3-f32e-8ae4ca93772e"
      },
      "execution_count": 15,
      "outputs": [
        {
          "output_type": "stream",
          "name": "stdout",
          "text": [
            "181\n"
          ]
        }
      ]
    },
    {
      "cell_type": "code",
      "source": [
        "# preprocessing the data (removing stopwords, convert the sentence to lower case, and also applying lemmatization to get meaningful words )\n",
        "from nltk.corpus import stopwords\n",
        "from nltk.stem import WordNetLemmatizer, PorterStemmer\n",
        "#stop_words = set(stopwords.words('english'))\n",
        "ps=PorterStemmer()\n",
        "wnl=WordNetLemmatizer()\n",
        "def clean_lemma(review):\n",
        "    review = review.lower()\n",
        "    review = review.split()\n",
        "    review = [wnl.lemmatize(word) for word in review if word not in sw_nltk]\n",
        "    review = [wnl.lemmatize(word) for word in review if word not in sw_spacy]\n",
        "    review = ' '.join(review)\n",
        "    return review"
      ],
      "metadata": {
        "id": "NllSe3Fh1Bt7"
      },
      "execution_count": 16,
      "outputs": []
    },
    {
      "cell_type": "code",
      "source": [
        "# using lemmatization\n",
        "df['text']=df['text'].apply(clean_lemma)\n",
        "df.head()"
      ],
      "metadata": {
        "colab": {
          "base_uri": "https://localhost:8080/",
          "height": 389
        },
        "id": "JYZt0NMn1Bqx",
        "outputId": "447c379d-318b-4f5f-9af1-9d3b61a13328"
      },
      "execution_count": 17,
      "outputs": [
        {
          "output_type": "execute_result",
          "data": {
            "text/plain": [
              "   Class  \\\n",
              "0      1   \n",
              "1      1   \n",
              "2      1   \n",
              "3      1   \n",
              "4      1   \n",
              "\n",
              "                                                                                                                                                                                                                                                                                                                                                                                                                                                                                                                                      text  \n",
              "0                                                                                                                                                                                                                                                            stayed night getaway family thursday triple aaa rate steal floor room complete plasma tv bose stereo voss evian water gorgeous bathroom concierge helpful beat location flaw breakfast pricey service slow table restaurant food good worth wait return heartbeat gem chicago  \n",
              "1                                                                                                                                                                                                                                                                                                                                 triple rate upgrade view room le included breakfast voucher great view river lake wrigley bldg tribune bldg major restaurant shopping sightseeing attraction walking distance large room comfortable bed  \n",
              "2  come little late finally catching review past month dear friend stayed hyatt regency late october night visiting friend husband town hotel perfect imo easy check check lovely clean comfortable room great view city know area pretty convenient downtown chicago attraction dinner went clubing friend division st problem getting cab forth hyatt public transportation right near bother needed cab hotel parking usual chicago expensive able car quickly problem best got rate hotwire downright steal area chicago quality hotel  \n",
              "3                                                                                                                      omni chicago delivers spaciousness room helpful staff prized location michigan avenue address chicago requires high level quality omni delivers check group people minute staff plentiful recommendation dining event room largest find price range chicago standard room separate living area work desk fitness center free weight weight machine row cardio equipment shared room feel cramped way great property  \n",
              "4                                                                                                                                                                                                                                                                                                                                asked high floor away elevator got room pleasantly decorated functional clean need lot service pleasant prompt fitness center equipped working order great location end michigan avenue shopping district  "
            ],
            "text/html": [
              "\n",
              "  <div id=\"df-7bf0c3e4-0301-4af5-aaf0-1ab78a1cd83e\">\n",
              "    <div class=\"colab-df-container\">\n",
              "      <div>\n",
              "<style scoped>\n",
              "    .dataframe tbody tr th:only-of-type {\n",
              "        vertical-align: middle;\n",
              "    }\n",
              "\n",
              "    .dataframe tbody tr th {\n",
              "        vertical-align: top;\n",
              "    }\n",
              "\n",
              "    .dataframe thead th {\n",
              "        text-align: right;\n",
              "    }\n",
              "</style>\n",
              "<table border=\"1\" class=\"dataframe\">\n",
              "  <thead>\n",
              "    <tr style=\"text-align: right;\">\n",
              "      <th></th>\n",
              "      <th>Class</th>\n",
              "      <th>text</th>\n",
              "    </tr>\n",
              "  </thead>\n",
              "  <tbody>\n",
              "    <tr>\n",
              "      <th>0</th>\n",
              "      <td>1</td>\n",
              "      <td>stayed night getaway family thursday triple aaa rate steal floor room complete plasma tv bose stereo voss evian water gorgeous bathroom concierge helpful beat location flaw breakfast pricey service slow table restaurant food good worth wait return heartbeat gem chicago</td>\n",
              "    </tr>\n",
              "    <tr>\n",
              "      <th>1</th>\n",
              "      <td>1</td>\n",
              "      <td>triple rate upgrade view room le included breakfast voucher great view river lake wrigley bldg tribune bldg major restaurant shopping sightseeing attraction walking distance large room comfortable bed</td>\n",
              "    </tr>\n",
              "    <tr>\n",
              "      <th>2</th>\n",
              "      <td>1</td>\n",
              "      <td>come little late finally catching review past month dear friend stayed hyatt regency late october night visiting friend husband town hotel perfect imo easy check check lovely clean comfortable room great view city know area pretty convenient downtown chicago attraction dinner went clubing friend division st problem getting cab forth hyatt public transportation right near bother needed cab hotel parking usual chicago expensive able car quickly problem best got rate hotwire downright steal area chicago quality hotel</td>\n",
              "    </tr>\n",
              "    <tr>\n",
              "      <th>3</th>\n",
              "      <td>1</td>\n",
              "      <td>omni chicago delivers spaciousness room helpful staff prized location michigan avenue address chicago requires high level quality omni delivers check group people minute staff plentiful recommendation dining event room largest find price range chicago standard room separate living area work desk fitness center free weight weight machine row cardio equipment shared room feel cramped way great property</td>\n",
              "    </tr>\n",
              "    <tr>\n",
              "      <th>4</th>\n",
              "      <td>1</td>\n",
              "      <td>asked high floor away elevator got room pleasantly decorated functional clean need lot service pleasant prompt fitness center equipped working order great location end michigan avenue shopping district</td>\n",
              "    </tr>\n",
              "  </tbody>\n",
              "</table>\n",
              "</div>\n",
              "      <button class=\"colab-df-convert\" onclick=\"convertToInteractive('df-7bf0c3e4-0301-4af5-aaf0-1ab78a1cd83e')\"\n",
              "              title=\"Convert this dataframe to an interactive table.\"\n",
              "              style=\"display:none;\">\n",
              "        \n",
              "  <svg xmlns=\"http://www.w3.org/2000/svg\" height=\"24px\"viewBox=\"0 0 24 24\"\n",
              "       width=\"24px\">\n",
              "    <path d=\"M0 0h24v24H0V0z\" fill=\"none\"/>\n",
              "    <path d=\"M18.56 5.44l.94 2.06.94-2.06 2.06-.94-2.06-.94-.94-2.06-.94 2.06-2.06.94zm-11 1L8.5 8.5l.94-2.06 2.06-.94-2.06-.94L8.5 2.5l-.94 2.06-2.06.94zm10 10l.94 2.06.94-2.06 2.06-.94-2.06-.94-.94-2.06-.94 2.06-2.06.94z\"/><path d=\"M17.41 7.96l-1.37-1.37c-.4-.4-.92-.59-1.43-.59-.52 0-1.04.2-1.43.59L10.3 9.45l-7.72 7.72c-.78.78-.78 2.05 0 2.83L4 21.41c.39.39.9.59 1.41.59.51 0 1.02-.2 1.41-.59l7.78-7.78 2.81-2.81c.8-.78.8-2.07 0-2.86zM5.41 20L4 18.59l7.72-7.72 1.47 1.35L5.41 20z\"/>\n",
              "  </svg>\n",
              "      </button>\n",
              "      \n",
              "  <style>\n",
              "    .colab-df-container {\n",
              "      display:flex;\n",
              "      flex-wrap:wrap;\n",
              "      gap: 12px;\n",
              "    }\n",
              "\n",
              "    .colab-df-convert {\n",
              "      background-color: #E8F0FE;\n",
              "      border: none;\n",
              "      border-radius: 50%;\n",
              "      cursor: pointer;\n",
              "      display: none;\n",
              "      fill: #1967D2;\n",
              "      height: 32px;\n",
              "      padding: 0 0 0 0;\n",
              "      width: 32px;\n",
              "    }\n",
              "\n",
              "    .colab-df-convert:hover {\n",
              "      background-color: #E2EBFA;\n",
              "      box-shadow: 0px 1px 2px rgba(60, 64, 67, 0.3), 0px 1px 3px 1px rgba(60, 64, 67, 0.15);\n",
              "      fill: #174EA6;\n",
              "    }\n",
              "\n",
              "    [theme=dark] .colab-df-convert {\n",
              "      background-color: #3B4455;\n",
              "      fill: #D2E3FC;\n",
              "    }\n",
              "\n",
              "    [theme=dark] .colab-df-convert:hover {\n",
              "      background-color: #434B5C;\n",
              "      box-shadow: 0px 1px 3px 1px rgba(0, 0, 0, 0.15);\n",
              "      filter: drop-shadow(0px 1px 2px rgba(0, 0, 0, 0.3));\n",
              "      fill: #FFFFFF;\n",
              "    }\n",
              "  </style>\n",
              "\n",
              "      <script>\n",
              "        const buttonEl =\n",
              "          document.querySelector('#df-7bf0c3e4-0301-4af5-aaf0-1ab78a1cd83e button.colab-df-convert');\n",
              "        buttonEl.style.display =\n",
              "          google.colab.kernel.accessAllowed ? 'block' : 'none';\n",
              "\n",
              "        async function convertToInteractive(key) {\n",
              "          const element = document.querySelector('#df-7bf0c3e4-0301-4af5-aaf0-1ab78a1cd83e');\n",
              "          const dataTable =\n",
              "            await google.colab.kernel.invokeFunction('convertToInteractive',\n",
              "                                                     [key], {});\n",
              "          if (!dataTable) return;\n",
              "\n",
              "          const docLinkHtml = 'Like what you see? Visit the ' +\n",
              "            '<a target=\"_blank\" href=https://colab.research.google.com/notebooks/data_table.ipynb>data table notebook</a>'\n",
              "            + ' to learn more about interactive tables.';\n",
              "          element.innerHTML = '';\n",
              "          dataTable['output_type'] = 'display_data';\n",
              "          await google.colab.output.renderOutput(dataTable, element);\n",
              "          const docLink = document.createElement('div');\n",
              "          docLink.innerHTML = docLinkHtml;\n",
              "          element.appendChild(docLink);\n",
              "        }\n",
              "      </script>\n",
              "    </div>\n",
              "  </div>\n",
              "  "
            ]
          },
          "metadata": {},
          "execution_count": 17
        }
      ]
    },
    {
      "cell_type": "markdown",
      "source": [
        "### FEATURE EXTRACTION (using BAGOFWORDS)"
      ],
      "metadata": {
        "id": "016Fipdd4nou"
      }
    },
    {
      "cell_type": "code",
      "source": [
        "x = df['text']\n",
        "y = df['Class']"
      ],
      "metadata": {
        "id": "dxOXDi2I1Bnh"
      },
      "execution_count": 18,
      "outputs": []
    },
    {
      "cell_type": "code",
      "source": [
        "y"
      ],
      "metadata": {
        "colab": {
          "base_uri": "https://localhost:8080/"
        },
        "id": "F51BL4CBM385",
        "outputId": "a861a8ea-e536-4fc5-cde5-72bd562cc224"
      },
      "execution_count": 19,
      "outputs": [
        {
          "output_type": "execute_result",
          "data": {
            "text/plain": [
              "0       1\n",
              "1       1\n",
              "2       1\n",
              "3       1\n",
              "4       1\n",
              "       ..\n",
              "1595    0\n",
              "1596    0\n",
              "1597    0\n",
              "1598    0\n",
              "1599    0\n",
              "Name: Class, Length: 1600, dtype: int64"
            ]
          },
          "metadata": {},
          "execution_count": 19
        }
      ]
    },
    {
      "cell_type": "code",
      "source": [
        "from sklearn.feature_extraction.text import TfidfVectorizer, CountVectorizer \n",
        "from sklearn.feature_extraction.text import TfidfVectorizer\n",
        "cv=TfidfVectorizer()\n",
        "corpii=cv.fit_transform(x) "
      ],
      "metadata": {
        "id": "SVvh5gy31Bkh"
      },
      "execution_count": 20,
      "outputs": []
    },
    {
      "cell_type": "code",
      "source": [
        "feature_names = cv.get_feature_names()\n",
        "#feature_names"
      ],
      "metadata": {
        "colab": {
          "base_uri": "https://localhost:8080/"
        },
        "id": "y40il7AW1Bhr",
        "outputId": "dc829932-75b0-4bcf-df0e-a9904ba50cab"
      },
      "execution_count": 21,
      "outputs": [
        {
          "output_type": "stream",
          "name": "stderr",
          "text": [
            "/usr/local/lib/python3.8/dist-packages/sklearn/utils/deprecation.py:87: FutureWarning: Function get_feature_names is deprecated; get_feature_names is deprecated in 1.0 and will be removed in 1.2. Please use get_feature_names_out instead.\n",
            "  warnings.warn(msg, category=FutureWarning)\n"
          ]
        }
      ]
    },
    {
      "cell_type": "code",
      "source": [
        "len(feature_names)"
      ],
      "metadata": {
        "colab": {
          "base_uri": "https://localhost:8080/"
        },
        "id": "-zsmP-Z61BfD",
        "outputId": "d2ac81ea-1d40-4798-988d-23f429ad2aba"
      },
      "execution_count": 22,
      "outputs": [
        {
          "output_type": "execute_result",
          "data": {
            "text/plain": [
              "7905"
            ]
          },
          "metadata": {},
          "execution_count": 22
        }
      ]
    },
    {
      "cell_type": "code",
      "source": [
        "u1 = pd.DataFrame(corpii.toarray(), columns=feature_names)\n",
        "u1.head()"
      ],
      "metadata": {
        "colab": {
          "base_uri": "https://localhost:8080/",
          "height": 299
        },
        "id": "WXXwZCVq1BcM",
        "outputId": "3e8e3d4d-16bf-4483-a98e-d91b50db6874"
      },
      "execution_count": 23,
      "outputs": [
        {
          "output_type": "execute_result",
          "data": {
            "text/plain": [
              "        aaa  aaahed  aback  abassador  abd  ability      able  abound  abrupt  \\\n",
              "0  0.217034     0.0    0.0        0.0  0.0      0.0  0.000000     0.0     0.0   \n",
              "1  0.000000     0.0    0.0        0.0  0.0      0.0  0.000000     0.0     0.0   \n",
              "2  0.000000     0.0    0.0        0.0  0.0      0.0  0.090437     0.0     0.0   \n",
              "3  0.000000     0.0    0.0        0.0  0.0      0.0  0.000000     0.0     0.0   \n",
              "4  0.000000     0.0    0.0        0.0  0.0      0.0  0.000000     0.0     0.0   \n",
              "\n",
              "   abruptly  ...  yucky  yummo  yummy  yunan  yup  zagat  zest  zipped  zone  \\\n",
              "0       0.0  ...    0.0    0.0    0.0    0.0  0.0    0.0   0.0     0.0   0.0   \n",
              "1       0.0  ...    0.0    0.0    0.0    0.0  0.0    0.0   0.0     0.0   0.0   \n",
              "2       0.0  ...    0.0    0.0    0.0    0.0  0.0    0.0   0.0     0.0   0.0   \n",
              "3       0.0  ...    0.0    0.0    0.0    0.0  0.0    0.0   0.0     0.0   0.0   \n",
              "4       0.0  ...    0.0    0.0    0.0    0.0  0.0    0.0   0.0     0.0   0.0   \n",
              "\n",
              "   zoo  \n",
              "0  0.0  \n",
              "1  0.0  \n",
              "2  0.0  \n",
              "3  0.0  \n",
              "4  0.0  \n",
              "\n",
              "[5 rows x 7905 columns]"
            ],
            "text/html": [
              "\n",
              "  <div id=\"df-6cd2792c-e81d-45ce-8317-08dc903b25e7\">\n",
              "    <div class=\"colab-df-container\">\n",
              "      <div>\n",
              "<style scoped>\n",
              "    .dataframe tbody tr th:only-of-type {\n",
              "        vertical-align: middle;\n",
              "    }\n",
              "\n",
              "    .dataframe tbody tr th {\n",
              "        vertical-align: top;\n",
              "    }\n",
              "\n",
              "    .dataframe thead th {\n",
              "        text-align: right;\n",
              "    }\n",
              "</style>\n",
              "<table border=\"1\" class=\"dataframe\">\n",
              "  <thead>\n",
              "    <tr style=\"text-align: right;\">\n",
              "      <th></th>\n",
              "      <th>aaa</th>\n",
              "      <th>aaahed</th>\n",
              "      <th>aback</th>\n",
              "      <th>abassador</th>\n",
              "      <th>abd</th>\n",
              "      <th>ability</th>\n",
              "      <th>able</th>\n",
              "      <th>abound</th>\n",
              "      <th>abrupt</th>\n",
              "      <th>abruptly</th>\n",
              "      <th>...</th>\n",
              "      <th>yucky</th>\n",
              "      <th>yummo</th>\n",
              "      <th>yummy</th>\n",
              "      <th>yunan</th>\n",
              "      <th>yup</th>\n",
              "      <th>zagat</th>\n",
              "      <th>zest</th>\n",
              "      <th>zipped</th>\n",
              "      <th>zone</th>\n",
              "      <th>zoo</th>\n",
              "    </tr>\n",
              "  </thead>\n",
              "  <tbody>\n",
              "    <tr>\n",
              "      <th>0</th>\n",
              "      <td>0.217034</td>\n",
              "      <td>0.0</td>\n",
              "      <td>0.0</td>\n",
              "      <td>0.0</td>\n",
              "      <td>0.0</td>\n",
              "      <td>0.0</td>\n",
              "      <td>0.000000</td>\n",
              "      <td>0.0</td>\n",
              "      <td>0.0</td>\n",
              "      <td>0.0</td>\n",
              "      <td>...</td>\n",
              "      <td>0.0</td>\n",
              "      <td>0.0</td>\n",
              "      <td>0.0</td>\n",
              "      <td>0.0</td>\n",
              "      <td>0.0</td>\n",
              "      <td>0.0</td>\n",
              "      <td>0.0</td>\n",
              "      <td>0.0</td>\n",
              "      <td>0.0</td>\n",
              "      <td>0.0</td>\n",
              "    </tr>\n",
              "    <tr>\n",
              "      <th>1</th>\n",
              "      <td>0.000000</td>\n",
              "      <td>0.0</td>\n",
              "      <td>0.0</td>\n",
              "      <td>0.0</td>\n",
              "      <td>0.0</td>\n",
              "      <td>0.0</td>\n",
              "      <td>0.000000</td>\n",
              "      <td>0.0</td>\n",
              "      <td>0.0</td>\n",
              "      <td>0.0</td>\n",
              "      <td>...</td>\n",
              "      <td>0.0</td>\n",
              "      <td>0.0</td>\n",
              "      <td>0.0</td>\n",
              "      <td>0.0</td>\n",
              "      <td>0.0</td>\n",
              "      <td>0.0</td>\n",
              "      <td>0.0</td>\n",
              "      <td>0.0</td>\n",
              "      <td>0.0</td>\n",
              "      <td>0.0</td>\n",
              "    </tr>\n",
              "    <tr>\n",
              "      <th>2</th>\n",
              "      <td>0.000000</td>\n",
              "      <td>0.0</td>\n",
              "      <td>0.0</td>\n",
              "      <td>0.0</td>\n",
              "      <td>0.0</td>\n",
              "      <td>0.0</td>\n",
              "      <td>0.090437</td>\n",
              "      <td>0.0</td>\n",
              "      <td>0.0</td>\n",
              "      <td>0.0</td>\n",
              "      <td>...</td>\n",
              "      <td>0.0</td>\n",
              "      <td>0.0</td>\n",
              "      <td>0.0</td>\n",
              "      <td>0.0</td>\n",
              "      <td>0.0</td>\n",
              "      <td>0.0</td>\n",
              "      <td>0.0</td>\n",
              "      <td>0.0</td>\n",
              "      <td>0.0</td>\n",
              "      <td>0.0</td>\n",
              "    </tr>\n",
              "    <tr>\n",
              "      <th>3</th>\n",
              "      <td>0.000000</td>\n",
              "      <td>0.0</td>\n",
              "      <td>0.0</td>\n",
              "      <td>0.0</td>\n",
              "      <td>0.0</td>\n",
              "      <td>0.0</td>\n",
              "      <td>0.000000</td>\n",
              "      <td>0.0</td>\n",
              "      <td>0.0</td>\n",
              "      <td>0.0</td>\n",
              "      <td>...</td>\n",
              "      <td>0.0</td>\n",
              "      <td>0.0</td>\n",
              "      <td>0.0</td>\n",
              "      <td>0.0</td>\n",
              "      <td>0.0</td>\n",
              "      <td>0.0</td>\n",
              "      <td>0.0</td>\n",
              "      <td>0.0</td>\n",
              "      <td>0.0</td>\n",
              "      <td>0.0</td>\n",
              "    </tr>\n",
              "    <tr>\n",
              "      <th>4</th>\n",
              "      <td>0.000000</td>\n",
              "      <td>0.0</td>\n",
              "      <td>0.0</td>\n",
              "      <td>0.0</td>\n",
              "      <td>0.0</td>\n",
              "      <td>0.0</td>\n",
              "      <td>0.000000</td>\n",
              "      <td>0.0</td>\n",
              "      <td>0.0</td>\n",
              "      <td>0.0</td>\n",
              "      <td>...</td>\n",
              "      <td>0.0</td>\n",
              "      <td>0.0</td>\n",
              "      <td>0.0</td>\n",
              "      <td>0.0</td>\n",
              "      <td>0.0</td>\n",
              "      <td>0.0</td>\n",
              "      <td>0.0</td>\n",
              "      <td>0.0</td>\n",
              "      <td>0.0</td>\n",
              "      <td>0.0</td>\n",
              "    </tr>\n",
              "  </tbody>\n",
              "</table>\n",
              "<p>5 rows × 7905 columns</p>\n",
              "</div>\n",
              "      <button class=\"colab-df-convert\" onclick=\"convertToInteractive('df-6cd2792c-e81d-45ce-8317-08dc903b25e7')\"\n",
              "              title=\"Convert this dataframe to an interactive table.\"\n",
              "              style=\"display:none;\">\n",
              "        \n",
              "  <svg xmlns=\"http://www.w3.org/2000/svg\" height=\"24px\"viewBox=\"0 0 24 24\"\n",
              "       width=\"24px\">\n",
              "    <path d=\"M0 0h24v24H0V0z\" fill=\"none\"/>\n",
              "    <path d=\"M18.56 5.44l.94 2.06.94-2.06 2.06-.94-2.06-.94-.94-2.06-.94 2.06-2.06.94zm-11 1L8.5 8.5l.94-2.06 2.06-.94-2.06-.94L8.5 2.5l-.94 2.06-2.06.94zm10 10l.94 2.06.94-2.06 2.06-.94-2.06-.94-.94-2.06-.94 2.06-2.06.94z\"/><path d=\"M17.41 7.96l-1.37-1.37c-.4-.4-.92-.59-1.43-.59-.52 0-1.04.2-1.43.59L10.3 9.45l-7.72 7.72c-.78.78-.78 2.05 0 2.83L4 21.41c.39.39.9.59 1.41.59.51 0 1.02-.2 1.41-.59l7.78-7.78 2.81-2.81c.8-.78.8-2.07 0-2.86zM5.41 20L4 18.59l7.72-7.72 1.47 1.35L5.41 20z\"/>\n",
              "  </svg>\n",
              "      </button>\n",
              "      \n",
              "  <style>\n",
              "    .colab-df-container {\n",
              "      display:flex;\n",
              "      flex-wrap:wrap;\n",
              "      gap: 12px;\n",
              "    }\n",
              "\n",
              "    .colab-df-convert {\n",
              "      background-color: #E8F0FE;\n",
              "      border: none;\n",
              "      border-radius: 50%;\n",
              "      cursor: pointer;\n",
              "      display: none;\n",
              "      fill: #1967D2;\n",
              "      height: 32px;\n",
              "      padding: 0 0 0 0;\n",
              "      width: 32px;\n",
              "    }\n",
              "\n",
              "    .colab-df-convert:hover {\n",
              "      background-color: #E2EBFA;\n",
              "      box-shadow: 0px 1px 2px rgba(60, 64, 67, 0.3), 0px 1px 3px 1px rgba(60, 64, 67, 0.15);\n",
              "      fill: #174EA6;\n",
              "    }\n",
              "\n",
              "    [theme=dark] .colab-df-convert {\n",
              "      background-color: #3B4455;\n",
              "      fill: #D2E3FC;\n",
              "    }\n",
              "\n",
              "    [theme=dark] .colab-df-convert:hover {\n",
              "      background-color: #434B5C;\n",
              "      box-shadow: 0px 1px 3px 1px rgba(0, 0, 0, 0.15);\n",
              "      filter: drop-shadow(0px 1px 2px rgba(0, 0, 0, 0.3));\n",
              "      fill: #FFFFFF;\n",
              "    }\n",
              "  </style>\n",
              "\n",
              "      <script>\n",
              "        const buttonEl =\n",
              "          document.querySelector('#df-6cd2792c-e81d-45ce-8317-08dc903b25e7 button.colab-df-convert');\n",
              "        buttonEl.style.display =\n",
              "          google.colab.kernel.accessAllowed ? 'block' : 'none';\n",
              "\n",
              "        async function convertToInteractive(key) {\n",
              "          const element = document.querySelector('#df-6cd2792c-e81d-45ce-8317-08dc903b25e7');\n",
              "          const dataTable =\n",
              "            await google.colab.kernel.invokeFunction('convertToInteractive',\n",
              "                                                     [key], {});\n",
              "          if (!dataTable) return;\n",
              "\n",
              "          const docLinkHtml = 'Like what you see? Visit the ' +\n",
              "            '<a target=\"_blank\" href=https://colab.research.google.com/notebooks/data_table.ipynb>data table notebook</a>'\n",
              "            + ' to learn more about interactive tables.';\n",
              "          element.innerHTML = '';\n",
              "          dataTable['output_type'] = 'display_data';\n",
              "          await google.colab.output.renderOutput(dataTable, element);\n",
              "          const docLink = document.createElement('div');\n",
              "          docLink.innerHTML = docLinkHtml;\n",
              "          element.appendChild(docLink);\n",
              "        }\n",
              "      </script>\n",
              "    </div>\n",
              "  </div>\n",
              "  "
            ]
          },
          "metadata": {},
          "execution_count": 23
        }
      ]
    },
    {
      "cell_type": "code",
      "source": [
        "from sklearn.manifold import TSNE\n",
        "# Apply t-SNE transformation on node embeddings\n",
        "tsne = TSNE(n_components=2)\n",
        "tfidf_2d = tsne.fit_transform(u1)"
      ],
      "metadata": {
        "colab": {
          "base_uri": "https://localhost:8080/"
        },
        "id": "0Gf57KF3nPNv",
        "outputId": "5a2d4597-f800-4af4-faaf-7e452af14c2d"
      },
      "execution_count": 24,
      "outputs": [
        {
          "output_type": "stream",
          "name": "stderr",
          "text": [
            "/usr/local/lib/python3.8/dist-packages/sklearn/manifold/_t_sne.py:780: FutureWarning: The default initialization in TSNE will change from 'random' to 'pca' in 1.2.\n",
            "  warnings.warn(\n",
            "/usr/local/lib/python3.8/dist-packages/sklearn/manifold/_t_sne.py:790: FutureWarning: The default learning rate in TSNE will change from 200.0 to 'auto' in 1.2.\n",
            "  warnings.warn(\n"
          ]
        }
      ]
    },
    {
      "cell_type": "markdown",
      "source": [
        "### Data visualization"
      ],
      "metadata": {
        "id": "XToqtolmncPI"
      }
    },
    {
      "cell_type": "code",
      "source": [
        "# draw the points\n",
        "alpha = 0.7\n",
        "label_map = {l: i for i, l in enumerate(np.unique(df['Class']))}\n",
        "node_colours = [label_map[target] for target in df['Class']]\n",
        "\n",
        "plt.figure(figsize=(10, 8))\n",
        "plt.scatter(\n",
        "    tfidf_2d[:, 0],\n",
        "    tfidf_2d[:, 1],\n",
        "    c=node_colours,\n",
        "    cmap=\"jet\",\n",
        "    alpha=alpha,\n",
        ")"
      ],
      "metadata": {
        "colab": {
          "base_uri": "https://localhost:8080/",
          "height": 502
        },
        "id": "140_RYAmnMyT",
        "outputId": "80ecf264-4217-4e66-9ddb-1e173de8fcbe"
      },
      "execution_count": 25,
      "outputs": [
        {
          "output_type": "execute_result",
          "data": {
            "text/plain": [
              "<matplotlib.collections.PathCollection at 0x7f3f0466fb80>"
            ]
          },
          "metadata": {},
          "execution_count": 25
        },
        {
          "output_type": "display_data",
          "data": {
            "text/plain": [
              "<Figure size 720x576 with 1 Axes>"
            ],
            "image/png": "[encoded data removed]"
          },
          "metadata": {
            "needs_background": "light"
          }
        }
      ]
    },
    {
      "cell_type": "markdown",
      "source": [
        "### FEATURE SELECTION (using chi square)"
      ],
      "metadata": {
        "id": "pwLqgt4w4rXn"
      }
    },
    {
      "cell_type": "code",
      "source": [
        "from sklearn.feature_selection import SelectKBest\n",
        "from sklearn.feature_selection import chi2\n",
        "# Two features with highest chi-squared statistics are selected\n",
        "chi2_features = SelectKBest(chi2, k = 2000)\n",
        "X_kbest_features = chi2_features.fit_transform(u1, y)"
      ],
      "metadata": {
        "id": "0q_luXlD2BW6"
      },
      "execution_count": 26,
      "outputs": []
    },
    {
      "cell_type": "code",
      "source": [
        "chi_support = chi2_features.get_support()"
      ],
      "metadata": {
        "id": "I2jg1Ngl2Bah"
      },
      "execution_count": 27,
      "outputs": []
    },
    {
      "cell_type": "code",
      "source": [
        "chi_feature = u1.loc[:,chi_support].columns.tolist()"
      ],
      "metadata": {
        "id": "luS3XIiu2BeC"
      },
      "execution_count": 28,
      "outputs": []
    },
    {
      "cell_type": "code",
      "source": [
        "X_kbest_features"
      ],
      "metadata": {
        "colab": {
          "base_uri": "https://localhost:8080/"
        },
        "id": "I0o4cIq72BhB",
        "outputId": "67e3c4f6-f2a3-452c-87f8-1c763db388d8"
      },
      "execution_count": 29,
      "outputs": [
        {
          "output_type": "execute_result",
          "data": {
            "text/plain": [
              "array([[0., 0., 0., ..., 0., 0., 0.],\n",
              "       [0., 0., 0., ..., 0., 0., 0.],\n",
              "       [0., 0., 0., ..., 0., 0., 0.],\n",
              "       ...,\n",
              "       [0., 0., 0., ..., 0., 0., 0.],\n",
              "       [0., 0., 0., ..., 0., 0., 0.],\n",
              "       [0., 0., 0., ..., 0., 0., 0.]])"
            ]
          },
          "metadata": {},
          "execution_count": 29
        }
      ]
    },
    {
      "cell_type": "code",
      "source": [
        "u3 = pd.DataFrame(X_kbest_features, columns = chi_feature)\n",
        "u3.head()"
      ],
      "metadata": {
        "colab": {
          "base_uri": "https://localhost:8080/",
          "height": 299
        },
        "id": "D_qN5lIt2Bza",
        "outputId": "52f5af01-01ae-4092-fce2-f36fa72a8167"
      },
      "execution_count": 30,
      "outputs": [
        {
          "output_type": "execute_result",
          "data": {
            "text/plain": [
              "   absent  absolute  absolutely  absurd  accept  accepted  accesible  \\\n",
              "0     0.0       0.0         0.0     0.0     0.0       0.0        0.0   \n",
              "1     0.0       0.0         0.0     0.0     0.0       0.0        0.0   \n",
              "2     0.0       0.0         0.0     0.0     0.0       0.0        0.0   \n",
              "3     0.0       0.0         0.0     0.0     0.0       0.0        0.0   \n",
              "4     0.0       0.0         0.0     0.0     0.0       0.0        0.0   \n",
              "\n",
              "   accomadating  accomidations  accommodated  ...  yellow  yep  yes   yo  \\\n",
              "0           0.0            0.0           0.0  ...     0.0  0.0  0.0  0.0   \n",
              "1           0.0            0.0           0.0  ...     0.0  0.0  0.0  0.0   \n",
              "2           0.0            0.0           0.0  ...     0.0  0.0  0.0  0.0   \n",
              "3           0.0            0.0           0.0  ...     0.0  0.0  0.0  0.0   \n",
              "4           0.0            0.0           0.0  ...     0.0  0.0  0.0  0.0   \n",
              "\n",
              "   yoga  young  youve   yr  yummy  zone  \n",
              "0   0.0    0.0    0.0  0.0    0.0   0.0  \n",
              "1   0.0    0.0    0.0  0.0    0.0   0.0  \n",
              "2   0.0    0.0    0.0  0.0    0.0   0.0  \n",
              "3   0.0    0.0    0.0  0.0    0.0   0.0  \n",
              "4   0.0    0.0    0.0  0.0    0.0   0.0  \n",
              "\n",
              "[5 rows x 2000 columns]"
            ],
            "text/html": [
              "\n",
              "  <div id=\"df-c164ac36-2bb6-4b0b-b020-c5ceeea50d82\">\n",
              "    <div class=\"colab-df-container\">\n",
              "      <div>\n",
              "<style scoped>\n",
              "    .dataframe tbody tr th:only-of-type {\n",
              "        vertical-align: middle;\n",
              "    }\n",
              "\n",
              "    .dataframe tbody tr th {\n",
              "        vertical-align: top;\n",
              "    }\n",
              "\n",
              "    .dataframe thead th {\n",
              "        text-align: right;\n",
              "    }\n",
              "</style>\n",
              "<table border=\"1\" class=\"dataframe\">\n",
              "  <thead>\n",
              "    <tr style=\"text-align: right;\">\n",
              "      <th></th>\n",
              "      <th>absent</th>\n",
              "      <th>absolute</th>\n",
              "      <th>absolutely</th>\n",
              "      <th>absurd</th>\n",
              "      <th>accept</th>\n",
              "      <th>accepted</th>\n",
              "      <th>accesible</th>\n",
              "      <th>accomadating</th>\n",
              "      <th>accomidations</th>\n",
              "      <th>accommodated</th>\n",
              "      <th>...</th>\n",
              "      <th>yellow</th>\n",
              "      <th>yep</th>\n",
              "      <th>yes</th>\n",
              "      <th>yo</th>\n",
              "      <th>yoga</th>\n",
              "      <th>young</th>\n",
              "      <th>youve</th>\n",
              "      <th>yr</th>\n",
              "      <th>yummy</th>\n",
              "      <th>zone</th>\n",
              "    </tr>\n",
              "  </thead>\n",
              "  <tbody>\n",
              "    <tr>\n",
              "      <th>0</th>\n",
              "      <td>0.0</td>\n",
              "      <td>0.0</td>\n",
              "      <td>0.0</td>\n",
              "      <td>0.0</td>\n",
              "      <td>0.0</td>\n",
              "      <td>0.0</td>\n",
              "      <td>0.0</td>\n",
              "      <td>0.0</td>\n",
              "      <td>0.0</td>\n",
              "      <td>0.0</td>\n",
              "      <td>...</td>\n",
              "      <td>0.0</td>\n",
              "      <td>0.0</td>\n",
              "      <td>0.0</td>\n",
              "      <td>0.0</td>\n",
              "      <td>0.0</td>\n",
              "      <td>0.0</td>\n",
              "      <td>0.0</td>\n",
              "      <td>0.0</td>\n",
              "      <td>0.0</td>\n",
              "      <td>0.0</td>\n",
              "    </tr>\n",
              "    <tr>\n",
              "      <th>1</th>\n",
              "      <td>0.0</td>\n",
              "      <td>0.0</td>\n",
              "      <td>0.0</td>\n",
              "      <td>0.0</td>\n",
              "      <td>0.0</td>\n",
              "      <td>0.0</td>\n",
              "      <td>0.0</td>\n",
              "      <td>0.0</td>\n",
              "      <td>0.0</td>\n",
              "      <td>0.0</td>\n",
              "      <td>...</td>\n",
              "      <td>0.0</td>\n",
              "      <td>0.0</td>\n",
              "      <td>0.0</td>\n",
              "      <td>0.0</td>\n",
              "      <td>0.0</td>\n",
              "      <td>0.0</td>\n",
              "      <td>0.0</td>\n",
              "      <td>0.0</td>\n",
              "      <td>0.0</td>\n",
              "      <td>0.0</td>\n",
              "    </tr>\n",
              "    <tr>\n",
              "      <th>2</th>\n",
              "      <td>0.0</td>\n",
              "      <td>0.0</td>\n",
              "      <td>0.0</td>\n",
              "      <td>0.0</td>\n",
              "      <td>0.0</td>\n",
              "      <td>0.0</td>\n",
              "      <td>0.0</td>\n",
              "      <td>0.0</td>\n",
              "      <td>0.0</td>\n",
              "      <td>0.0</td>\n",
              "      <td>...</td>\n",
              "      <td>0.0</td>\n",
              "      <td>0.0</td>\n",
              "      <td>0.0</td>\n",
              "      <td>0.0</td>\n",
              "      <td>0.0</td>\n",
              "      <td>0.0</td>\n",
              "      <td>0.0</td>\n",
              "      <td>0.0</td>\n",
              "      <td>0.0</td>\n",
              "      <td>0.0</td>\n",
              "    </tr>\n",
              "    <tr>\n",
              "      <th>3</th>\n",
              "      <td>0.0</td>\n",
              "      <td>0.0</td>\n",
              "      <td>0.0</td>\n",
              "      <td>0.0</td>\n",
              "      <td>0.0</td>\n",
              "      <td>0.0</td>\n",
              "      <td>0.0</td>\n",
              "      <td>0.0</td>\n",
              "      <td>0.0</td>\n",
              "      <td>0.0</td>\n",
              "      <td>...</td>\n",
              "      <td>0.0</td>\n",
              "      <td>0.0</td>\n",
              "      <td>0.0</td>\n",
              "      <td>0.0</td>\n",
              "      <td>0.0</td>\n",
              "      <td>0.0</td>\n",
              "      <td>0.0</td>\n",
              "      <td>0.0</td>\n",
              "      <td>0.0</td>\n",
              "      <td>0.0</td>\n",
              "    </tr>\n",
              "    <tr>\n",
              "      <th>4</th>\n",
              "      <td>0.0</td>\n",
              "      <td>0.0</td>\n",
              "      <td>0.0</td>\n",
              "      <td>0.0</td>\n",
              "      <td>0.0</td>\n",
              "      <td>0.0</td>\n",
              "      <td>0.0</td>\n",
              "      <td>0.0</td>\n",
              "      <td>0.0</td>\n",
              "      <td>0.0</td>\n",
              "      <td>...</td>\n",
              "      <td>0.0</td>\n",
              "      <td>0.0</td>\n",
              "      <td>0.0</td>\n",
              "      <td>0.0</td>\n",
              "      <td>0.0</td>\n",
              "      <td>0.0</td>\n",
              "      <td>0.0</td>\n",
              "      <td>0.0</td>\n",
              "      <td>0.0</td>\n",
              "      <td>0.0</td>\n",
              "    </tr>\n",
              "  </tbody>\n",
              "</table>\n",
              "<p>5 rows × 2000 columns</p>\n",
              "</div>\n",
              "      <button class=\"colab-df-convert\" onclick=\"convertToInteractive('df-c164ac36-2bb6-4b0b-b020-c5ceeea50d82')\"\n",
              "              title=\"Convert this dataframe to an interactive table.\"\n",
              "              style=\"display:none;\">\n",
              "        \n",
              "  <svg xmlns=\"http://www.w3.org/2000/svg\" height=\"24px\"viewBox=\"0 0 24 24\"\n",
              "       width=\"24px\">\n",
              "    <path d=\"M0 0h24v24H0V0z\" fill=\"none\"/>\n",
              "    <path d=\"M18.56 5.44l.94 2.06.94-2.06 2.06-.94-2.06-.94-.94-2.06-.94 2.06-2.06.94zm-11 1L8.5 8.5l.94-2.06 2.06-.94-2.06-.94L8.5 2.5l-.94 2.06-2.06.94zm10 10l.94 2.06.94-2.06 2.06-.94-2.06-.94-.94-2.06-.94 2.06-2.06.94z\"/><path d=\"M17.41 7.96l-1.37-1.37c-.4-.4-.92-.59-1.43-.59-.52 0-1.04.2-1.43.59L10.3 9.45l-7.72 7.72c-.78.78-.78 2.05 0 2.83L4 21.41c.39.39.9.59 1.41.59.51 0 1.02-.2 1.41-.59l7.78-7.78 2.81-2.81c.8-.78.8-2.07 0-2.86zM5.41 20L4 18.59l7.72-7.72 1.47 1.35L5.41 20z\"/>\n",
              "  </svg>\n",
              "      </button>\n",
              "      \n",
              "  <style>\n",
              "    .colab-df-container {\n",
              "      display:flex;\n",
              "      flex-wrap:wrap;\n",
              "      gap: 12px;\n",
              "    }\n",
              "\n",
              "    .colab-df-convert {\n",
              "      background-color: #E8F0FE;\n",
              "      border: none;\n",
              "      border-radius: 50%;\n",
              "      cursor: pointer;\n",
              "      display: none;\n",
              "      fill: #1967D2;\n",
              "      height: 32px;\n",
              "      padding: 0 0 0 0;\n",
              "      width: 32px;\n",
              "    }\n",
              "\n",
              "    .colab-df-convert:hover {\n",
              "      background-color: #E2EBFA;\n",
              "      box-shadow: 0px 1px 2px rgba(60, 64, 67, 0.3), 0px 1px 3px 1px rgba(60, 64, 67, 0.15);\n",
              "      fill: #174EA6;\n",
              "    }\n",
              "\n",
              "    [theme=dark] .colab-df-convert {\n",
              "      background-color: #3B4455;\n",
              "      fill: #D2E3FC;\n",
              "    }\n",
              "\n",
              "    [theme=dark] .colab-df-convert:hover {\n",
              "      background-color: #434B5C;\n",
              "      box-shadow: 0px 1px 3px 1px rgba(0, 0, 0, 0.15);\n",
              "      filter: drop-shadow(0px 1px 2px rgba(0, 0, 0, 0.3));\n",
              "      fill: #FFFFFF;\n",
              "    }\n",
              "  </style>\n",
              "\n",
              "      <script>\n",
              "        const buttonEl =\n",
              "          document.querySelector('#df-c164ac36-2bb6-4b0b-b020-c5ceeea50d82 button.colab-df-convert');\n",
              "        buttonEl.style.display =\n",
              "          google.colab.kernel.accessAllowed ? 'block' : 'none';\n",
              "\n",
              "        async function convertToInteractive(key) {\n",
              "          const element = document.querySelector('#df-c164ac36-2bb6-4b0b-b020-c5ceeea50d82');\n",
              "          const dataTable =\n",
              "            await google.colab.kernel.invokeFunction('convertToInteractive',\n",
              "                                                     [key], {});\n",
              "          if (!dataTable) return;\n",
              "\n",
              "          const docLinkHtml = 'Like what you see? Visit the ' +\n",
              "            '<a target=\"_blank\" href=https://colab.research.google.com/notebooks/data_table.ipynb>data table notebook</a>'\n",
              "            + ' to learn more about interactive tables.';\n",
              "          element.innerHTML = '';\n",
              "          dataTable['output_type'] = 'display_data';\n",
              "          await google.colab.output.renderOutput(dataTable, element);\n",
              "          const docLink = document.createElement('div');\n",
              "          docLink.innerHTML = docLinkHtml;\n",
              "          element.appendChild(docLink);\n",
              "        }\n",
              "      </script>\n",
              "    </div>\n",
              "  </div>\n",
              "  "
            ]
          },
          "metadata": {},
          "execution_count": 30
        }
      ]
    },
    {
      "cell_type": "code",
      "source": [
        "X1 = pd.concat([u3, y], axis=1)\n",
        "X1.head()"
      ],
      "metadata": {
        "colab": {
          "base_uri": "https://localhost:8080/",
          "height": 299
        },
        "id": "uitlbo2139Q8",
        "outputId": "c244b3c0-bc20-4893-a993-150aaf6d9927"
      },
      "execution_count": 31,
      "outputs": [
        {
          "output_type": "execute_result",
          "data": {
            "text/plain": [
              "   absent  absolute  absolutely  absurd  accept  accepted  accesible  \\\n",
              "0     0.0       0.0         0.0     0.0     0.0       0.0        0.0   \n",
              "1     0.0       0.0         0.0     0.0     0.0       0.0        0.0   \n",
              "2     0.0       0.0         0.0     0.0     0.0       0.0        0.0   \n",
              "3     0.0       0.0         0.0     0.0     0.0       0.0        0.0   \n",
              "4     0.0       0.0         0.0     0.0     0.0       0.0        0.0   \n",
              "\n",
              "   accomadating  accomidations  accommodated  ...  yep  yes   yo  yoga  young  \\\n",
              "0           0.0            0.0           0.0  ...  0.0  0.0  0.0   0.0    0.0   \n",
              "1           0.0            0.0           0.0  ...  0.0  0.0  0.0   0.0    0.0   \n",
              "2           0.0            0.0           0.0  ...  0.0  0.0  0.0   0.0    0.0   \n",
              "3           0.0            0.0           0.0  ...  0.0  0.0  0.0   0.0    0.0   \n",
              "4           0.0            0.0           0.0  ...  0.0  0.0  0.0   0.0    0.0   \n",
              "\n",
              "   youve   yr  yummy  zone  Class  \n",
              "0    0.0  0.0    0.0   0.0      1  \n",
              "1    0.0  0.0    0.0   0.0      1  \n",
              "2    0.0  0.0    0.0   0.0      1  \n",
              "3    0.0  0.0    0.0   0.0      1  \n",
              "4    0.0  0.0    0.0   0.0      1  \n",
              "\n",
              "[5 rows x 2001 columns]"
            ],
            "text/html": [
              "\n",
              "  <div id=\"df-1f32b428-9a3f-404e-84a9-0d37ae026dcf\">\n",
              "    <div class=\"colab-df-container\">\n",
              "      <div>\n",
              "<style scoped>\n",
              "    .dataframe tbody tr th:only-of-type {\n",
              "        vertical-align: middle;\n",
              "    }\n",
              "\n",
              "    .dataframe tbody tr th {\n",
              "        vertical-align: top;\n",
              "    }\n",
              "\n",
              "    .dataframe thead th {\n",
              "        text-align: right;\n",
              "    }\n",
              "</style>\n",
              "<table border=\"1\" class=\"dataframe\">\n",
              "  <thead>\n",
              "    <tr style=\"text-align: right;\">\n",
              "      <th></th>\n",
              "      <th>absent</th>\n",
              "      <th>absolute</th>\n",
              "      <th>absolutely</th>\n",
              "      <th>absurd</th>\n",
              "      <th>accept</th>\n",
              "      <th>accepted</th>\n",
              "      <th>accesible</th>\n",
              "      <th>accomadating</th>\n",
              "      <th>accomidations</th>\n",
              "      <th>accommodated</th>\n",
              "      <th>...</th>\n",
              "      <th>yep</th>\n",
              "      <th>yes</th>\n",
              "      <th>yo</th>\n",
              "      <th>yoga</th>\n",
              "      <th>young</th>\n",
              "      <th>youve</th>\n",
              "      <th>yr</th>\n",
              "      <th>yummy</th>\n",
              "      <th>zone</th>\n",
              "      <th>Class</th>\n",
              "    </tr>\n",
              "  </thead>\n",
              "  <tbody>\n",
              "    <tr>\n",
              "      <th>0</th>\n",
              "      <td>0.0</td>\n",
              "      <td>0.0</td>\n",
              "      <td>0.0</td>\n",
              "      <td>0.0</td>\n",
              "      <td>0.0</td>\n",
              "      <td>0.0</td>\n",
              "      <td>0.0</td>\n",
              "      <td>0.0</td>\n",
              "      <td>0.0</td>\n",
              "      <td>0.0</td>\n",
              "      <td>...</td>\n",
              "      <td>0.0</td>\n",
              "      <td>0.0</td>\n",
              "      <td>0.0</td>\n",
              "      <td>0.0</td>\n",
              "      <td>0.0</td>\n",
              "      <td>0.0</td>\n",
              "      <td>0.0</td>\n",
              "      <td>0.0</td>\n",
              "      <td>0.0</td>\n",
              "      <td>1</td>\n",
              "    </tr>\n",
              "    <tr>\n",
              "      <th>1</th>\n",
              "      <td>0.0</td>\n",
              "      <td>0.0</td>\n",
              "      <td>0.0</td>\n",
              "      <td>0.0</td>\n",
              "      <td>0.0</td>\n",
              "      <td>0.0</td>\n",
              "      <td>0.0</td>\n",
              "      <td>0.0</td>\n",
              "      <td>0.0</td>\n",
              "      <td>0.0</td>\n",
              "      <td>...</td>\n",
              "      <td>0.0</td>\n",
              "      <td>0.0</td>\n",
              "      <td>0.0</td>\n",
              "      <td>0.0</td>\n",
              "      <td>0.0</td>\n",
              "      <td>0.0</td>\n",
              "      <td>0.0</td>\n",
              "      <td>0.0</td>\n",
              "      <td>0.0</td>\n",
              "      <td>1</td>\n",
              "    </tr>\n",
              "    <tr>\n",
              "      <th>2</th>\n",
              "      <td>0.0</td>\n",
              "      <td>0.0</td>\n",
              "      <td>0.0</td>\n",
              "      <td>0.0</td>\n",
              "      <td>0.0</td>\n",
              "      <td>0.0</td>\n",
              "      <td>0.0</td>\n",
              "      <td>0.0</td>\n",
              "      <td>0.0</td>\n",
              "      <td>0.0</td>\n",
              "      <td>...</td>\n",
              "      <td>0.0</td>\n",
              "      <td>0.0</td>\n",
              "      <td>0.0</td>\n",
              "      <td>0.0</td>\n",
              "      <td>0.0</td>\n",
              "      <td>0.0</td>\n",
              "      <td>0.0</td>\n",
              "      <td>0.0</td>\n",
              "      <td>0.0</td>\n",
              "      <td>1</td>\n",
              "    </tr>\n",
              "    <tr>\n",
              "      <th>3</th>\n",
              "      <td>0.0</td>\n",
              "      <td>0.0</td>\n",
              "      <td>0.0</td>\n",
              "      <td>0.0</td>\n",
              "      <td>0.0</td>\n",
              "      <td>0.0</td>\n",
              "      <td>0.0</td>\n",
              "      <td>0.0</td>\n",
              "      <td>0.0</td>\n",
              "      <td>0.0</td>\n",
              "      <td>...</td>\n",
              "      <td>0.0</td>\n",
              "      <td>0.0</td>\n",
              "      <td>0.0</td>\n",
              "      <td>0.0</td>\n",
              "      <td>0.0</td>\n",
              "      <td>0.0</td>\n",
              "      <td>0.0</td>\n",
              "      <td>0.0</td>\n",
              "      <td>0.0</td>\n",
              "      <td>1</td>\n",
              "    </tr>\n",
              "    <tr>\n",
              "      <th>4</th>\n",
              "      <td>0.0</td>\n",
              "      <td>0.0</td>\n",
              "      <td>0.0</td>\n",
              "      <td>0.0</td>\n",
              "      <td>0.0</td>\n",
              "      <td>0.0</td>\n",
              "      <td>0.0</td>\n",
              "      <td>0.0</td>\n",
              "      <td>0.0</td>\n",
              "      <td>0.0</td>\n",
              "      <td>...</td>\n",
              "      <td>0.0</td>\n",
              "      <td>0.0</td>\n",
              "      <td>0.0</td>\n",
              "      <td>0.0</td>\n",
              "      <td>0.0</td>\n",
              "      <td>0.0</td>\n",
              "      <td>0.0</td>\n",
              "      <td>0.0</td>\n",
              "      <td>0.0</td>\n",
              "      <td>1</td>\n",
              "    </tr>\n",
              "  </tbody>\n",
              "</table>\n",
              "<p>5 rows × 2001 columns</p>\n",
              "</div>\n",
              "      <button class=\"colab-df-convert\" onclick=\"convertToInteractive('df-1f32b428-9a3f-404e-84a9-0d37ae026dcf')\"\n",
              "              title=\"Convert this dataframe to an interactive table.\"\n",
              "              style=\"display:none;\">\n",
              "        \n",
              "  <svg xmlns=\"http://www.w3.org/2000/svg\" height=\"24px\"viewBox=\"0 0 24 24\"\n",
              "       width=\"24px\">\n",
              "    <path d=\"M0 0h24v24H0V0z\" fill=\"none\"/>\n",
              "    <path d=\"M18.56 5.44l.94 2.06.94-2.06 2.06-.94-2.06-.94-.94-2.06-.94 2.06-2.06.94zm-11 1L8.5 8.5l.94-2.06 2.06-.94-2.06-.94L8.5 2.5l-.94 2.06-2.06.94zm10 10l.94 2.06.94-2.06 2.06-.94-2.06-.94-.94-2.06-.94 2.06-2.06.94z\"/><path d=\"M17.41 7.96l-1.37-1.37c-.4-.4-.92-.59-1.43-.59-.52 0-1.04.2-1.43.59L10.3 9.45l-7.72 7.72c-.78.78-.78 2.05 0 2.83L4 21.41c.39.39.9.59 1.41.59.51 0 1.02-.2 1.41-.59l7.78-7.78 2.81-2.81c.8-.78.8-2.07 0-2.86zM5.41 20L4 18.59l7.72-7.72 1.47 1.35L5.41 20z\"/>\n",
              "  </svg>\n",
              "      </button>\n",
              "      \n",
              "  <style>\n",
              "    .colab-df-container {\n",
              "      display:flex;\n",
              "      flex-wrap:wrap;\n",
              "      gap: 12px;\n",
              "    }\n",
              "\n",
              "    .colab-df-convert {\n",
              "      background-color: #E8F0FE;\n",
              "      border: none;\n",
              "      border-radius: 50%;\n",
              "      cursor: pointer;\n",
              "      display: none;\n",
              "      fill: #1967D2;\n",
              "      height: 32px;\n",
              "      padding: 0 0 0 0;\n",
              "      width: 32px;\n",
              "    }\n",
              "\n",
              "    .colab-df-convert:hover {\n",
              "      background-color: #E2EBFA;\n",
              "      box-shadow: 0px 1px 2px rgba(60, 64, 67, 0.3), 0px 1px 3px 1px rgba(60, 64, 67, 0.15);\n",
              "      fill: #174EA6;\n",
              "    }\n",
              "\n",
              "    [theme=dark] .colab-df-convert {\n",
              "      background-color: #3B4455;\n",
              "      fill: #D2E3FC;\n",
              "    }\n",
              "\n",
              "    [theme=dark] .colab-df-convert:hover {\n",
              "      background-color: #434B5C;\n",
              "      box-shadow: 0px 1px 3px 1px rgba(0, 0, 0, 0.15);\n",
              "      filter: drop-shadow(0px 1px 2px rgba(0, 0, 0, 0.3));\n",
              "      fill: #FFFFFF;\n",
              "    }\n",
              "  </style>\n",
              "\n",
              "      <script>\n",
              "        const buttonEl =\n",
              "          document.querySelector('#df-1f32b428-9a3f-404e-84a9-0d37ae026dcf button.colab-df-convert');\n",
              "        buttonEl.style.display =\n",
              "          google.colab.kernel.accessAllowed ? 'block' : 'none';\n",
              "\n",
              "        async function convertToInteractive(key) {\n",
              "          const element = document.querySelector('#df-1f32b428-9a3f-404e-84a9-0d37ae026dcf');\n",
              "          const dataTable =\n",
              "            await google.colab.kernel.invokeFunction('convertToInteractive',\n",
              "                                                     [key], {});\n",
              "          if (!dataTable) return;\n",
              "\n",
              "          const docLinkHtml = 'Like what you see? Visit the ' +\n",
              "            '<a target=\"_blank\" href=https://colab.research.google.com/notebooks/data_table.ipynb>data table notebook</a>'\n",
              "            + ' to learn more about interactive tables.';\n",
              "          element.innerHTML = '';\n",
              "          dataTable['output_type'] = 'display_data';\n",
              "          await google.colab.output.renderOutput(dataTable, element);\n",
              "          const docLink = document.createElement('div');\n",
              "          docLink.innerHTML = docLinkHtml;\n",
              "          element.appendChild(docLink);\n",
              "        }\n",
              "      </script>\n",
              "    </div>\n",
              "  </div>\n",
              "  "
            ]
          },
          "metadata": {},
          "execution_count": 31
        }
      ]
    },
    {
      "cell_type": "code",
      "execution_count": 32,
      "metadata": {
        "colab": {
          "base_uri": "https://localhost:8080/",
          "height": 299
        },
        "id": "LTg7qGfdoxcS",
        "outputId": "83ce2275-9955-4290-9c46-6fbedc5a9cb0"
      },
      "outputs": [
        {
          "output_type": "execute_result",
          "data": {
            "text/plain": [
              "   absent  absolute  absolutely  absurd  accept  accepted  accesible  \\\n",
              "0     0.0       0.0         0.0     0.0     0.0       0.0        0.0   \n",
              "1     0.0       0.0         0.0     0.0     0.0       0.0        0.0   \n",
              "2     0.0       0.0         0.0     0.0     0.0       0.0        0.0   \n",
              "3     0.0       0.0         0.0     0.0     0.0       0.0        0.0   \n",
              "4     0.0       0.0         0.0     0.0     0.0       0.0        0.0   \n",
              "\n",
              "   accomadating  accomidations  accommodated  ...  yellow  yep  yes   yo  \\\n",
              "0           0.0            0.0           0.0  ...     0.0  0.0  0.0  0.0   \n",
              "1           0.0            0.0           0.0  ...     0.0  0.0  0.0  0.0   \n",
              "2           0.0            0.0           0.0  ...     0.0  0.0  0.0  0.0   \n",
              "3           0.0            0.0           0.0  ...     0.0  0.0  0.0  0.0   \n",
              "4           0.0            0.0           0.0  ...     0.0  0.0  0.0  0.0   \n",
              "\n",
              "   yoga  young  youve   yr  yummy  zone  \n",
              "0   0.0    0.0    0.0  0.0    0.0   0.0  \n",
              "1   0.0    0.0    0.0  0.0    0.0   0.0  \n",
              "2   0.0    0.0    0.0  0.0    0.0   0.0  \n",
              "3   0.0    0.0    0.0  0.0    0.0   0.0  \n",
              "4   0.0    0.0    0.0  0.0    0.0   0.0  \n",
              "\n",
              "[5 rows x 2000 columns]"
            ],
            "text/html": [
              "\n",
              "  <div id=\"df-845ef315-a06a-49bc-b83f-e95418982121\">\n",
              "    <div class=\"colab-df-container\">\n",
              "      <div>\n",
              "<style scoped>\n",
              "    .dataframe tbody tr th:only-of-type {\n",
              "        vertical-align: middle;\n",
              "    }\n",
              "\n",
              "    .dataframe tbody tr th {\n",
              "        vertical-align: top;\n",
              "    }\n",
              "\n",
              "    .dataframe thead th {\n",
              "        text-align: right;\n",
              "    }\n",
              "</style>\n",
              "<table border=\"1\" class=\"dataframe\">\n",
              "  <thead>\n",
              "    <tr style=\"text-align: right;\">\n",
              "      <th></th>\n",
              "      <th>absent</th>\n",
              "      <th>absolute</th>\n",
              "      <th>absolutely</th>\n",
              "      <th>absurd</th>\n",
              "      <th>accept</th>\n",
              "      <th>accepted</th>\n",
              "      <th>accesible</th>\n",
              "      <th>accomadating</th>\n",
              "      <th>accomidations</th>\n",
              "      <th>accommodated</th>\n",
              "      <th>...</th>\n",
              "      <th>yellow</th>\n",
              "      <th>yep</th>\n",
              "      <th>yes</th>\n",
              "      <th>yo</th>\n",
              "      <th>yoga</th>\n",
              "      <th>young</th>\n",
              "      <th>youve</th>\n",
              "      <th>yr</th>\n",
              "      <th>yummy</th>\n",
              "      <th>zone</th>\n",
              "    </tr>\n",
              "  </thead>\n",
              "  <tbody>\n",
              "    <tr>\n",
              "      <th>0</th>\n",
              "      <td>0.0</td>\n",
              "      <td>0.0</td>\n",
              "      <td>0.0</td>\n",
              "      <td>0.0</td>\n",
              "      <td>0.0</td>\n",
              "      <td>0.0</td>\n",
              "      <td>0.0</td>\n",
              "      <td>0.0</td>\n",
              "      <td>0.0</td>\n",
              "      <td>0.0</td>\n",
              "      <td>...</td>\n",
              "      <td>0.0</td>\n",
              "      <td>0.0</td>\n",
              "      <td>0.0</td>\n",
              "      <td>0.0</td>\n",
              "      <td>0.0</td>\n",
              "      <td>0.0</td>\n",
              "      <td>0.0</td>\n",
              "      <td>0.0</td>\n",
              "      <td>0.0</td>\n",
              "      <td>0.0</td>\n",
              "    </tr>\n",
              "    <tr>\n",
              "      <th>1</th>\n",
              "      <td>0.0</td>\n",
              "      <td>0.0</td>\n",
              "      <td>0.0</td>\n",
              "      <td>0.0</td>\n",
              "      <td>0.0</td>\n",
              "      <td>0.0</td>\n",
              "      <td>0.0</td>\n",
              "      <td>0.0</td>\n",
              "      <td>0.0</td>\n",
              "      <td>0.0</td>\n",
              "      <td>...</td>\n",
              "      <td>0.0</td>\n",
              "      <td>0.0</td>\n",
              "      <td>0.0</td>\n",
              "      <td>0.0</td>\n",
              "      <td>0.0</td>\n",
              "      <td>0.0</td>\n",
              "      <td>0.0</td>\n",
              "      <td>0.0</td>\n",
              "      <td>0.0</td>\n",
              "      <td>0.0</td>\n",
              "    </tr>\n",
              "    <tr>\n",
              "      <th>2</th>\n",
              "      <td>0.0</td>\n",
              "      <td>0.0</td>\n",
              "      <td>0.0</td>\n",
              "      <td>0.0</td>\n",
              "      <td>0.0</td>\n",
              "      <td>0.0</td>\n",
              "      <td>0.0</td>\n",
              "      <td>0.0</td>\n",
              "      <td>0.0</td>\n",
              "      <td>0.0</td>\n",
              "      <td>...</td>\n",
              "      <td>0.0</td>\n",
              "      <td>0.0</td>\n",
              "      <td>0.0</td>\n",
              "      <td>0.0</td>\n",
              "      <td>0.0</td>\n",
              "      <td>0.0</td>\n",
              "      <td>0.0</td>\n",
              "      <td>0.0</td>\n",
              "      <td>0.0</td>\n",
              "      <td>0.0</td>\n",
              "    </tr>\n",
              "    <tr>\n",
              "      <th>3</th>\n",
              "      <td>0.0</td>\n",
              "      <td>0.0</td>\n",
              "      <td>0.0</td>\n",
              "      <td>0.0</td>\n",
              "      <td>0.0</td>\n",
              "      <td>0.0</td>\n",
              "      <td>0.0</td>\n",
              "      <td>0.0</td>\n",
              "      <td>0.0</td>\n",
              "      <td>0.0</td>\n",
              "      <td>...</td>\n",
              "      <td>0.0</td>\n",
              "      <td>0.0</td>\n",
              "      <td>0.0</td>\n",
              "      <td>0.0</td>\n",
              "      <td>0.0</td>\n",
              "      <td>0.0</td>\n",
              "      <td>0.0</td>\n",
              "      <td>0.0</td>\n",
              "      <td>0.0</td>\n",
              "      <td>0.0</td>\n",
              "    </tr>\n",
              "    <tr>\n",
              "      <th>4</th>\n",
              "      <td>0.0</td>\n",
              "      <td>0.0</td>\n",
              "      <td>0.0</td>\n",
              "      <td>0.0</td>\n",
              "      <td>0.0</td>\n",
              "      <td>0.0</td>\n",
              "      <td>0.0</td>\n",
              "      <td>0.0</td>\n",
              "      <td>0.0</td>\n",
              "      <td>0.0</td>\n",
              "      <td>...</td>\n",
              "      <td>0.0</td>\n",
              "      <td>0.0</td>\n",
              "      <td>0.0</td>\n",
              "      <td>0.0</td>\n",
              "      <td>0.0</td>\n",
              "      <td>0.0</td>\n",
              "      <td>0.0</td>\n",
              "      <td>0.0</td>\n",
              "      <td>0.0</td>\n",
              "      <td>0.0</td>\n",
              "    </tr>\n",
              "  </tbody>\n",
              "</table>\n",
              "<p>5 rows × 2000 columns</p>\n",
              "</div>\n",
              "      <button class=\"colab-df-convert\" onclick=\"convertToInteractive('df-845ef315-a06a-49bc-b83f-e95418982121')\"\n",
              "              title=\"Convert this dataframe to an interactive table.\"\n",
              "              style=\"display:none;\">\n",
              "        \n",
              "  <svg xmlns=\"http://www.w3.org/2000/svg\" height=\"24px\"viewBox=\"0 0 24 24\"\n",
              "       width=\"24px\">\n",
              "    <path d=\"M0 0h24v24H0V0z\" fill=\"none\"/>\n",
              "    <path d=\"M18.56 5.44l.94 2.06.94-2.06 2.06-.94-2.06-.94-.94-2.06-.94 2.06-2.06.94zm-11 1L8.5 8.5l.94-2.06 2.06-.94-2.06-.94L8.5 2.5l-.94 2.06-2.06.94zm10 10l.94 2.06.94-2.06 2.06-.94-2.06-.94-.94-2.06-.94 2.06-2.06.94z\"/><path d=\"M17.41 7.96l-1.37-1.37c-.4-.4-.92-.59-1.43-.59-.52 0-1.04.2-1.43.59L10.3 9.45l-7.72 7.72c-.78.78-.78 2.05 0 2.83L4 21.41c.39.39.9.59 1.41.59.51 0 1.02-.2 1.41-.59l7.78-7.78 2.81-2.81c.8-.78.8-2.07 0-2.86zM5.41 20L4 18.59l7.72-7.72 1.47 1.35L5.41 20z\"/>\n",
              "  </svg>\n",
              "      </button>\n",
              "      \n",
              "  <style>\n",
              "    .colab-df-container {\n",
              "      display:flex;\n",
              "      flex-wrap:wrap;\n",
              "      gap: 12px;\n",
              "    }\n",
              "\n",
              "    .colab-df-convert {\n",
              "      background-color: #E8F0FE;\n",
              "      border: none;\n",
              "      border-radius: 50%;\n",
              "      cursor: pointer;\n",
              "      display: none;\n",
              "      fill: #1967D2;\n",
              "      height: 32px;\n",
              "      padding: 0 0 0 0;\n",
              "      width: 32px;\n",
              "    }\n",
              "\n",
              "    .colab-df-convert:hover {\n",
              "      background-color: #E2EBFA;\n",
              "      box-shadow: 0px 1px 2px rgba(60, 64, 67, 0.3), 0px 1px 3px 1px rgba(60, 64, 67, 0.15);\n",
              "      fill: #174EA6;\n",
              "    }\n",
              "\n",
              "    [theme=dark] .colab-df-convert {\n",
              "      background-color: #3B4455;\n",
              "      fill: #D2E3FC;\n",
              "    }\n",
              "\n",
              "    [theme=dark] .colab-df-convert:hover {\n",
              "      background-color: #434B5C;\n",
              "      box-shadow: 0px 1px 3px 1px rgba(0, 0, 0, 0.15);\n",
              "      filter: drop-shadow(0px 1px 2px rgba(0, 0, 0, 0.3));\n",
              "      fill: #FFFFFF;\n",
              "    }\n",
              "  </style>\n",
              "\n",
              "      <script>\n",
              "        const buttonEl =\n",
              "          document.querySelector('#df-845ef315-a06a-49bc-b83f-e95418982121 button.colab-df-convert');\n",
              "        buttonEl.style.display =\n",
              "          google.colab.kernel.accessAllowed ? 'block' : 'none';\n",
              "\n",
              "        async function convertToInteractive(key) {\n",
              "          const element = document.querySelector('#df-845ef315-a06a-49bc-b83f-e95418982121');\n",
              "          const dataTable =\n",
              "            await google.colab.kernel.invokeFunction('convertToInteractive',\n",
              "                                                     [key], {});\n",
              "          if (!dataTable) return;\n",
              "\n",
              "          const docLinkHtml = 'Like what you see? Visit the ' +\n",
              "            '<a target=\"_blank\" href=https://colab.research.google.com/notebooks/data_table.ipynb>data table notebook</a>'\n",
              "            + ' to learn more about interactive tables.';\n",
              "          element.innerHTML = '';\n",
              "          dataTable['output_type'] = 'display_data';\n",
              "          await google.colab.output.renderOutput(dataTable, element);\n",
              "          const docLink = document.createElement('div');\n",
              "          docLink.innerHTML = docLinkHtml;\n",
              "          element.appendChild(docLink);\n",
              "        }\n",
              "      </script>\n",
              "    </div>\n",
              "  </div>\n",
              "  "
            ]
          },
          "metadata": {},
          "execution_count": 32
        }
      ],
      "source": [
        "u3.head()"
      ]
    },
    {
      "cell_type": "code",
      "execution_count": 33,
      "metadata": {
        "id": "qltGdJ_hp1GE",
        "colab": {
          "base_uri": "https://localhost:8080/"
        },
        "outputId": "e019fb5a-2888-498d-d347-4734e1c83e44"
      },
      "outputs": [
        {
          "output_type": "execute_result",
          "data": {
            "text/plain": [
              "1    800\n",
              "0    800\n",
              "Name: Class, dtype: int64"
            ]
          },
          "metadata": {},
          "execution_count": 33
        }
      ],
      "source": [
        "df['Class'].value_counts()"
      ]
    },
    {
      "cell_type": "code",
      "execution_count": 34,
      "metadata": {
        "id": "koE2KSqQoyKC"
      },
      "outputs": [],
      "source": [
        "#node_Class\n",
        "node_Class = df[\"Class\"]"
      ]
    },
    {
      "cell_type": "markdown",
      "source": [
        "### Distance calculation for creating adjacency matrix"
      ],
      "metadata": {
        "id": "TUw-731UG5gq"
      }
    },
    {
      "cell_type": "code",
      "execution_count": 35,
      "metadata": {
        "colab": {
          "base_uri": "https://localhost:8080/"
        },
        "id": "exJEj2atrTnU",
        "outputId": "faf50de6-c92b-4c2c-b00d-653b1dc5bd6e"
      },
      "outputs": [
        {
          "output_type": "execute_result",
          "data": {
            "text/plain": [
              "array([[1.11022302e-16, 8.61115098e-01, 8.93161878e-01, ...,\n",
              "        9.71838153e-01, 9.60691020e-01, 9.48789917e-01],\n",
              "       [8.61115098e-01, 0.00000000e+00, 9.48096680e-01, ...,\n",
              "        1.00000000e+00, 1.00000000e+00, 9.89244954e-01],\n",
              "       [8.93161878e-01, 9.48096680e-01, 0.00000000e+00, ...,\n",
              "        9.14839755e-01, 9.66355097e-01, 8.97180647e-01],\n",
              "       ...,\n",
              "       [9.71838153e-01, 1.00000000e+00, 9.14839755e-01, ...,\n",
              "        0.00000000e+00, 9.76306377e-01, 9.66034273e-01],\n",
              "       [9.60691020e-01, 1.00000000e+00, 9.66355097e-01, ...,\n",
              "        9.76306377e-01, 0.00000000e+00, 9.88139949e-01],\n",
              "       [9.48789917e-01, 9.89244954e-01, 8.97180647e-01, ...,\n",
              "        9.66034273e-01, 9.88139949e-01, 0.00000000e+00]])"
            ]
          },
          "metadata": {},
          "execution_count": 35
        }
      ],
      "source": [
        "from scipy.spatial.distance import cdist\n",
        "s = cdist(u3, u3, 'cosine')\n",
        "s"
      ]
    },
    {
      "cell_type": "code",
      "execution_count": 36,
      "metadata": {
        "colab": {
          "base_uri": "https://localhost:8080/",
          "height": 487
        },
        "id": "6bzDQDOcqC4Z",
        "outputId": "5ed7c7be-786c-42ce-d270-ab8471ce2a6a"
      },
      "outputs": [
        {
          "output_type": "execute_result",
          "data": {
            "text/plain": [
              "              0         1         2             3             4         5     \\\n",
              "0     1.110223e-16  0.861115  0.893162  9.535281e-01  9.239521e-01  0.923762   \n",
              "1     8.611151e-01  0.000000  0.948097  9.922008e-01  9.443647e-01  0.983987   \n",
              "2     8.931619e-01  0.948097  0.000000  9.422684e-01  9.877688e-01  0.929204   \n",
              "3     9.535281e-01  0.992201  0.942268  1.110223e-16  7.318305e-01  0.969554   \n",
              "4     9.239521e-01  0.944365  0.987769  7.318305e-01  2.220446e-16  0.952659   \n",
              "...            ...       ...       ...           ...           ...       ...   \n",
              "1595  9.876540e-01  0.990237  0.907486  9.567858e-01  9.802569e-01  0.948040   \n",
              "1596  1.000000e+00  1.000000  0.969597  9.778042e-01  1.000000e+00  0.959903   \n",
              "1597  9.718382e-01  1.000000  0.914840  9.579530e-01  9.821301e-01  0.935193   \n",
              "1598  9.606910e-01  1.000000  0.966355  1.000000e+00  1.000000e+00  0.947264   \n",
              "1599  9.487899e-01  0.989245  0.897181  9.754921e-01  9.713504e-01  0.933750   \n",
              "\n",
              "          6         7         8         9     ...      1590      1591  \\\n",
              "0     0.883069  0.885517  0.943042  0.959063  ...  0.952678  0.934468   \n",
              "1     0.923527  0.917400  0.961137  0.799819  ...  0.932731  0.969222   \n",
              "2     0.984378  0.944090  0.965702  0.903379  ...  0.866730  0.988422   \n",
              "3     0.957085  0.907548  0.979304  0.940073  ...  0.975712  0.990533   \n",
              "4     0.934721  0.862680  0.920419  0.931521  ...  1.000000  0.976028   \n",
              "...        ...       ...       ...       ...  ...       ...       ...   \n",
              "1595  0.936910  0.893760  0.961601  0.964672  ...  0.922313  0.978839   \n",
              "1596  0.987111  0.973142  0.967368  0.959411  ...  0.872730  0.802347   \n",
              "1597  0.967274  0.899749  0.954509  0.933510  ...  0.916626  0.968114   \n",
              "1598  0.988969  0.993516  0.969080  0.972066  ...  0.964259  0.959999   \n",
              "1599  0.949539  0.969216  0.948570  0.990821  ...  0.722344  0.789106   \n",
              "\n",
              "          1592      1593      1594      1595          1596      1597  \\\n",
              "0     0.975706  0.954038  0.933911  0.987654  1.000000e+00  0.971838   \n",
              "1     1.000000  1.000000  0.989314  0.990237  1.000000e+00  1.000000   \n",
              "2     0.967337  0.971177  0.973245  0.907486  9.695966e-01  0.914840   \n",
              "3     1.000000  1.000000  0.958178  0.956786  9.778042e-01  0.957953   \n",
              "4     0.989715  1.000000  1.000000  0.980257  1.000000e+00  0.982130   \n",
              "...        ...       ...       ...       ...           ...       ...   \n",
              "1595  0.982555  1.000000  0.956487  0.000000  9.691772e-01  0.948499   \n",
              "1596  0.982620  0.929319  0.969963  0.969177  2.220446e-16  0.940176   \n",
              "1597  0.959407  1.000000  0.956359  0.948499  9.401761e-01  0.000000   \n",
              "1598  0.968286  0.897802  0.984289  0.983877  9.382144e-01  0.976306   \n",
              "1599  0.939066  0.942151  0.939236  0.956689  8.615434e-01  0.966034   \n",
              "\n",
              "          1598      1599  \n",
              "0     0.960691  0.948790  \n",
              "1     1.000000  0.989245  \n",
              "2     0.966355  0.897181  \n",
              "3     1.000000  0.975492  \n",
              "4     1.000000  0.971350  \n",
              "...        ...       ...  \n",
              "1595  0.983877  0.956689  \n",
              "1596  0.938214  0.861543  \n",
              "1597  0.976306  0.966034  \n",
              "1598  0.000000  0.988140  \n",
              "1599  0.988140  0.000000  \n",
              "\n",
              "[1600 rows x 1600 columns]"
            ],
            "text/html": [
              "\n",
              "  <div id=\"df-b469d117-8d23-4897-8e10-a6f397bc7a15\">\n",
              "    <div class=\"colab-df-container\">\n",
              "      <div>\n",
              "<style scoped>\n",
              "    .dataframe tbody tr th:only-of-type {\n",
              "        vertical-align: middle;\n",
              "    }\n",
              "\n",
              "    .dataframe tbody tr th {\n",
              "        vertical-align: top;\n",
              "    }\n",
              "\n",
              "    .dataframe thead th {\n",
              "        text-align: right;\n",
              "    }\n",
              "</style>\n",
              "<table border=\"1\" class=\"dataframe\">\n",
              "  <thead>\n",
              "    <tr style=\"text-align: right;\">\n",
              "      <th></th>\n",
              "      <th>0</th>\n",
              "      <th>1</th>\n",
              "      <th>2</th>\n",
              "      <th>3</th>\n",
              "      <th>4</th>\n",
              "      <th>5</th>\n",
              "      <th>6</th>\n",
              "      <th>7</th>\n",
              "      <th>8</th>\n",
              "      <th>9</th>\n",
              "      <th>...</th>\n",
              "      <th>1590</th>\n",
              "      <th>1591</th>\n",
              "      <th>1592</th>\n",
              "      <th>1593</th>\n",
              "      <th>1594</th>\n",
              "      <th>1595</th>\n",
              "      <th>1596</th>\n",
              "      <th>1597</th>\n",
              "      <th>1598</th>\n",
              "      <th>1599</th>\n",
              "    </tr>\n",
              "  </thead>\n",
              "  <tbody>\n",
              "    <tr>\n",
              "      <th>0</th>\n",
              "      <td>1.110223e-16</td>\n",
              "      <td>0.861115</td>\n",
              "      <td>0.893162</td>\n",
              "      <td>9.535281e-01</td>\n",
              "      <td>9.239521e-01</td>\n",
              "      <td>0.923762</td>\n",
              "      <td>0.883069</td>\n",
              "      <td>0.885517</td>\n",
              "      <td>0.943042</td>\n",
              "      <td>0.959063</td>\n",
              "      <td>...</td>\n",
              "      <td>0.952678</td>\n",
              "      <td>0.934468</td>\n",
              "      <td>0.975706</td>\n",
              "      <td>0.954038</td>\n",
              "      <td>0.933911</td>\n",
              "      <td>0.987654</td>\n",
              "      <td>1.000000e+00</td>\n",
              "      <td>0.971838</td>\n",
              "      <td>0.960691</td>\n",
              "      <td>0.948790</td>\n",
              "    </tr>\n",
              "    <tr>\n",
              "      <th>1</th>\n",
              "      <td>8.611151e-01</td>\n",
              "      <td>0.000000</td>\n",
              "      <td>0.948097</td>\n",
              "      <td>9.922008e-01</td>\n",
              "      <td>9.443647e-01</td>\n",
              "      <td>0.983987</td>\n",
              "      <td>0.923527</td>\n",
              "      <td>0.917400</td>\n",
              "      <td>0.961137</td>\n",
              "      <td>0.799819</td>\n",
              "      <td>...</td>\n",
              "      <td>0.932731</td>\n",
              "      <td>0.969222</td>\n",
              "      <td>1.000000</td>\n",
              "      <td>1.000000</td>\n",
              "      <td>0.989314</td>\n",
              "      <td>0.990237</td>\n",
              "      <td>1.000000e+00</td>\n",
              "      <td>1.000000</td>\n",
              "      <td>1.000000</td>\n",
              "      <td>0.989245</td>\n",
              "    </tr>\n",
              "    <tr>\n",
              "      <th>2</th>\n",
              "      <td>8.931619e-01</td>\n",
              "      <td>0.948097</td>\n",
              "      <td>0.000000</td>\n",
              "      <td>9.422684e-01</td>\n",
              "      <td>9.877688e-01</td>\n",
              "      <td>0.929204</td>\n",
              "      <td>0.984378</td>\n",
              "      <td>0.944090</td>\n",
              "      <td>0.965702</td>\n",
              "      <td>0.903379</td>\n",
              "      <td>...</td>\n",
              "      <td>0.866730</td>\n",
              "      <td>0.988422</td>\n",
              "      <td>0.967337</td>\n",
              "      <td>0.971177</td>\n",
              "      <td>0.973245</td>\n",
              "      <td>0.907486</td>\n",
              "      <td>9.695966e-01</td>\n",
              "      <td>0.914840</td>\n",
              "      <td>0.966355</td>\n",
              "      <td>0.897181</td>\n",
              "    </tr>\n",
              "    <tr>\n",
              "      <th>3</th>\n",
              "      <td>9.535281e-01</td>\n",
              "      <td>0.992201</td>\n",
              "      <td>0.942268</td>\n",
              "      <td>1.110223e-16</td>\n",
              "      <td>7.318305e-01</td>\n",
              "      <td>0.969554</td>\n",
              "      <td>0.957085</td>\n",
              "      <td>0.907548</td>\n",
              "      <td>0.979304</td>\n",
              "      <td>0.940073</td>\n",
              "      <td>...</td>\n",
              "      <td>0.975712</td>\n",
              "      <td>0.990533</td>\n",
              "      <td>1.000000</td>\n",
              "      <td>1.000000</td>\n",
              "      <td>0.958178</td>\n",
              "      <td>0.956786</td>\n",
              "      <td>9.778042e-01</td>\n",
              "      <td>0.957953</td>\n",
              "      <td>1.000000</td>\n",
              "      <td>0.975492</td>\n",
              "    </tr>\n",
              "    <tr>\n",
              "      <th>4</th>\n",
              "      <td>9.239521e-01</td>\n",
              "      <td>0.944365</td>\n",
              "      <td>0.987769</td>\n",
              "      <td>7.318305e-01</td>\n",
              "      <td>2.220446e-16</td>\n",
              "      <td>0.952659</td>\n",
              "      <td>0.934721</td>\n",
              "      <td>0.862680</td>\n",
              "      <td>0.920419</td>\n",
              "      <td>0.931521</td>\n",
              "      <td>...</td>\n",
              "      <td>1.000000</td>\n",
              "      <td>0.976028</td>\n",
              "      <td>0.989715</td>\n",
              "      <td>1.000000</td>\n",
              "      <td>1.000000</td>\n",
              "      <td>0.980257</td>\n",
              "      <td>1.000000e+00</td>\n",
              "      <td>0.982130</td>\n",
              "      <td>1.000000</td>\n",
              "      <td>0.971350</td>\n",
              "    </tr>\n",
              "    <tr>\n",
              "      <th>...</th>\n",
              "      <td>...</td>\n",
              "      <td>...</td>\n",
              "      <td>...</td>\n",
              "      <td>...</td>\n",
              "      <td>...</td>\n",
              "      <td>...</td>\n",
              "      <td>...</td>\n",
              "      <td>...</td>\n",
              "      <td>...</td>\n",
              "      <td>...</td>\n",
              "      <td>...</td>\n",
              "      <td>...</td>\n",
              "      <td>...</td>\n",
              "      <td>...</td>\n",
              "      <td>...</td>\n",
              "      <td>...</td>\n",
              "      <td>...</td>\n",
              "      <td>...</td>\n",
              "      <td>...</td>\n",
              "      <td>...</td>\n",
              "      <td>...</td>\n",
              "    </tr>\n",
              "    <tr>\n",
              "      <th>1595</th>\n",
              "      <td>9.876540e-01</td>\n",
              "      <td>0.990237</td>\n",
              "      <td>0.907486</td>\n",
              "      <td>9.567858e-01</td>\n",
              "      <td>9.802569e-01</td>\n",
              "      <td>0.948040</td>\n",
              "      <td>0.936910</td>\n",
              "      <td>0.893760</td>\n",
              "      <td>0.961601</td>\n",
              "      <td>0.964672</td>\n",
              "      <td>...</td>\n",
              "      <td>0.922313</td>\n",
              "      <td>0.978839</td>\n",
              "      <td>0.982555</td>\n",
              "      <td>1.000000</td>\n",
              "      <td>0.956487</td>\n",
              "      <td>0.000000</td>\n",
              "      <td>9.691772e-01</td>\n",
              "      <td>0.948499</td>\n",
              "      <td>0.983877</td>\n",
              "      <td>0.956689</td>\n",
              "    </tr>\n",
              "    <tr>\n",
              "      <th>1596</th>\n",
              "      <td>1.000000e+00</td>\n",
              "      <td>1.000000</td>\n",
              "      <td>0.969597</td>\n",
              "      <td>9.778042e-01</td>\n",
              "      <td>1.000000e+00</td>\n",
              "      <td>0.959903</td>\n",
              "      <td>0.987111</td>\n",
              "      <td>0.973142</td>\n",
              "      <td>0.967368</td>\n",
              "      <td>0.959411</td>\n",
              "      <td>...</td>\n",
              "      <td>0.872730</td>\n",
              "      <td>0.802347</td>\n",
              "      <td>0.982620</td>\n",
              "      <td>0.929319</td>\n",
              "      <td>0.969963</td>\n",
              "      <td>0.969177</td>\n",
              "      <td>2.220446e-16</td>\n",
              "      <td>0.940176</td>\n",
              "      <td>0.938214</td>\n",
              "      <td>0.861543</td>\n",
              "    </tr>\n",
              "    <tr>\n",
              "      <th>1597</th>\n",
              "      <td>9.718382e-01</td>\n",
              "      <td>1.000000</td>\n",
              "      <td>0.914840</td>\n",
              "      <td>9.579530e-01</td>\n",
              "      <td>9.821301e-01</td>\n",
              "      <td>0.935193</td>\n",
              "      <td>0.967274</td>\n",
              "      <td>0.899749</td>\n",
              "      <td>0.954509</td>\n",
              "      <td>0.933510</td>\n",
              "      <td>...</td>\n",
              "      <td>0.916626</td>\n",
              "      <td>0.968114</td>\n",
              "      <td>0.959407</td>\n",
              "      <td>1.000000</td>\n",
              "      <td>0.956359</td>\n",
              "      <td>0.948499</td>\n",
              "      <td>9.401761e-01</td>\n",
              "      <td>0.000000</td>\n",
              "      <td>0.976306</td>\n",
              "      <td>0.966034</td>\n",
              "    </tr>\n",
              "    <tr>\n",
              "      <th>1598</th>\n",
              "      <td>9.606910e-01</td>\n",
              "      <td>1.000000</td>\n",
              "      <td>0.966355</td>\n",
              "      <td>1.000000e+00</td>\n",
              "      <td>1.000000e+00</td>\n",
              "      <td>0.947264</td>\n",
              "      <td>0.988969</td>\n",
              "      <td>0.993516</td>\n",
              "      <td>0.969080</td>\n",
              "      <td>0.972066</td>\n",
              "      <td>...</td>\n",
              "      <td>0.964259</td>\n",
              "      <td>0.959999</td>\n",
              "      <td>0.968286</td>\n",
              "      <td>0.897802</td>\n",
              "      <td>0.984289</td>\n",
              "      <td>0.983877</td>\n",
              "      <td>9.382144e-01</td>\n",
              "      <td>0.976306</td>\n",
              "      <td>0.000000</td>\n",
              "      <td>0.988140</td>\n",
              "    </tr>\n",
              "    <tr>\n",
              "      <th>1599</th>\n",
              "      <td>9.487899e-01</td>\n",
              "      <td>0.989245</td>\n",
              "      <td>0.897181</td>\n",
              "      <td>9.754921e-01</td>\n",
              "      <td>9.713504e-01</td>\n",
              "      <td>0.933750</td>\n",
              "      <td>0.949539</td>\n",
              "      <td>0.969216</td>\n",
              "      <td>0.948570</td>\n",
              "      <td>0.990821</td>\n",
              "      <td>...</td>\n",
              "      <td>0.722344</td>\n",
              "      <td>0.789106</td>\n",
              "      <td>0.939066</td>\n",
              "      <td>0.942151</td>\n",
              "      <td>0.939236</td>\n",
              "      <td>0.956689</td>\n",
              "      <td>8.615434e-01</td>\n",
              "      <td>0.966034</td>\n",
              "      <td>0.988140</td>\n",
              "      <td>0.000000</td>\n",
              "    </tr>\n",
              "  </tbody>\n",
              "</table>\n",
              "<p>1600 rows × 1600 columns</p>\n",
              "</div>\n",
              "      <button class=\"colab-df-convert\" onclick=\"convertToInteractive('df-b469d117-8d23-4897-8e10-a6f397bc7a15')\"\n",
              "              title=\"Convert this dataframe to an interactive table.\"\n",
              "              style=\"display:none;\">\n",
              "        \n",
              "  <svg xmlns=\"http://www.w3.org/2000/svg\" height=\"24px\"viewBox=\"0 0 24 24\"\n",
              "       width=\"24px\">\n",
              "    <path d=\"M0 0h24v24H0V0z\" fill=\"none\"/>\n",
              "    <path d=\"M18.56 5.44l.94 2.06.94-2.06 2.06-.94-2.06-.94-.94-2.06-.94 2.06-2.06.94zm-11 1L8.5 8.5l.94-2.06 2.06-.94-2.06-.94L8.5 2.5l-.94 2.06-2.06.94zm10 10l.94 2.06.94-2.06 2.06-.94-2.06-.94-.94-2.06-.94 2.06-2.06.94z\"/><path d=\"M17.41 7.96l-1.37-1.37c-.4-.4-.92-.59-1.43-.59-.52 0-1.04.2-1.43.59L10.3 9.45l-7.72 7.72c-.78.78-.78 2.05 0 2.83L4 21.41c.39.39.9.59 1.41.59.51 0 1.02-.2 1.41-.59l7.78-7.78 2.81-2.81c.8-.78.8-2.07 0-2.86zM5.41 20L4 18.59l7.72-7.72 1.47 1.35L5.41 20z\"/>\n",
              "  </svg>\n",
              "      </button>\n",
              "      \n",
              "  <style>\n",
              "    .colab-df-container {\n",
              "      display:flex;\n",
              "      flex-wrap:wrap;\n",
              "      gap: 12px;\n",
              "    }\n",
              "\n",
              "    .colab-df-convert {\n",
              "      background-color: #E8F0FE;\n",
              "      border: none;\n",
              "      border-radius: 50%;\n",
              "      cursor: pointer;\n",
              "      display: none;\n",
              "      fill: #1967D2;\n",
              "      height: 32px;\n",
              "      padding: 0 0 0 0;\n",
              "      width: 32px;\n",
              "    }\n",
              "\n",
              "    .colab-df-convert:hover {\n",
              "      background-color: #E2EBFA;\n",
              "      box-shadow: 0px 1px 2px rgba(60, 64, 67, 0.3), 0px 1px 3px 1px rgba(60, 64, 67, 0.15);\n",
              "      fill: #174EA6;\n",
              "    }\n",
              "\n",
              "    [theme=dark] .colab-df-convert {\n",
              "      background-color: #3B4455;\n",
              "      fill: #D2E3FC;\n",
              "    }\n",
              "\n",
              "    [theme=dark] .colab-df-convert:hover {\n",
              "      background-color: #434B5C;\n",
              "      box-shadow: 0px 1px 3px 1px rgba(0, 0, 0, 0.15);\n",
              "      filter: drop-shadow(0px 1px 2px rgba(0, 0, 0, 0.3));\n",
              "      fill: #FFFFFF;\n",
              "    }\n",
              "  </style>\n",
              "\n",
              "      <script>\n",
              "        const buttonEl =\n",
              "          document.querySelector('#df-b469d117-8d23-4897-8e10-a6f397bc7a15 button.colab-df-convert');\n",
              "        buttonEl.style.display =\n",
              "          google.colab.kernel.accessAllowed ? 'block' : 'none';\n",
              "\n",
              "        async function convertToInteractive(key) {\n",
              "          const element = document.querySelector('#df-b469d117-8d23-4897-8e10-a6f397bc7a15');\n",
              "          const dataTable =\n",
              "            await google.colab.kernel.invokeFunction('convertToInteractive',\n",
              "                                                     [key], {});\n",
              "          if (!dataTable) return;\n",
              "\n",
              "          const docLinkHtml = 'Like what you see? Visit the ' +\n",
              "            '<a target=\"_blank\" href=https://colab.research.google.com/notebooks/data_table.ipynb>data table notebook</a>'\n",
              "            + ' to learn more about interactive tables.';\n",
              "          element.innerHTML = '';\n",
              "          dataTable['output_type'] = 'display_data';\n",
              "          await google.colab.output.renderOutput(dataTable, element);\n",
              "          const docLink = document.createElement('div');\n",
              "          docLink.innerHTML = docLinkHtml;\n",
              "          element.appendChild(docLink);\n",
              "        }\n",
              "      </script>\n",
              "    </div>\n",
              "  </div>\n",
              "  "
            ]
          },
          "metadata": {},
          "execution_count": 36
        }
      ],
      "source": [
        "X1=pd.DataFrame(s)\n",
        "X1"
      ]
    },
    {
      "cell_type": "code",
      "source": [
        "# taking average of the hamming distance matrix\n",
        "y = np.average(X1)\n",
        "y"
      ],
      "metadata": {
        "id": "70M6Gijl6IhB",
        "colab": {
          "base_uri": "https://localhost:8080/"
        },
        "outputId": "a76ede65-af69-49dd-f046-ebd1a3e495ee"
      },
      "execution_count": 37,
      "outputs": [
        {
          "output_type": "execute_result",
          "data": {
            "text/plain": [
              "0.9418904477603389"
            ]
          },
          "metadata": {},
          "execution_count": 37
        }
      ]
    },
    {
      "cell_type": "code",
      "source": [
        "adjmat_df=X1.copy()"
      ],
      "metadata": {
        "id": "ISZjyF3peSVD"
      },
      "execution_count": 38,
      "outputs": []
    },
    {
      "cell_type": "code",
      "source": [
        "# setting threshold value as mean of hamming matrix\n",
        "adjmat_df[adjmat_df < y]=0\n",
        "adjmat_df[adjmat_df >= y]=1"
      ],
      "metadata": {
        "id": "_6aEfrHbeSWh"
      },
      "execution_count": 39,
      "outputs": []
    },
    {
      "cell_type": "code",
      "source": [
        "# adjacency matrix\n",
        "adjmat_df"
      ],
      "metadata": {
        "colab": {
          "base_uri": "https://localhost:8080/",
          "height": 423
        },
        "id": "yqLIiSDLeSab",
        "outputId": "5bcbe6ae-17c7-424c-9f32-90c20295c899"
      },
      "execution_count": 40,
      "outputs": [
        {
          "output_type": "execute_result",
          "data": {
            "text/plain": [
              "      0     1     2     3     4     5     6     7     8     9     ...  1590  \\\n",
              "0      0.0   0.0   0.0   1.0   0.0   0.0   0.0   0.0   1.0   1.0  ...   1.0   \n",
              "1      0.0   0.0   1.0   1.0   1.0   1.0   0.0   0.0   1.0   0.0  ...   0.0   \n",
              "2      0.0   1.0   0.0   1.0   1.0   0.0   1.0   1.0   1.0   0.0  ...   0.0   \n",
              "3      1.0   1.0   1.0   0.0   0.0   1.0   1.0   0.0   1.0   0.0  ...   1.0   \n",
              "4      0.0   1.0   1.0   0.0   0.0   1.0   0.0   0.0   0.0   0.0  ...   1.0   \n",
              "...    ...   ...   ...   ...   ...   ...   ...   ...   ...   ...  ...   ...   \n",
              "1595   1.0   1.0   0.0   1.0   1.0   1.0   0.0   0.0   1.0   1.0  ...   0.0   \n",
              "1596   1.0   1.0   1.0   1.0   1.0   1.0   1.0   1.0   1.0   1.0  ...   0.0   \n",
              "1597   1.0   1.0   0.0   1.0   1.0   0.0   1.0   0.0   1.0   0.0  ...   0.0   \n",
              "1598   1.0   1.0   1.0   1.0   1.0   1.0   1.0   1.0   1.0   1.0  ...   1.0   \n",
              "1599   1.0   1.0   0.0   1.0   1.0   0.0   1.0   1.0   1.0   1.0  ...   0.0   \n",
              "\n",
              "      1591  1592  1593  1594  1595  1596  1597  1598  1599  \n",
              "0      0.0   1.0   1.0   0.0   1.0   1.0   1.0   1.0   1.0  \n",
              "1      1.0   1.0   1.0   1.0   1.0   1.0   1.0   1.0   1.0  \n",
              "2      1.0   1.0   1.0   1.0   0.0   1.0   0.0   1.0   0.0  \n",
              "3      1.0   1.0   1.0   1.0   1.0   1.0   1.0   1.0   1.0  \n",
              "4      1.0   1.0   1.0   1.0   1.0   1.0   1.0   1.0   1.0  \n",
              "...    ...   ...   ...   ...   ...   ...   ...   ...   ...  \n",
              "1595   1.0   1.0   1.0   1.0   0.0   1.0   1.0   1.0   1.0  \n",
              "1596   0.0   1.0   0.0   1.0   1.0   0.0   0.0   0.0   0.0  \n",
              "1597   1.0   1.0   1.0   1.0   1.0   0.0   0.0   1.0   1.0  \n",
              "1598   1.0   1.0   0.0   1.0   1.0   0.0   1.0   0.0   1.0  \n",
              "1599   0.0   0.0   1.0   0.0   1.0   0.0   1.0   1.0   0.0  \n",
              "\n",
              "[1600 rows x 1600 columns]"
            ],
            "text/html": [
              "\n",
              "  <div id=\"df-c9b0d322-e65e-45fd-afa8-21157b1cec6a\">\n",
              "    <div class=\"colab-df-container\">\n",
              "      <div>\n",
              "<style scoped>\n",
              "    .dataframe tbody tr th:only-of-type {\n",
              "        vertical-align: middle;\n",
              "    }\n",
              "\n",
              "    .dataframe tbody tr th {\n",
              "        vertical-align: top;\n",
              "    }\n",
              "\n",
              "    .dataframe thead th {\n",
              "        text-align: right;\n",
              "    }\n",
              "</style>\n",
              "<table border=\"1\" class=\"dataframe\">\n",
              "  <thead>\n",
              "    <tr style=\"text-align: right;\">\n",
              "      <th></th>\n",
              "      <th>0</th>\n",
              "      <th>1</th>\n",
              "      <th>2</th>\n",
              "      <th>3</th>\n",
              "      <th>4</th>\n",
              "      <th>5</th>\n",
              "      <th>6</th>\n",
              "      <th>7</th>\n",
              "      <th>8</th>\n",
              "      <th>9</th>\n",
              "      <th>...</th>\n",
              "      <th>1590</th>\n",
              "      <th>1591</th>\n",
              "      <th>1592</th>\n",
              "      <th>1593</th>\n",
              "      <th>1594</th>\n",
              "      <th>1595</th>\n",
              "      <th>1596</th>\n",
              "      <th>1597</th>\n",
              "      <th>1598</th>\n",
              "      <th>1599</th>\n",
              "    </tr>\n",
              "  </thead>\n",
              "  <tbody>\n",
              "    <tr>\n",
              "      <th>0</th>\n",
              "      <td>0.0</td>\n",
              "      <td>0.0</td>\n",
              "      <td>0.0</td>\n",
              "      <td>1.0</td>\n",
              "      <td>0.0</td>\n",
              "      <td>0.0</td>\n",
              "      <td>0.0</td>\n",
              "      <td>0.0</td>\n",
              "      <td>1.0</td>\n",
              "      <td>1.0</td>\n",
              "      <td>...</td>\n",
              "      <td>1.0</td>\n",
              "      <td>0.0</td>\n",
              "      <td>1.0</td>\n",
              "      <td>1.0</td>\n",
              "      <td>0.0</td>\n",
              "      <td>1.0</td>\n",
              "      <td>1.0</td>\n",
              "      <td>1.0</td>\n",
              "      <td>1.0</td>\n",
              "      <td>1.0</td>\n",
              "    </tr>\n",
              "    <tr>\n",
              "      <th>1</th>\n",
              "      <td>0.0</td>\n",
              "      <td>0.0</td>\n",
              "      <td>1.0</td>\n",
              "      <td>1.0</td>\n",
              "      <td>1.0</td>\n",
              "      <td>1.0</td>\n",
              "      <td>0.0</td>\n",
              "      <td>0.0</td>\n",
              "      <td>1.0</td>\n",
              "      <td>0.0</td>\n",
              "      <td>...</td>\n",
              "      <td>0.0</td>\n",
              "      <td>1.0</td>\n",
              "      <td>1.0</td>\n",
              "      <td>1.0</td>\n",
              "      <td>1.0</td>\n",
              "      <td>1.0</td>\n",
              "      <td>1.0</td>\n",
              "      <td>1.0</td>\n",
              "      <td>1.0</td>\n",
              "      <td>1.0</td>\n",
              "    </tr>\n",
              "    <tr>\n",
              "      <th>2</th>\n",
              "      <td>0.0</td>\n",
              "      <td>1.0</td>\n",
              "      <td>0.0</td>\n",
              "      <td>1.0</td>\n",
              "      <td>1.0</td>\n",
              "      <td>0.0</td>\n",
              "      <td>1.0</td>\n",
              "      <td>1.0</td>\n",
              "      <td>1.0</td>\n",
              "      <td>0.0</td>\n",
              "      <td>...</td>\n",
              "      <td>0.0</td>\n",
              "      <td>1.0</td>\n",
              "      <td>1.0</td>\n",
              "      <td>1.0</td>\n",
              "      <td>1.0</td>\n",
              "      <td>0.0</td>\n",
              "      <td>1.0</td>\n",
              "      <td>0.0</td>\n",
              "      <td>1.0</td>\n",
              "      <td>0.0</td>\n",
              "    </tr>\n",
              "    <tr>\n",
              "      <th>3</th>\n",
              "      <td>1.0</td>\n",
              "      <td>1.0</td>\n",
              "      <td>1.0</td>\n",
              "      <td>0.0</td>\n",
              "      <td>0.0</td>\n",
              "      <td>1.0</td>\n",
              "      <td>1.0</td>\n",
              "      <td>0.0</td>\n",
              "      <td>1.0</td>\n",
              "      <td>0.0</td>\n",
              "      <td>...</td>\n",
              "      <td>1.0</td>\n",
              "      <td>1.0</td>\n",
              "      <td>1.0</td>\n",
              "      <td>1.0</td>\n",
              "      <td>1.0</td>\n",
              "      <td>1.0</td>\n",
              "      <td>1.0</td>\n",
              "      <td>1.0</td>\n",
              "      <td>1.0</td>\n",
              "      <td>1.0</td>\n",
              "    </tr>\n",
              "    <tr>\n",
              "      <th>4</th>\n",
              "      <td>0.0</td>\n",
              "      <td>1.0</td>\n",
              "      <td>1.0</td>\n",
              "      <td>0.0</td>\n",
              "      <td>0.0</td>\n",
              "      <td>1.0</td>\n",
              "      <td>0.0</td>\n",
              "      <td>0.0</td>\n",
              "      <td>0.0</td>\n",
              "      <td>0.0</td>\n",
              "      <td>...</td>\n",
              "      <td>1.0</td>\n",
              "      <td>1.0</td>\n",
              "      <td>1.0</td>\n",
              "      <td>1.0</td>\n",
              "      <td>1.0</td>\n",
              "      <td>1.0</td>\n",
              "      <td>1.0</td>\n",
              "      <td>1.0</td>\n",
              "      <td>1.0</td>\n",
              "      <td>1.0</td>\n",
              "    </tr>\n",
              "    <tr>\n",
              "      <th>...</th>\n",
              "      <td>...</td>\n",
              "      <td>...</td>\n",
              "      <td>...</td>\n",
              "      <td>...</td>\n",
              "      <td>...</td>\n",
              "      <td>...</td>\n",
              "      <td>...</td>\n",
              "      <td>...</td>\n",
              "      <td>...</td>\n",
              "      <td>...</td>\n",
              "      <td>...</td>\n",
              "      <td>...</td>\n",
              "      <td>...</td>\n",
              "      <td>...</td>\n",
              "      <td>...</td>\n",
              "      <td>...</td>\n",
              "      <td>...</td>\n",
              "      <td>...</td>\n",
              "      <td>...</td>\n",
              "      <td>...</td>\n",
              "      <td>...</td>\n",
              "    </tr>\n",
              "    <tr>\n",
              "      <th>1595</th>\n",
              "      <td>1.0</td>\n",
              "      <td>1.0</td>\n",
              "      <td>0.0</td>\n",
              "      <td>1.0</td>\n",
              "      <td>1.0</td>\n",
              "      <td>1.0</td>\n",
              "      <td>0.0</td>\n",
              "      <td>0.0</td>\n",
              "      <td>1.0</td>\n",
              "      <td>1.0</td>\n",
              "      <td>...</td>\n",
              "      <td>0.0</td>\n",
              "      <td>1.0</td>\n",
              "      <td>1.0</td>\n",
              "      <td>1.0</td>\n",
              "      <td>1.0</td>\n",
              "      <td>0.0</td>\n",
              "      <td>1.0</td>\n",
              "      <td>1.0</td>\n",
              "      <td>1.0</td>\n",
              "      <td>1.0</td>\n",
              "    </tr>\n",
              "    <tr>\n",
              "      <th>1596</th>\n",
              "      <td>1.0</td>\n",
              "      <td>1.0</td>\n",
              "      <td>1.0</td>\n",
              "      <td>1.0</td>\n",
              "      <td>1.0</td>\n",
              "      <td>1.0</td>\n",
              "      <td>1.0</td>\n",
              "      <td>1.0</td>\n",
              "      <td>1.0</td>\n",
              "      <td>1.0</td>\n",
              "      <td>...</td>\n",
              "      <td>0.0</td>\n",
              "      <td>0.0</td>\n",
              "      <td>1.0</td>\n",
              "      <td>0.0</td>\n",
              "      <td>1.0</td>\n",
              "      <td>1.0</td>\n",
              "      <td>0.0</td>\n",
              "      <td>0.0</td>\n",
              "      <td>0.0</td>\n",
              "      <td>0.0</td>\n",
              "    </tr>\n",
              "    <tr>\n",
              "      <th>1597</th>\n",
              "      <td>1.0</td>\n",
              "      <td>1.0</td>\n",
              "      <td>0.0</td>\n",
              "      <td>1.0</td>\n",
              "      <td>1.0</td>\n",
              "      <td>0.0</td>\n",
              "      <td>1.0</td>\n",
              "      <td>0.0</td>\n",
              "      <td>1.0</td>\n",
              "      <td>0.0</td>\n",
              "      <td>...</td>\n",
              "      <td>0.0</td>\n",
              "      <td>1.0</td>\n",
              "      <td>1.0</td>\n",
              "      <td>1.0</td>\n",
              "      <td>1.0</td>\n",
              "      <td>1.0</td>\n",
              "      <td>0.0</td>\n",
              "      <td>0.0</td>\n",
              "      <td>1.0</td>\n",
              "      <td>1.0</td>\n",
              "    </tr>\n",
              "    <tr>\n",
              "      <th>1598</th>\n",
              "      <td>1.0</td>\n",
              "      <td>1.0</td>\n",
              "      <td>1.0</td>\n",
              "      <td>1.0</td>\n",
              "      <td>1.0</td>\n",
              "      <td>1.0</td>\n",
              "      <td>1.0</td>\n",
              "      <td>1.0</td>\n",
              "      <td>1.0</td>\n",
              "      <td>1.0</td>\n",
              "      <td>...</td>\n",
              "      <td>1.0</td>\n",
              "      <td>1.0</td>\n",
              "      <td>1.0</td>\n",
              "      <td>0.0</td>\n",
              "      <td>1.0</td>\n",
              "      <td>1.0</td>\n",
              "      <td>0.0</td>\n",
              "      <td>1.0</td>\n",
              "      <td>0.0</td>\n",
              "      <td>1.0</td>\n",
              "    </tr>\n",
              "    <tr>\n",
              "      <th>1599</th>\n",
              "      <td>1.0</td>\n",
              "      <td>1.0</td>\n",
              "      <td>0.0</td>\n",
              "      <td>1.0</td>\n",
              "      <td>1.0</td>\n",
              "      <td>0.0</td>\n",
              "      <td>1.0</td>\n",
              "      <td>1.0</td>\n",
              "      <td>1.0</td>\n",
              "      <td>1.0</td>\n",
              "      <td>...</td>\n",
              "      <td>0.0</td>\n",
              "      <td>0.0</td>\n",
              "      <td>0.0</td>\n",
              "      <td>1.0</td>\n",
              "      <td>0.0</td>\n",
              "      <td>1.0</td>\n",
              "      <td>0.0</td>\n",
              "      <td>1.0</td>\n",
              "      <td>1.0</td>\n",
              "      <td>0.0</td>\n",
              "    </tr>\n",
              "  </tbody>\n",
              "</table>\n",
              "<p>1600 rows × 1600 columns</p>\n",
              "</div>\n",
              "      <button class=\"colab-df-convert\" onclick=\"convertToInteractive('df-c9b0d322-e65e-45fd-afa8-21157b1cec6a')\"\n",
              "              title=\"Convert this dataframe to an interactive table.\"\n",
              "              style=\"display:none;\">\n",
              "        \n",
              "  <svg xmlns=\"http://www.w3.org/2000/svg\" height=\"24px\"viewBox=\"0 0 24 24\"\n",
              "       width=\"24px\">\n",
              "    <path d=\"M0 0h24v24H0V0z\" fill=\"none\"/>\n",
              "    <path d=\"M18.56 5.44l.94 2.06.94-2.06 2.06-.94-2.06-.94-.94-2.06-.94 2.06-2.06.94zm-11 1L8.5 8.5l.94-2.06 2.06-.94-2.06-.94L8.5 2.5l-.94 2.06-2.06.94zm10 10l.94 2.06.94-2.06 2.06-.94-2.06-.94-.94-2.06-.94 2.06-2.06.94z\"/><path d=\"M17.41 7.96l-1.37-1.37c-.4-.4-.92-.59-1.43-.59-.52 0-1.04.2-1.43.59L10.3 9.45l-7.72 7.72c-.78.78-.78 2.05 0 2.83L4 21.41c.39.39.9.59 1.41.59.51 0 1.02-.2 1.41-.59l7.78-7.78 2.81-2.81c.8-.78.8-2.07 0-2.86zM5.41 20L4 18.59l7.72-7.72 1.47 1.35L5.41 20z\"/>\n",
              "  </svg>\n",
              "      </button>\n",
              "      \n",
              "  <style>\n",
              "    .colab-df-container {\n",
              "      display:flex;\n",
              "      flex-wrap:wrap;\n",
              "      gap: 12px;\n",
              "    }\n",
              "\n",
              "    .colab-df-convert {\n",
              "      background-color: #E8F0FE;\n",
              "      border: none;\n",
              "      border-radius: 50%;\n",
              "      cursor: pointer;\n",
              "      display: none;\n",
              "      fill: #1967D2;\n",
              "      height: 32px;\n",
              "      padding: 0 0 0 0;\n",
              "      width: 32px;\n",
              "    }\n",
              "\n",
              "    .colab-df-convert:hover {\n",
              "      background-color: #E2EBFA;\n",
              "      box-shadow: 0px 1px 2px rgba(60, 64, 67, 0.3), 0px 1px 3px 1px rgba(60, 64, 67, 0.15);\n",
              "      fill: #174EA6;\n",
              "    }\n",
              "\n",
              "    [theme=dark] .colab-df-convert {\n",
              "      background-color: #3B4455;\n",
              "      fill: #D2E3FC;\n",
              "    }\n",
              "\n",
              "    [theme=dark] .colab-df-convert:hover {\n",
              "      background-color: #434B5C;\n",
              "      box-shadow: 0px 1px 3px 1px rgba(0, 0, 0, 0.15);\n",
              "      filter: drop-shadow(0px 1px 2px rgba(0, 0, 0, 0.3));\n",
              "      fill: #FFFFFF;\n",
              "    }\n",
              "  </style>\n",
              "\n",
              "      <script>\n",
              "        const buttonEl =\n",
              "          document.querySelector('#df-c9b0d322-e65e-45fd-afa8-21157b1cec6a button.colab-df-convert');\n",
              "        buttonEl.style.display =\n",
              "          google.colab.kernel.accessAllowed ? 'block' : 'none';\n",
              "\n",
              "        async function convertToInteractive(key) {\n",
              "          const element = document.querySelector('#df-c9b0d322-e65e-45fd-afa8-21157b1cec6a');\n",
              "          const dataTable =\n",
              "            await google.colab.kernel.invokeFunction('convertToInteractive',\n",
              "                                                     [key], {});\n",
              "          if (!dataTable) return;\n",
              "\n",
              "          const docLinkHtml = 'Like what you see? Visit the ' +\n",
              "            '<a target=\"_blank\" href=https://colab.research.google.com/notebooks/data_table.ipynb>data table notebook</a>'\n",
              "            + ' to learn more about interactive tables.';\n",
              "          element.innerHTML = '';\n",
              "          dataTable['output_type'] = 'display_data';\n",
              "          await google.colab.output.renderOutput(dataTable, element);\n",
              "          const docLink = document.createElement('div');\n",
              "          docLink.innerHTML = docLinkHtml;\n",
              "          element.appendChild(docLink);\n",
              "        }\n",
              "      </script>\n",
              "    </div>\n",
              "  </div>\n",
              "  "
            ]
          },
          "metadata": {},
          "execution_count": 40
        }
      ]
    },
    {
      "cell_type": "code",
      "source": [
        "G = nx.from_numpy_matrix(np.array(adjmat_df))\n",
        "G"
      ],
      "metadata": {
        "id": "hYwoZ2Gv6Iko",
        "colab": {
          "base_uri": "https://localhost:8080/"
        },
        "outputId": "4c3d00b2-2f5c-40b6-d6e2-c47e41a26a84"
      },
      "execution_count": 41,
      "outputs": [
        {
          "output_type": "execute_result",
          "data": {
            "text/plain": [
              "<networkx.classes.graph.Graph at 0x7f3f0417ccd0>"
            ]
          },
          "metadata": {},
          "execution_count": 41
        }
      ]
    },
    {
      "cell_type": "code",
      "source": [
        "A=nx.to_numpy_matrix(G)\n",
        "##Creating graph from adjacency matrix\n",
        "H=nx.from_numpy_matrix(A)"
      ],
      "metadata": {
        "id": "PwyqPWqk6IoA"
      },
      "execution_count": 42,
      "outputs": []
    },
    {
      "cell_type": "markdown",
      "source": [
        "### Construct a graph using stellargraph"
      ],
      "metadata": {
        "id": "heG6Vvs7HCK9"
      }
    },
    {
      "cell_type": "code",
      "source": [
        "from stellargraph import StellarGraph\n",
        "square_feature_dataframe = StellarGraph.from_networkx(H, node_features=adjmat_df)\n",
        "print(square_feature_dataframe.info())"
      ],
      "metadata": {
        "colab": {
          "base_uri": "https://localhost:8080/"
        },
        "id": "fHRAOPhI6IrY",
        "outputId": "0b27104c-8878-478d-dc15-80b44794f4a4"
      },
      "execution_count": 43,
      "outputs": [
        {
          "output_type": "stream",
          "name": "stdout",
          "text": [
            "StellarGraph: Undirected multigraph\n",
            " Nodes: 1600, Edges: 759430\n",
            "\n",
            " Node types:\n",
            "  default: [1600]\n",
            "    Features: float32 vector, length 1600\n",
            "    Edge types: default-default->default\n",
            "\n",
            " Edge types:\n",
            "    default-default->default: [759430]\n",
            "        Weights: all 1 (default)\n",
            "        Features: none\n"
          ]
        }
      ]
    },
    {
      "cell_type": "code",
      "source": [
        "from stellargraph.data import BiasedRandomWalk\n",
        "from stellargraph import StellarGraph\n",
        "from stellargraph import datasets\n",
        "from IPython.display import display, HTML\n",
        "from stellargraph.mapper import (\n",
        "    CorruptedGenerator,\n",
        "    FullBatchNodeGenerator,\n",
        "    GraphSAGENodeGenerator,\n",
        "    HinSAGENodeGenerator,\n",
        "    ClusterNodeGenerator,\n",
        ")\n",
        "from stellargraph import StellarGraph\n",
        "from stellargraph.layer import GCN, DeepGraphInfomax, GraphSAGE, GAT, APPNP, HinSAGE\n",
        "\n",
        "from stellargraph import datasets\n",
        "from stellargraph.utils import plot_history\n",
        "\n",
        "import pandas as pd\n",
        "from matplotlib import pyplot as plt\n",
        "from sklearn import model_selection\n",
        "from sklearn.linear_model import LogisticRegression\n",
        "from sklearn.manifold import TSNE\n",
        "from IPython.display import display, HTML\n",
        "\n",
        "from tensorflow.keras.optimizers import Adam\n",
        "from tensorflow.keras.callbacks import EarlyStopping\n",
        "import tensorflow as tf\n",
        "from tensorflow.keras import Model\n",
        "%matplotlib inline"
      ],
      "metadata": {
        "id": "yCKwCKr76Ixi"
      },
      "execution_count": 44,
      "outputs": []
    },
    {
      "cell_type": "markdown",
      "source": [
        "### Converting label to numeric arrays\n",
        "For our categorical target, we will use one-hot vectors that will be fed into a soft-max Keras layer during training."
      ],
      "metadata": {
        "id": "VjSBk3SfeUzP"
      }
    },
    {
      "cell_type": "code",
      "source": [
        "target_encoding = preprocessing.LabelBinarizer()"
      ],
      "metadata": {
        "id": "H5NZUJL2eIXc"
      },
      "execution_count": 45,
      "outputs": []
    },
    {
      "cell_type": "code",
      "source": [
        "target = target_encoding.fit_transform(df['Class'])\n",
        "target"
      ],
      "metadata": {
        "colab": {
          "base_uri": "https://localhost:8080/"
        },
        "id": "2MsEC7nzeRaD",
        "outputId": "014c2efc-1eb3-4de6-eed4-3fad26965273"
      },
      "execution_count": 46,
      "outputs": [
        {
          "output_type": "execute_result",
          "data": {
            "text/plain": [
              "array([[1],\n",
              "       [1],\n",
              "       [1],\n",
              "       ...,\n",
              "       [0],\n",
              "       [0],\n",
              "       [0]])"
            ]
          },
          "metadata": {},
          "execution_count": 46
        }
      ]
    },
    {
      "cell_type": "markdown",
      "source": [
        "### Creating the GAT model in Keras\n",
        "To feed data from the graph to the Keras model we need a generator. Since GAT is a full-batch model, we use the FullBatchNodeGenerator class to feed node features and graph adjacency matrix to the model."
      ],
      "metadata": {
        "id": "fy2bzGZzemWh"
      }
    },
    {
      "cell_type": "code",
      "source": [
        "generator = FullBatchNodeGenerator(square_feature_dataframe, method=\"gat\")\n",
        "generator "
      ],
      "metadata": {
        "colab": {
          "base_uri": "https://localhost:8080/"
        },
        "id": "LAlxpzJMeRc7",
        "outputId": "fbbaf9f0-fe0b-4360-be9f-a43f1826e7e3"
      },
      "execution_count": 47,
      "outputs": [
        {
          "output_type": "execute_result",
          "data": {
            "text/plain": [
              "<stellargraph.mapper.full_batch_generators.FullBatchNodeGenerator at 0x7f3ee34cf1c0>"
            ]
          },
          "metadata": {},
          "execution_count": 47
        }
      ]
    },
    {
      "cell_type": "markdown",
      "source": [
        "### For training we map only the training nodes returned from our splitter and the target values."
      ],
      "metadata": {
        "id": "VYu7qoHgfJw2"
      }
    },
    {
      "cell_type": "code",
      "source": [
        "gen = generator.flow(df['Class'].index, target)\n",
        "gen"
      ],
      "metadata": {
        "colab": {
          "base_uri": "https://localhost:8080/"
        },
        "id": "FDzlw-qZfNFF",
        "outputId": "10229982-5dec-4a3d-8175-3666923e174e"
      },
      "execution_count": 48,
      "outputs": [
        {
          "output_type": "execute_result",
          "data": {
            "text/plain": [
              "<stellargraph.mapper.sequences.SparseFullBatchSequence at 0x7f3ee34cf490>"
            ]
          },
          "metadata": {},
          "execution_count": 48
        }
      ]
    },
    {
      "cell_type": "code",
      "source": [
        "target.shape[1]"
      ],
      "metadata": {
        "colab": {
          "base_uri": "https://localhost:8080/"
        },
        "id": "cjdnBcqFfNBa",
        "outputId": "4b1040c7-5a9e-4ecd-d673-27a9098791d8"
      },
      "execution_count": 49,
      "outputs": [
        {
          "output_type": "execute_result",
          "data": {
            "text/plain": [
              "1"
            ]
          },
          "metadata": {},
          "execution_count": 49
        }
      ]
    },
    {
      "cell_type": "markdown",
      "source": [
        "## Build a GAT model"
      ],
      "metadata": {
        "id": "3yfTzBktfZCy"
      }
    },
    {
      "cell_type": "code",
      "source": [
        "gat = GAT(\n",
        "    layer_sizes=[8, target.shape[1]],\n",
        "    activations=[\"elu\", \"softmax\"],\n",
        "    attn_heads=8,\n",
        "    generator=generator,\n",
        "    in_dropout=0.5,\n",
        "    attn_dropout=0.5,\n",
        "    normalize=None,\n",
        ")"
      ],
      "metadata": {
        "id": "IctO-_oLfM_X"
      },
      "execution_count": 50,
      "outputs": []
    },
    {
      "cell_type": "markdown",
      "source": [
        "### The input and output tensors of the GAT model for node prediction, via GAT.in_out_tensors() method"
      ],
      "metadata": {
        "id": "iXOorsvIfhfU"
      }
    },
    {
      "cell_type": "code",
      "source": [
        "x_inp, predictions = gat.in_out_tensors()"
      ],
      "metadata": {
        "id": "kMk1A0-nfM7q"
      },
      "execution_count": 51,
      "outputs": []
    },
    {
      "cell_type": "code",
      "source": [
        "gat.in_out_tensors()"
      ],
      "metadata": {
        "colab": {
          "base_uri": "https://localhost:8080/"
        },
        "id": "coOVTbMbfM5m",
        "outputId": "0cf6f543-bd5f-4729-999e-941d2d5125f5"
      },
      "execution_count": 52,
      "outputs": [
        {
          "output_type": "execute_result",
          "data": {
            "text/plain": [
              "([<KerasTensor: shape=(1, 1600, 1600) dtype=float32 (created by layer 'input_5')>,\n",
              "  <KerasTensor: shape=(1, None) dtype=int32 (created by layer 'input_6')>,\n",
              "  <KerasTensor: shape=(1, None, 2) dtype=int64 (created by layer 'input_7')>,\n",
              "  <KerasTensor: shape=(1, None) dtype=float32 (created by layer 'input_8')>],\n",
              " <KerasTensor: shape=(1, None, 1) dtype=float32 (created by layer 'lambda')>)"
            ]
          },
          "metadata": {},
          "execution_count": 52
        }
      ]
    },
    {
      "cell_type": "code",
      "source": [
        "x_inp"
      ],
      "metadata": {
        "colab": {
          "base_uri": "https://localhost:8080/"
        },
        "id": "K89N5D4sfsAt",
        "outputId": "5c317f5c-a421-4fb1-f19e-09bef75cffd8"
      },
      "execution_count": 53,
      "outputs": [
        {
          "output_type": "execute_result",
          "data": {
            "text/plain": [
              "[<KerasTensor: shape=(1, 1600, 1600) dtype=float32 (created by layer 'input_1')>,\n",
              " <KerasTensor: shape=(1, None) dtype=int32 (created by layer 'input_2')>,\n",
              " <KerasTensor: shape=(1, None, 2) dtype=int64 (created by layer 'input_3')>,\n",
              " <KerasTensor: shape=(1, None) dtype=float32 (created by layer 'input_4')>]"
            ]
          },
          "metadata": {},
          "execution_count": 53
        }
      ]
    },
    {
      "cell_type": "code",
      "source": [
        "predictions"
      ],
      "metadata": {
        "colab": {
          "base_uri": "https://localhost:8080/"
        },
        "id": "iFOvJFsUfsCX",
        "outputId": "d381b057-91d1-4b2c-b6b9-df2bc6bd64ee"
      },
      "execution_count": 54,
      "outputs": [
        {
          "output_type": "execute_result",
          "data": {
            "text/plain": [
              "<KerasTensor: shape=(1, None, 1) dtype=float32 (created by layer 'lambda')>"
            ]
          },
          "metadata": {},
          "execution_count": 54
        }
      ]
    },
    {
      "cell_type": "markdown",
      "source": [
        "### Training the model"
      ],
      "metadata": {
        "id": "1MV6QsDKfyoM"
      }
    },
    {
      "cell_type": "code",
      "source": [
        "model = Model(inputs=x_inp, outputs=predictions)\n",
        "model"
      ],
      "metadata": {
        "colab": {
          "base_uri": "https://localhost:8080/"
        },
        "id": "j5YZ7I3HfsGm",
        "outputId": "7b564a1c-1638-4c76-c749-06694a6f4066"
      },
      "execution_count": 55,
      "outputs": [
        {
          "output_type": "execute_result",
          "data": {
            "text/plain": [
              "<keras.engine.functional.Functional at 0x7f3ee3f9fcd0>"
            ]
          },
          "metadata": {},
          "execution_count": 55
        }
      ]
    },
    {
      "cell_type": "markdown",
      "source": [
        "### Node Embeddings"
      ],
      "metadata": {
        "id": "YIxzzgXzf9Q7"
      }
    },
    {
      "cell_type": "code",
      "source": [
        "all_nodes = df['Class'].index\n",
        "all_gen = generator.flow(all_nodes)"
      ],
      "metadata": {
        "id": "qgsY-fE_fsIN"
      },
      "execution_count": 56,
      "outputs": []
    },
    {
      "cell_type": "code",
      "source": [
        "all_nodes"
      ],
      "metadata": {
        "colab": {
          "base_uri": "https://localhost:8080/"
        },
        "id": "FyUxHSEJfsMW",
        "outputId": "4171b6cb-b745-4546-9d9b-51b755e11d97"
      },
      "execution_count": 57,
      "outputs": [
        {
          "output_type": "execute_result",
          "data": {
            "text/plain": [
              "RangeIndex(start=0, stop=1600, step=1)"
            ]
          },
          "metadata": {},
          "execution_count": 57
        }
      ]
    },
    {
      "cell_type": "code",
      "source": [
        "all_gen"
      ],
      "metadata": {
        "colab": {
          "base_uri": "https://localhost:8080/"
        },
        "id": "iwgJmboYgGg_",
        "outputId": "58e6f999-d44f-4985-ce8b-28fb867ef072"
      },
      "execution_count": 58,
      "outputs": [
        {
          "output_type": "execute_result",
          "data": {
            "text/plain": [
              "<stellargraph.mapper.sequences.SparseFullBatchSequence at 0x7f3ee3e6eb80>"
            ]
          },
          "metadata": {},
          "execution_count": 58
        }
      ]
    },
    {
      "cell_type": "code",
      "source": [
        "emb_layer = next(l for l in model.layers if l.name.startswith(\"graph_attention\"))\n",
        "print(\"Embedding layer: {}, output shape {}\".format(emb_layer.name, emb_layer.output_shape))\n",
        "emb_layer"
      ],
      "metadata": {
        "colab": {
          "base_uri": "https://localhost:8080/"
        },
        "id": "i-CqtmcygGdT",
        "outputId": "b6860810-0000-4d1a-e987-b86b5a6efe5b"
      },
      "execution_count": 59,
      "outputs": [
        {
          "output_type": "stream",
          "name": "stdout",
          "text": [
            "Embedding layer: graph_attention_sparse, output shape (1, 1600, 64)\n"
          ]
        },
        {
          "output_type": "execute_result",
          "data": {
            "text/plain": [
              "<stellargraph.layer.graph_attention.GraphAttentionSparse at 0x7f3ee34bd910>"
            ]
          },
          "metadata": {},
          "execution_count": 59
        }
      ]
    },
    {
      "cell_type": "code",
      "source": [
        "emb_layer"
      ],
      "metadata": {
        "colab": {
          "base_uri": "https://localhost:8080/"
        },
        "id": "0zDkrXOzgGbV",
        "outputId": "403f6122-3173-4a26-ceda-9e8aa37e37b7"
      },
      "execution_count": 60,
      "outputs": [
        {
          "output_type": "execute_result",
          "data": {
            "text/plain": [
              "<stellargraph.layer.graph_attention.GraphAttentionSparse at 0x7f3ee34bd910>"
            ]
          },
          "metadata": {},
          "execution_count": 60
        }
      ]
    },
    {
      "cell_type": "code",
      "source": [
        "embedding_model = Model(inputs=x_inp, outputs=emb_layer.output)\n",
        "embedding_model"
      ],
      "metadata": {
        "colab": {
          "base_uri": "https://localhost:8080/"
        },
        "id": "8hi58BwZgGX4",
        "outputId": "513fbf20-9c39-4707-820e-5f8a4a53c2ec"
      },
      "execution_count": 61,
      "outputs": [
        {
          "output_type": "execute_result",
          "data": {
            "text/plain": [
              "<keras.engine.functional.Functional at 0x7f3ee3e7a340>"
            ]
          },
          "metadata": {},
          "execution_count": 61
        }
      ]
    },
    {
      "cell_type": "code",
      "source": [
        "emb = embedding_model.predict(all_gen)\n",
        "emb.shape"
      ],
      "metadata": {
        "colab": {
          "base_uri": "https://localhost:8080/"
        },
        "id": "PWotFiNBgGWD",
        "outputId": "04227936-82eb-41c4-ab39-44c5ece86a0a"
      },
      "execution_count": 62,
      "outputs": [
        {
          "output_type": "stream",
          "name": "stdout",
          "text": [
            "1/1 [==============================] - 1s 1s/step\n"
          ]
        },
        {
          "output_type": "execute_result",
          "data": {
            "text/plain": [
              "(1, 1600, 64)"
            ]
          },
          "metadata": {},
          "execution_count": 62
        }
      ]
    },
    {
      "cell_type": "code",
      "source": [
        "emb"
      ],
      "metadata": {
        "colab": {
          "base_uri": "https://localhost:8080/"
        },
        "id": "rLOvWYEkgkoW",
        "outputId": "1584e61c-4ca6-4a65-838f-fa24945e0d1b"
      },
      "execution_count": 63,
      "outputs": [
        {
          "output_type": "execute_result",
          "data": {
            "text/plain": [
              "array([[[ 5.4789144e-01, -5.1219463e-02,  9.5335221e-01, ...,\n",
              "          2.0459881e-01,  2.5036833e-01,  4.1801734e-03],\n",
              "        [ 4.9720648e-01, -6.8894029e-02,  9.1183925e-01, ...,\n",
              "          1.9580719e-01,  1.9908032e-01, -8.6808205e-04],\n",
              "        [ 5.6958598e-01,  1.7962739e-02,  1.1159738e+00, ...,\n",
              "          2.2144489e-01,  2.8967106e-01, -1.6415715e-03],\n",
              "        ...,\n",
              "        [ 5.6814307e-01, -1.9428849e-02,  1.0749214e+00, ...,\n",
              "          1.9596982e-01,  2.7129042e-01, -5.2720547e-02],\n",
              "        [ 5.1301277e-01, -5.7584643e-02,  9.2146981e-01, ...,\n",
              "          1.7172056e-01,  2.1832049e-01,  3.7129685e-02],\n",
              "        [ 4.9847397e-01, -2.4737239e-02,  1.0565478e+00, ...,\n",
              "          2.6853684e-01,  5.2258253e-01,  9.6245326e-02]]], dtype=float32)"
            ]
          },
          "metadata": {},
          "execution_count": 63
        }
      ]
    },
    {
      "cell_type": "code",
      "source": [
        "w = emb.reshape(1600, 64)\n",
        "w"
      ],
      "metadata": {
        "colab": {
          "base_uri": "https://localhost:8080/"
        },
        "id": "EhEEA4zdgkqU",
        "outputId": "07a292c0-78c9-4549-ca29-63b9eff834ef"
      },
      "execution_count": 64,
      "outputs": [
        {
          "output_type": "execute_result",
          "data": {
            "text/plain": [
              "array([[ 5.4789144e-01, -5.1219463e-02,  9.5335221e-01, ...,\n",
              "         2.0459881e-01,  2.5036833e-01,  4.1801734e-03],\n",
              "       [ 4.9720648e-01, -6.8894029e-02,  9.1183925e-01, ...,\n",
              "         1.9580719e-01,  1.9908032e-01, -8.6808205e-04],\n",
              "       [ 5.6958598e-01,  1.7962739e-02,  1.1159738e+00, ...,\n",
              "         2.2144489e-01,  2.8967106e-01, -1.6415715e-03],\n",
              "       ...,\n",
              "       [ 5.6814307e-01, -1.9428849e-02,  1.0749214e+00, ...,\n",
              "         1.9596982e-01,  2.7129042e-01, -5.2720547e-02],\n",
              "       [ 5.1301277e-01, -5.7584643e-02,  9.2146981e-01, ...,\n",
              "         1.7172056e-01,  2.1832049e-01,  3.7129685e-02],\n",
              "       [ 4.9847397e-01, -2.4737239e-02,  1.0565478e+00, ...,\n",
              "         2.6853684e-01,  5.2258253e-01,  9.6245326e-02]], dtype=float32)"
            ]
          },
          "metadata": {},
          "execution_count": 64
        }
      ]
    },
    {
      "cell_type": "code",
      "source": [
        "node_emb = pd.DataFrame(w)\n",
        "node_emb"
      ],
      "metadata": {
        "colab": {
          "base_uri": "https://localhost:8080/",
          "height": 487
        },
        "id": "kUyFoL_5gkuN",
        "outputId": "e6d2adcf-ce28-40fd-b71b-1abe91f9ab17"
      },
      "execution_count": 65,
      "outputs": [
        {
          "output_type": "execute_result",
          "data": {
            "text/plain": [
              "            0         1         2         3         4         5         6   \\\n",
              "0     0.547891 -0.051219  0.953352 -0.696882 -0.108638 -0.662740 -0.820760   \n",
              "1     0.497206 -0.068894  0.911839 -0.681931 -0.163532 -0.652982 -0.804833   \n",
              "2     0.569586  0.017963  1.115974 -0.725759 -0.209553 -0.687067 -0.833833   \n",
              "3     0.497373 -0.031509  0.945756 -0.689209 -0.161392 -0.669324 -0.809166   \n",
              "4     0.502622 -0.065562  0.988961 -0.703798 -0.199130 -0.686255 -0.801260   \n",
              "...        ...       ...       ...       ...       ...       ...       ...   \n",
              "1595  0.501101  0.007035  1.075175 -0.721741 -0.217205 -0.680477 -0.822689   \n",
              "1596  0.507981 -0.014762  0.969606 -0.713938 -0.139720 -0.672931 -0.821110   \n",
              "1597  0.568143 -0.019429  1.074921 -0.724928 -0.205900 -0.683832 -0.830014   \n",
              "1598  0.513013 -0.057585  0.921470 -0.738225 -0.138590 -0.665919 -0.829042   \n",
              "1599  0.498474 -0.024737  1.056548 -0.741483 -0.122930 -0.675188 -0.846281   \n",
              "\n",
              "            7         8         9   ...        54        55        56  \\\n",
              "0    -0.616850 -0.799862 -0.168785  ...  0.127479  0.704194  0.310694   \n",
              "1    -0.591446 -0.779301 -0.055290  ...  0.135223  0.713935  0.253257   \n",
              "2    -0.642904 -0.818984 -0.163544  ...  0.154651  0.676942  0.232326   \n",
              "3    -0.601793 -0.770633 -0.060482  ...  0.167939  0.765067  0.211726   \n",
              "4    -0.605757 -0.773128 -0.043743  ...  0.155829  0.746437  0.217989   \n",
              "...        ...       ...       ...  ...       ...       ...       ...   \n",
              "1595 -0.643768 -0.828133 -0.165143  ...  0.168905  0.715704  0.245679   \n",
              "1596 -0.612688 -0.806935 -0.189981  ...  0.114047  0.756892  0.297245   \n",
              "1597 -0.641126 -0.814375 -0.185140  ...  0.183100  0.724478  0.252756   \n",
              "1598 -0.629460 -0.810988 -0.235214  ...  0.134226  0.756410  0.363160   \n",
              "1599 -0.630109 -0.813104 -0.216475  ...  0.169420  0.774878  0.451917   \n",
              "\n",
              "            57        58        59        60        61        62        63  \n",
              "0    -0.609364  0.230593 -0.592429  0.349173  0.204599  0.250368  0.004180  \n",
              "1    -0.558883  0.306287 -0.593766  0.389499  0.195807  0.199080 -0.000868  \n",
              "2    -0.541622  0.263751 -0.606820  0.367745  0.221445  0.289671 -0.001642  \n",
              "3    -0.578845  0.295954 -0.602796  0.379268  0.186771  0.229074  0.006209  \n",
              "4    -0.577455  0.276938 -0.581313  0.401481  0.190169  0.265087  0.039691  \n",
              "...        ...       ...       ...       ...       ...       ...       ...  \n",
              "1595 -0.572632  0.234127 -0.621317  0.346992  0.226949  0.281294 -0.030568  \n",
              "1596 -0.546550  0.134774 -0.614053  0.357259  0.202222  0.362888 -0.001590  \n",
              "1597 -0.558391  0.218985 -0.610512  0.355767  0.195970  0.271290 -0.052721  \n",
              "1598 -0.595022  0.182696 -0.616121  0.301952  0.171721  0.218320  0.037130  \n",
              "1599 -0.561516 -0.029099 -0.599297  0.267149  0.268537  0.522583  0.096245  \n",
              "\n",
              "[1600 rows x 64 columns]"
            ],
            "text/html": [
              "\n",
              "  <div id=\"df-eba2ca7c-8832-45f6-80db-70778b0fb398\">\n",
              "    <div class=\"colab-df-container\">\n",
              "      <div>\n",
              "<style scoped>\n",
              "    .dataframe tbody tr th:only-of-type {\n",
              "        vertical-align: middle;\n",
              "    }\n",
              "\n",
              "    .dataframe tbody tr th {\n",
              "        vertical-align: top;\n",
              "    }\n",
              "\n",
              "    .dataframe thead th {\n",
              "        text-align: right;\n",
              "    }\n",
              "</style>\n",
              "<table border=\"1\" class=\"dataframe\">\n",
              "  <thead>\n",
              "    <tr style=\"text-align: right;\">\n",
              "      <th></th>\n",
              "      <th>0</th>\n",
              "      <th>1</th>\n",
              "      <th>2</th>\n",
              "      <th>3</th>\n",
              "      <th>4</th>\n",
              "      <th>5</th>\n",
              "      <th>6</th>\n",
              "      <th>7</th>\n",
              "      <th>8</th>\n",
              "      <th>9</th>\n",
              "      <th>...</th>\n",
              "      <th>54</th>\n",
              "      <th>55</th>\n",
              "      <th>56</th>\n",
              "      <th>57</th>\n",
              "      <th>58</th>\n",
              "      <th>59</th>\n",
              "      <th>60</th>\n",
              "      <th>61</th>\n",
              "      <th>62</th>\n",
              "      <th>63</th>\n",
              "    </tr>\n",
              "  </thead>\n",
              "  <tbody>\n",
              "    <tr>\n",
              "      <th>0</th>\n",
              "      <td>0.547891</td>\n",
              "      <td>-0.051219</td>\n",
              "      <td>0.953352</td>\n",
              "      <td>-0.696882</td>\n",
              "      <td>-0.108638</td>\n",
              "      <td>-0.662740</td>\n",
              "      <td>-0.820760</td>\n",
              "      <td>-0.616850</td>\n",
              "      <td>-0.799862</td>\n",
              "      <td>-0.168785</td>\n",
              "      <td>...</td>\n",
              "      <td>0.127479</td>\n",
              "      <td>0.704194</td>\n",
              "      <td>0.310694</td>\n",
              "      <td>-0.609364</td>\n",
              "      <td>0.230593</td>\n",
              "      <td>-0.592429</td>\n",
              "      <td>0.349173</td>\n",
              "      <td>0.204599</td>\n",
              "      <td>0.250368</td>\n",
              "      <td>0.004180</td>\n",
              "    </tr>\n",
              "    <tr>\n",
              "      <th>1</th>\n",
              "      <td>0.497206</td>\n",
              "      <td>-0.068894</td>\n",
              "      <td>0.911839</td>\n",
              "      <td>-0.681931</td>\n",
              "      <td>-0.163532</td>\n",
              "      <td>-0.652982</td>\n",
              "      <td>-0.804833</td>\n",
              "      <td>-0.591446</td>\n",
              "      <td>-0.779301</td>\n",
              "      <td>-0.055290</td>\n",
              "      <td>...</td>\n",
              "      <td>0.135223</td>\n",
              "      <td>0.713935</td>\n",
              "      <td>0.253257</td>\n",
              "      <td>-0.558883</td>\n",
              "      <td>0.306287</td>\n",
              "      <td>-0.593766</td>\n",
              "      <td>0.389499</td>\n",
              "      <td>0.195807</td>\n",
              "      <td>0.199080</td>\n",
              "      <td>-0.000868</td>\n",
              "    </tr>\n",
              "    <tr>\n",
              "      <th>2</th>\n",
              "      <td>0.569586</td>\n",
              "      <td>0.017963</td>\n",
              "      <td>1.115974</td>\n",
              "      <td>-0.725759</td>\n",
              "      <td>-0.209553</td>\n",
              "      <td>-0.687067</td>\n",
              "      <td>-0.833833</td>\n",
              "      <td>-0.642904</td>\n",
              "      <td>-0.818984</td>\n",
              "      <td>-0.163544</td>\n",
              "      <td>...</td>\n",
              "      <td>0.154651</td>\n",
              "      <td>0.676942</td>\n",
              "      <td>0.232326</td>\n",
              "      <td>-0.541622</td>\n",
              "      <td>0.263751</td>\n",
              "      <td>-0.606820</td>\n",
              "      <td>0.367745</td>\n",
              "      <td>0.221445</td>\n",
              "      <td>0.289671</td>\n",
              "      <td>-0.001642</td>\n",
              "    </tr>\n",
              "    <tr>\n",
              "      <th>3</th>\n",
              "      <td>0.497373</td>\n",
              "      <td>-0.031509</td>\n",
              "      <td>0.945756</td>\n",
              "      <td>-0.689209</td>\n",
              "      <td>-0.161392</td>\n",
              "      <td>-0.669324</td>\n",
              "      <td>-0.809166</td>\n",
              "      <td>-0.601793</td>\n",
              "      <td>-0.770633</td>\n",
              "      <td>-0.060482</td>\n",
              "      <td>...</td>\n",
              "      <td>0.167939</td>\n",
              "      <td>0.765067</td>\n",
              "      <td>0.211726</td>\n",
              "      <td>-0.578845</td>\n",
              "      <td>0.295954</td>\n",
              "      <td>-0.602796</td>\n",
              "      <td>0.379268</td>\n",
              "      <td>0.186771</td>\n",
              "      <td>0.229074</td>\n",
              "      <td>0.006209</td>\n",
              "    </tr>\n",
              "    <tr>\n",
              "      <th>4</th>\n",
              "      <td>0.502622</td>\n",
              "      <td>-0.065562</td>\n",
              "      <td>0.988961</td>\n",
              "      <td>-0.703798</td>\n",
              "      <td>-0.199130</td>\n",
              "      <td>-0.686255</td>\n",
              "      <td>-0.801260</td>\n",
              "      <td>-0.605757</td>\n",
              "      <td>-0.773128</td>\n",
              "      <td>-0.043743</td>\n",
              "      <td>...</td>\n",
              "      <td>0.155829</td>\n",
              "      <td>0.746437</td>\n",
              "      <td>0.217989</td>\n",
              "      <td>-0.577455</td>\n",
              "      <td>0.276938</td>\n",
              "      <td>-0.581313</td>\n",
              "      <td>0.401481</td>\n",
              "      <td>0.190169</td>\n",
              "      <td>0.265087</td>\n",
              "      <td>0.039691</td>\n",
              "    </tr>\n",
              "    <tr>\n",
              "      <th>...</th>\n",
              "      <td>...</td>\n",
              "      <td>...</td>\n",
              "      <td>...</td>\n",
              "      <td>...</td>\n",
              "      <td>...</td>\n",
              "      <td>...</td>\n",
              "      <td>...</td>\n",
              "      <td>...</td>\n",
              "      <td>...</td>\n",
              "      <td>...</td>\n",
              "      <td>...</td>\n",
              "      <td>...</td>\n",
              "      <td>...</td>\n",
              "      <td>...</td>\n",
              "      <td>...</td>\n",
              "      <td>...</td>\n",
              "      <td>...</td>\n",
              "      <td>...</td>\n",
              "      <td>...</td>\n",
              "      <td>...</td>\n",
              "      <td>...</td>\n",
              "    </tr>\n",
              "    <tr>\n",
              "      <th>1595</th>\n",
              "      <td>0.501101</td>\n",
              "      <td>0.007035</td>\n",
              "      <td>1.075175</td>\n",
              "      <td>-0.721741</td>\n",
              "      <td>-0.217205</td>\n",
              "      <td>-0.680477</td>\n",
              "      <td>-0.822689</td>\n",
              "      <td>-0.643768</td>\n",
              "      <td>-0.828133</td>\n",
              "      <td>-0.165143</td>\n",
              "      <td>...</td>\n",
              "      <td>0.168905</td>\n",
              "      <td>0.715704</td>\n",
              "      <td>0.245679</td>\n",
              "      <td>-0.572632</td>\n",
              "      <td>0.234127</td>\n",
              "      <td>-0.621317</td>\n",
              "      <td>0.346992</td>\n",
              "      <td>0.226949</td>\n",
              "      <td>0.281294</td>\n",
              "      <td>-0.030568</td>\n",
              "    </tr>\n",
              "    <tr>\n",
              "      <th>1596</th>\n",
              "      <td>0.507981</td>\n",
              "      <td>-0.014762</td>\n",
              "      <td>0.969606</td>\n",
              "      <td>-0.713938</td>\n",
              "      <td>-0.139720</td>\n",
              "      <td>-0.672931</td>\n",
              "      <td>-0.821110</td>\n",
              "      <td>-0.612688</td>\n",
              "      <td>-0.806935</td>\n",
              "      <td>-0.189981</td>\n",
              "      <td>...</td>\n",
              "      <td>0.114047</td>\n",
              "      <td>0.756892</td>\n",
              "      <td>0.297245</td>\n",
              "      <td>-0.546550</td>\n",
              "      <td>0.134774</td>\n",
              "      <td>-0.614053</td>\n",
              "      <td>0.357259</td>\n",
              "      <td>0.202222</td>\n",
              "      <td>0.362888</td>\n",
              "      <td>-0.001590</td>\n",
              "    </tr>\n",
              "    <tr>\n",
              "      <th>1597</th>\n",
              "      <td>0.568143</td>\n",
              "      <td>-0.019429</td>\n",
              "      <td>1.074921</td>\n",
              "      <td>-0.724928</td>\n",
              "      <td>-0.205900</td>\n",
              "      <td>-0.683832</td>\n",
              "      <td>-0.830014</td>\n",
              "      <td>-0.641126</td>\n",
              "      <td>-0.814375</td>\n",
              "      <td>-0.185140</td>\n",
              "      <td>...</td>\n",
              "      <td>0.183100</td>\n",
              "      <td>0.724478</td>\n",
              "      <td>0.252756</td>\n",
              "      <td>-0.558391</td>\n",
              "      <td>0.218985</td>\n",
              "      <td>-0.610512</td>\n",
              "      <td>0.355767</td>\n",
              "      <td>0.195970</td>\n",
              "      <td>0.271290</td>\n",
              "      <td>-0.052721</td>\n",
              "    </tr>\n",
              "    <tr>\n",
              "      <th>1598</th>\n",
              "      <td>0.513013</td>\n",
              "      <td>-0.057585</td>\n",
              "      <td>0.921470</td>\n",
              "      <td>-0.738225</td>\n",
              "      <td>-0.138590</td>\n",
              "      <td>-0.665919</td>\n",
              "      <td>-0.829042</td>\n",
              "      <td>-0.629460</td>\n",
              "      <td>-0.810988</td>\n",
              "      <td>-0.235214</td>\n",
              "      <td>...</td>\n",
              "      <td>0.134226</td>\n",
              "      <td>0.756410</td>\n",
              "      <td>0.363160</td>\n",
              "      <td>-0.595022</td>\n",
              "      <td>0.182696</td>\n",
              "      <td>-0.616121</td>\n",
              "      <td>0.301952</td>\n",
              "      <td>0.171721</td>\n",
              "      <td>0.218320</td>\n",
              "      <td>0.037130</td>\n",
              "    </tr>\n",
              "    <tr>\n",
              "      <th>1599</th>\n",
              "      <td>0.498474</td>\n",
              "      <td>-0.024737</td>\n",
              "      <td>1.056548</td>\n",
              "      <td>-0.741483</td>\n",
              "      <td>-0.122930</td>\n",
              "      <td>-0.675188</td>\n",
              "      <td>-0.846281</td>\n",
              "      <td>-0.630109</td>\n",
              "      <td>-0.813104</td>\n",
              "      <td>-0.216475</td>\n",
              "      <td>...</td>\n",
              "      <td>0.169420</td>\n",
              "      <td>0.774878</td>\n",
              "      <td>0.451917</td>\n",
              "      <td>-0.561516</td>\n",
              "      <td>-0.029099</td>\n",
              "      <td>-0.599297</td>\n",
              "      <td>0.267149</td>\n",
              "      <td>0.268537</td>\n",
              "      <td>0.522583</td>\n",
              "      <td>0.096245</td>\n",
              "    </tr>\n",
              "  </tbody>\n",
              "</table>\n",
              "<p>1600 rows × 64 columns</p>\n",
              "</div>\n",
              "      <button class=\"colab-df-convert\" onclick=\"convertToInteractive('df-eba2ca7c-8832-45f6-80db-70778b0fb398')\"\n",
              "              title=\"Convert this dataframe to an interactive table.\"\n",
              "              style=\"display:none;\">\n",
              "        \n",
              "  <svg xmlns=\"http://www.w3.org/2000/svg\" height=\"24px\"viewBox=\"0 0 24 24\"\n",
              "       width=\"24px\">\n",
              "    <path d=\"M0 0h24v24H0V0z\" fill=\"none\"/>\n",
              "    <path d=\"M18.56 5.44l.94 2.06.94-2.06 2.06-.94-2.06-.94-.94-2.06-.94 2.06-2.06.94zm-11 1L8.5 8.5l.94-2.06 2.06-.94-2.06-.94L8.5 2.5l-.94 2.06-2.06.94zm10 10l.94 2.06.94-2.06 2.06-.94-2.06-.94-.94-2.06-.94 2.06-2.06.94z\"/><path d=\"M17.41 7.96l-1.37-1.37c-.4-.4-.92-.59-1.43-.59-.52 0-1.04.2-1.43.59L10.3 9.45l-7.72 7.72c-.78.78-.78 2.05 0 2.83L4 21.41c.39.39.9.59 1.41.59.51 0 1.02-.2 1.41-.59l7.78-7.78 2.81-2.81c.8-.78.8-2.07 0-2.86zM5.41 20L4 18.59l7.72-7.72 1.47 1.35L5.41 20z\"/>\n",
              "  </svg>\n",
              "      </button>\n",
              "      \n",
              "  <style>\n",
              "    .colab-df-container {\n",
              "      display:flex;\n",
              "      flex-wrap:wrap;\n",
              "      gap: 12px;\n",
              "    }\n",
              "\n",
              "    .colab-df-convert {\n",
              "      background-color: #E8F0FE;\n",
              "      border: none;\n",
              "      border-radius: 50%;\n",
              "      cursor: pointer;\n",
              "      display: none;\n",
              "      fill: #1967D2;\n",
              "      height: 32px;\n",
              "      padding: 0 0 0 0;\n",
              "      width: 32px;\n",
              "    }\n",
              "\n",
              "    .colab-df-convert:hover {\n",
              "      background-color: #E2EBFA;\n",
              "      box-shadow: 0px 1px 2px rgba(60, 64, 67, 0.3), 0px 1px 3px 1px rgba(60, 64, 67, 0.15);\n",
              "      fill: #174EA6;\n",
              "    }\n",
              "\n",
              "    [theme=dark] .colab-df-convert {\n",
              "      background-color: #3B4455;\n",
              "      fill: #D2E3FC;\n",
              "    }\n",
              "\n",
              "    [theme=dark] .colab-df-convert:hover {\n",
              "      background-color: #434B5C;\n",
              "      box-shadow: 0px 1px 3px 1px rgba(0, 0, 0, 0.15);\n",
              "      filter: drop-shadow(0px 1px 2px rgba(0, 0, 0, 0.3));\n",
              "      fill: #FFFFFF;\n",
              "    }\n",
              "  </style>\n",
              "\n",
              "      <script>\n",
              "        const buttonEl =\n",
              "          document.querySelector('#df-eba2ca7c-8832-45f6-80db-70778b0fb398 button.colab-df-convert');\n",
              "        buttonEl.style.display =\n",
              "          google.colab.kernel.accessAllowed ? 'block' : 'none';\n",
              "\n",
              "        async function convertToInteractive(key) {\n",
              "          const element = document.querySelector('#df-eba2ca7c-8832-45f6-80db-70778b0fb398');\n",
              "          const dataTable =\n",
              "            await google.colab.kernel.invokeFunction('convertToInteractive',\n",
              "                                                     [key], {});\n",
              "          if (!dataTable) return;\n",
              "\n",
              "          const docLinkHtml = 'Like what you see? Visit the ' +\n",
              "            '<a target=\"_blank\" href=https://colab.research.google.com/notebooks/data_table.ipynb>data table notebook</a>'\n",
              "            + ' to learn more about interactive tables.';\n",
              "          element.innerHTML = '';\n",
              "          dataTable['output_type'] = 'display_data';\n",
              "          await google.colab.output.renderOutput(dataTable, element);\n",
              "          const docLink = document.createElement('div');\n",
              "          docLink.innerHTML = docLinkHtml;\n",
              "          element.appendChild(docLink);\n",
              "        }\n",
              "      </script>\n",
              "    </div>\n",
              "  </div>\n",
              "  "
            ]
          },
          "metadata": {},
          "execution_count": 65
        }
      ]
    },
    {
      "cell_type": "code",
      "source": [
        "node_emb['Class']=node_Class"
      ],
      "metadata": {
        "id": "OKdGW4Mfgkw_"
      },
      "execution_count": 66,
      "outputs": []
    },
    {
      "cell_type": "code",
      "source": [
        "node_emb"
      ],
      "metadata": {
        "colab": {
          "base_uri": "https://localhost:8080/",
          "height": 487
        },
        "id": "ApnrxJOthgZm",
        "outputId": "ee437bf4-188f-44c2-9982-0ea38e27a27b"
      },
      "execution_count": 67,
      "outputs": [
        {
          "output_type": "execute_result",
          "data": {
            "text/plain": [
              "             0         1         2         3         4         5         6  \\\n",
              "0     0.547891 -0.051219  0.953352 -0.696882 -0.108638 -0.662740 -0.820760   \n",
              "1     0.497206 -0.068894  0.911839 -0.681931 -0.163532 -0.652982 -0.804833   \n",
              "2     0.569586  0.017963  1.115974 -0.725759 -0.209553 -0.687067 -0.833833   \n",
              "3     0.497373 -0.031509  0.945756 -0.689209 -0.161392 -0.669324 -0.809166   \n",
              "4     0.502622 -0.065562  0.988961 -0.703798 -0.199130 -0.686255 -0.801260   \n",
              "...        ...       ...       ...       ...       ...       ...       ...   \n",
              "1595  0.501101  0.007035  1.075175 -0.721741 -0.217205 -0.680477 -0.822689   \n",
              "1596  0.507981 -0.014762  0.969606 -0.713938 -0.139720 -0.672931 -0.821110   \n",
              "1597  0.568143 -0.019429  1.074921 -0.724928 -0.205900 -0.683832 -0.830014   \n",
              "1598  0.513013 -0.057585  0.921470 -0.738225 -0.138590 -0.665919 -0.829042   \n",
              "1599  0.498474 -0.024737  1.056548 -0.741483 -0.122930 -0.675188 -0.846281   \n",
              "\n",
              "             7         8         9  ...        55        56        57  \\\n",
              "0    -0.616850 -0.799862 -0.168785  ...  0.704194  0.310694 -0.609364   \n",
              "1    -0.591446 -0.779301 -0.055290  ...  0.713935  0.253257 -0.558883   \n",
              "2    -0.642904 -0.818984 -0.163544  ...  0.676942  0.232326 -0.541622   \n",
              "3    -0.601793 -0.770633 -0.060482  ...  0.765067  0.211726 -0.578845   \n",
              "4    -0.605757 -0.773128 -0.043743  ...  0.746437  0.217989 -0.577455   \n",
              "...        ...       ...       ...  ...       ...       ...       ...   \n",
              "1595 -0.643768 -0.828133 -0.165143  ...  0.715704  0.245679 -0.572632   \n",
              "1596 -0.612688 -0.806935 -0.189981  ...  0.756892  0.297245 -0.546550   \n",
              "1597 -0.641126 -0.814375 -0.185140  ...  0.724478  0.252756 -0.558391   \n",
              "1598 -0.629460 -0.810988 -0.235214  ...  0.756410  0.363160 -0.595022   \n",
              "1599 -0.630109 -0.813104 -0.216475  ...  0.774878  0.451917 -0.561516   \n",
              "\n",
              "            58        59        60        61        62        63  Class  \n",
              "0     0.230593 -0.592429  0.349173  0.204599  0.250368  0.004180      1  \n",
              "1     0.306287 -0.593766  0.389499  0.195807  0.199080 -0.000868      1  \n",
              "2     0.263751 -0.606820  0.367745  0.221445  0.289671 -0.001642      1  \n",
              "3     0.295954 -0.602796  0.379268  0.186771  0.229074  0.006209      1  \n",
              "4     0.276938 -0.581313  0.401481  0.190169  0.265087  0.039691      1  \n",
              "...        ...       ...       ...       ...       ...       ...    ...  \n",
              "1595  0.234127 -0.621317  0.346992  0.226949  0.281294 -0.030568      0  \n",
              "1596  0.134774 -0.614053  0.357259  0.202222  0.362888 -0.001590      0  \n",
              "1597  0.218985 -0.610512  0.355767  0.195970  0.271290 -0.052721      0  \n",
              "1598  0.182696 -0.616121  0.301952  0.171721  0.218320  0.037130      0  \n",
              "1599 -0.029099 -0.599297  0.267149  0.268537  0.522583  0.096245      0  \n",
              "\n",
              "[1600 rows x 65 columns]"
            ],
            "text/html": [
              "\n",
              "  <div id=\"df-1627fa55-9f87-4462-9fcb-c83dd9f51f15\">\n",
              "    <div class=\"colab-df-container\">\n",
              "      <div>\n",
              "<style scoped>\n",
              "    .dataframe tbody tr th:only-of-type {\n",
              "        vertical-align: middle;\n",
              "    }\n",
              "\n",
              "    .dataframe tbody tr th {\n",
              "        vertical-align: top;\n",
              "    }\n",
              "\n",
              "    .dataframe thead th {\n",
              "        text-align: right;\n",
              "    }\n",
              "</style>\n",
              "<table border=\"1\" class=\"dataframe\">\n",
              "  <thead>\n",
              "    <tr style=\"text-align: right;\">\n",
              "      <th></th>\n",
              "      <th>0</th>\n",
              "      <th>1</th>\n",
              "      <th>2</th>\n",
              "      <th>3</th>\n",
              "      <th>4</th>\n",
              "      <th>5</th>\n",
              "      <th>6</th>\n",
              "      <th>7</th>\n",
              "      <th>8</th>\n",
              "      <th>9</th>\n",
              "      <th>...</th>\n",
              "      <th>55</th>\n",
              "      <th>56</th>\n",
              "      <th>57</th>\n",
              "      <th>58</th>\n",
              "      <th>59</th>\n",
              "      <th>60</th>\n",
              "      <th>61</th>\n",
              "      <th>62</th>\n",
              "      <th>63</th>\n",
              "      <th>Class</th>\n",
              "    </tr>\n",
              "  </thead>\n",
              "  <tbody>\n",
              "    <tr>\n",
              "      <th>0</th>\n",
              "      <td>0.547891</td>\n",
              "      <td>-0.051219</td>\n",
              "      <td>0.953352</td>\n",
              "      <td>-0.696882</td>\n",
              "      <td>-0.108638</td>\n",
              "      <td>-0.662740</td>\n",
              "      <td>-0.820760</td>\n",
              "      <td>-0.616850</td>\n",
              "      <td>-0.799862</td>\n",
              "      <td>-0.168785</td>\n",
              "      <td>...</td>\n",
              "      <td>0.704194</td>\n",
              "      <td>0.310694</td>\n",
              "      <td>-0.609364</td>\n",
              "      <td>0.230593</td>\n",
              "      <td>-0.592429</td>\n",
              "      <td>0.349173</td>\n",
              "      <td>0.204599</td>\n",
              "      <td>0.250368</td>\n",
              "      <td>0.004180</td>\n",
              "      <td>1</td>\n",
              "    </tr>\n",
              "    <tr>\n",
              "      <th>1</th>\n",
              "      <td>0.497206</td>\n",
              "      <td>-0.068894</td>\n",
              "      <td>0.911839</td>\n",
              "      <td>-0.681931</td>\n",
              "      <td>-0.163532</td>\n",
              "      <td>-0.652982</td>\n",
              "      <td>-0.804833</td>\n",
              "      <td>-0.591446</td>\n",
              "      <td>-0.779301</td>\n",
              "      <td>-0.055290</td>\n",
              "      <td>...</td>\n",
              "      <td>0.713935</td>\n",
              "      <td>0.253257</td>\n",
              "      <td>-0.558883</td>\n",
              "      <td>0.306287</td>\n",
              "      <td>-0.593766</td>\n",
              "      <td>0.389499</td>\n",
              "      <td>0.195807</td>\n",
              "      <td>0.199080</td>\n",
              "      <td>-0.000868</td>\n",
              "      <td>1</td>\n",
              "    </tr>\n",
              "    <tr>\n",
              "      <th>2</th>\n",
              "      <td>0.569586</td>\n",
              "      <td>0.017963</td>\n",
              "      <td>1.115974</td>\n",
              "      <td>-0.725759</td>\n",
              "      <td>-0.209553</td>\n",
              "      <td>-0.687067</td>\n",
              "      <td>-0.833833</td>\n",
              "      <td>-0.642904</td>\n",
              "      <td>-0.818984</td>\n",
              "      <td>-0.163544</td>\n",
              "      <td>...</td>\n",
              "      <td>0.676942</td>\n",
              "      <td>0.232326</td>\n",
              "      <td>-0.541622</td>\n",
              "      <td>0.263751</td>\n",
              "      <td>-0.606820</td>\n",
              "      <td>0.367745</td>\n",
              "      <td>0.221445</td>\n",
              "      <td>0.289671</td>\n",
              "      <td>-0.001642</td>\n",
              "      <td>1</td>\n",
              "    </tr>\n",
              "    <tr>\n",
              "      <th>3</th>\n",
              "      <td>0.497373</td>\n",
              "      <td>-0.031509</td>\n",
              "      <td>0.945756</td>\n",
              "      <td>-0.689209</td>\n",
              "      <td>-0.161392</td>\n",
              "      <td>-0.669324</td>\n",
              "      <td>-0.809166</td>\n",
              "      <td>-0.601793</td>\n",
              "      <td>-0.770633</td>\n",
              "      <td>-0.060482</td>\n",
              "      <td>...</td>\n",
              "      <td>0.765067</td>\n",
              "      <td>0.211726</td>\n",
              "      <td>-0.578845</td>\n",
              "      <td>0.295954</td>\n",
              "      <td>-0.602796</td>\n",
              "      <td>0.379268</td>\n",
              "      <td>0.186771</td>\n",
              "      <td>0.229074</td>\n",
              "      <td>0.006209</td>\n",
              "      <td>1</td>\n",
              "    </tr>\n",
              "    <tr>\n",
              "      <th>4</th>\n",
              "      <td>0.502622</td>\n",
              "      <td>-0.065562</td>\n",
              "      <td>0.988961</td>\n",
              "      <td>-0.703798</td>\n",
              "      <td>-0.199130</td>\n",
              "      <td>-0.686255</td>\n",
              "      <td>-0.801260</td>\n",
              "      <td>-0.605757</td>\n",
              "      <td>-0.773128</td>\n",
              "      <td>-0.043743</td>\n",
              "      <td>...</td>\n",
              "      <td>0.746437</td>\n",
              "      <td>0.217989</td>\n",
              "      <td>-0.577455</td>\n",
              "      <td>0.276938</td>\n",
              "      <td>-0.581313</td>\n",
              "      <td>0.401481</td>\n",
              "      <td>0.190169</td>\n",
              "      <td>0.265087</td>\n",
              "      <td>0.039691</td>\n",
              "      <td>1</td>\n",
              "    </tr>\n",
              "    <tr>\n",
              "      <th>...</th>\n",
              "      <td>...</td>\n",
              "      <td>...</td>\n",
              "      <td>...</td>\n",
              "      <td>...</td>\n",
              "      <td>...</td>\n",
              "      <td>...</td>\n",
              "      <td>...</td>\n",
              "      <td>...</td>\n",
              "      <td>...</td>\n",
              "      <td>...</td>\n",
              "      <td>...</td>\n",
              "      <td>...</td>\n",
              "      <td>...</td>\n",
              "      <td>...</td>\n",
              "      <td>...</td>\n",
              "      <td>...</td>\n",
              "      <td>...</td>\n",
              "      <td>...</td>\n",
              "      <td>...</td>\n",
              "      <td>...</td>\n",
              "      <td>...</td>\n",
              "    </tr>\n",
              "    <tr>\n",
              "      <th>1595</th>\n",
              "      <td>0.501101</td>\n",
              "      <td>0.007035</td>\n",
              "      <td>1.075175</td>\n",
              "      <td>-0.721741</td>\n",
              "      <td>-0.217205</td>\n",
              "      <td>-0.680477</td>\n",
              "      <td>-0.822689</td>\n",
              "      <td>-0.643768</td>\n",
              "      <td>-0.828133</td>\n",
              "      <td>-0.165143</td>\n",
              "      <td>...</td>\n",
              "      <td>0.715704</td>\n",
              "      <td>0.245679</td>\n",
              "      <td>-0.572632</td>\n",
              "      <td>0.234127</td>\n",
              "      <td>-0.621317</td>\n",
              "      <td>0.346992</td>\n",
              "      <td>0.226949</td>\n",
              "      <td>0.281294</td>\n",
              "      <td>-0.030568</td>\n",
              "      <td>0</td>\n",
              "    </tr>\n",
              "    <tr>\n",
              "      <th>1596</th>\n",
              "      <td>0.507981</td>\n",
              "      <td>-0.014762</td>\n",
              "      <td>0.969606</td>\n",
              "      <td>-0.713938</td>\n",
              "      <td>-0.139720</td>\n",
              "      <td>-0.672931</td>\n",
              "      <td>-0.821110</td>\n",
              "      <td>-0.612688</td>\n",
              "      <td>-0.806935</td>\n",
              "      <td>-0.189981</td>\n",
              "      <td>...</td>\n",
              "      <td>0.756892</td>\n",
              "      <td>0.297245</td>\n",
              "      <td>-0.546550</td>\n",
              "      <td>0.134774</td>\n",
              "      <td>-0.614053</td>\n",
              "      <td>0.357259</td>\n",
              "      <td>0.202222</td>\n",
              "      <td>0.362888</td>\n",
              "      <td>-0.001590</td>\n",
              "      <td>0</td>\n",
              "    </tr>\n",
              "    <tr>\n",
              "      <th>1597</th>\n",
              "      <td>0.568143</td>\n",
              "      <td>-0.019429</td>\n",
              "      <td>1.074921</td>\n",
              "      <td>-0.724928</td>\n",
              "      <td>-0.205900</td>\n",
              "      <td>-0.683832</td>\n",
              "      <td>-0.830014</td>\n",
              "      <td>-0.641126</td>\n",
              "      <td>-0.814375</td>\n",
              "      <td>-0.185140</td>\n",
              "      <td>...</td>\n",
              "      <td>0.724478</td>\n",
              "      <td>0.252756</td>\n",
              "      <td>-0.558391</td>\n",
              "      <td>0.218985</td>\n",
              "      <td>-0.610512</td>\n",
              "      <td>0.355767</td>\n",
              "      <td>0.195970</td>\n",
              "      <td>0.271290</td>\n",
              "      <td>-0.052721</td>\n",
              "      <td>0</td>\n",
              "    </tr>\n",
              "    <tr>\n",
              "      <th>1598</th>\n",
              "      <td>0.513013</td>\n",
              "      <td>-0.057585</td>\n",
              "      <td>0.921470</td>\n",
              "      <td>-0.738225</td>\n",
              "      <td>-0.138590</td>\n",
              "      <td>-0.665919</td>\n",
              "      <td>-0.829042</td>\n",
              "      <td>-0.629460</td>\n",
              "      <td>-0.810988</td>\n",
              "      <td>-0.235214</td>\n",
              "      <td>...</td>\n",
              "      <td>0.756410</td>\n",
              "      <td>0.363160</td>\n",
              "      <td>-0.595022</td>\n",
              "      <td>0.182696</td>\n",
              "      <td>-0.616121</td>\n",
              "      <td>0.301952</td>\n",
              "      <td>0.171721</td>\n",
              "      <td>0.218320</td>\n",
              "      <td>0.037130</td>\n",
              "      <td>0</td>\n",
              "    </tr>\n",
              "    <tr>\n",
              "      <th>1599</th>\n",
              "      <td>0.498474</td>\n",
              "      <td>-0.024737</td>\n",
              "      <td>1.056548</td>\n",
              "      <td>-0.741483</td>\n",
              "      <td>-0.122930</td>\n",
              "      <td>-0.675188</td>\n",
              "      <td>-0.846281</td>\n",
              "      <td>-0.630109</td>\n",
              "      <td>-0.813104</td>\n",
              "      <td>-0.216475</td>\n",
              "      <td>...</td>\n",
              "      <td>0.774878</td>\n",
              "      <td>0.451917</td>\n",
              "      <td>-0.561516</td>\n",
              "      <td>-0.029099</td>\n",
              "      <td>-0.599297</td>\n",
              "      <td>0.267149</td>\n",
              "      <td>0.268537</td>\n",
              "      <td>0.522583</td>\n",
              "      <td>0.096245</td>\n",
              "      <td>0</td>\n",
              "    </tr>\n",
              "  </tbody>\n",
              "</table>\n",
              "<p>1600 rows × 65 columns</p>\n",
              "</div>\n",
              "      <button class=\"colab-df-convert\" onclick=\"convertToInteractive('df-1627fa55-9f87-4462-9fcb-c83dd9f51f15')\"\n",
              "              title=\"Convert this dataframe to an interactive table.\"\n",
              "              style=\"display:none;\">\n",
              "        \n",
              "  <svg xmlns=\"http://www.w3.org/2000/svg\" height=\"24px\"viewBox=\"0 0 24 24\"\n",
              "       width=\"24px\">\n",
              "    <path d=\"M0 0h24v24H0V0z\" fill=\"none\"/>\n",
              "    <path d=\"M18.56 5.44l.94 2.06.94-2.06 2.06-.94-2.06-.94-.94-2.06-.94 2.06-2.06.94zm-11 1L8.5 8.5l.94-2.06 2.06-.94-2.06-.94L8.5 2.5l-.94 2.06-2.06.94zm10 10l.94 2.06.94-2.06 2.06-.94-2.06-.94-.94-2.06-.94 2.06-2.06.94z\"/><path d=\"M17.41 7.96l-1.37-1.37c-.4-.4-.92-.59-1.43-.59-.52 0-1.04.2-1.43.59L10.3 9.45l-7.72 7.72c-.78.78-.78 2.05 0 2.83L4 21.41c.39.39.9.59 1.41.59.51 0 1.02-.2 1.41-.59l7.78-7.78 2.81-2.81c.8-.78.8-2.07 0-2.86zM5.41 20L4 18.59l7.72-7.72 1.47 1.35L5.41 20z\"/>\n",
              "  </svg>\n",
              "      </button>\n",
              "      \n",
              "  <style>\n",
              "    .colab-df-container {\n",
              "      display:flex;\n",
              "      flex-wrap:wrap;\n",
              "      gap: 12px;\n",
              "    }\n",
              "\n",
              "    .colab-df-convert {\n",
              "      background-color: #E8F0FE;\n",
              "      border: none;\n",
              "      border-radius: 50%;\n",
              "      cursor: pointer;\n",
              "      display: none;\n",
              "      fill: #1967D2;\n",
              "      height: 32px;\n",
              "      padding: 0 0 0 0;\n",
              "      width: 32px;\n",
              "    }\n",
              "\n",
              "    .colab-df-convert:hover {\n",
              "      background-color: #E2EBFA;\n",
              "      box-shadow: 0px 1px 2px rgba(60, 64, 67, 0.3), 0px 1px 3px 1px rgba(60, 64, 67, 0.15);\n",
              "      fill: #174EA6;\n",
              "    }\n",
              "\n",
              "    [theme=dark] .colab-df-convert {\n",
              "      background-color: #3B4455;\n",
              "      fill: #D2E3FC;\n",
              "    }\n",
              "\n",
              "    [theme=dark] .colab-df-convert:hover {\n",
              "      background-color: #434B5C;\n",
              "      box-shadow: 0px 1px 3px 1px rgba(0, 0, 0, 0.15);\n",
              "      filter: drop-shadow(0px 1px 2px rgba(0, 0, 0, 0.3));\n",
              "      fill: #FFFFFF;\n",
              "    }\n",
              "  </style>\n",
              "\n",
              "      <script>\n",
              "        const buttonEl =\n",
              "          document.querySelector('#df-1627fa55-9f87-4462-9fcb-c83dd9f51f15 button.colab-df-convert');\n",
              "        buttonEl.style.display =\n",
              "          google.colab.kernel.accessAllowed ? 'block' : 'none';\n",
              "\n",
              "        async function convertToInteractive(key) {\n",
              "          const element = document.querySelector('#df-1627fa55-9f87-4462-9fcb-c83dd9f51f15');\n",
              "          const dataTable =\n",
              "            await google.colab.kernel.invokeFunction('convertToInteractive',\n",
              "                                                     [key], {});\n",
              "          if (!dataTable) return;\n",
              "\n",
              "          const docLinkHtml = 'Like what you see? Visit the ' +\n",
              "            '<a target=\"_blank\" href=https://colab.research.google.com/notebooks/data_table.ipynb>data table notebook</a>'\n",
              "            + ' to learn more about interactive tables.';\n",
              "          element.innerHTML = '';\n",
              "          dataTable['output_type'] = 'display_data';\n",
              "          await google.colab.output.renderOutput(dataTable, element);\n",
              "          const docLink = document.createElement('div');\n",
              "          docLink.innerHTML = docLinkHtml;\n",
              "          element.appendChild(docLink);\n",
              "        }\n",
              "      </script>\n",
              "    </div>\n",
              "  </div>\n",
              "  "
            ]
          },
          "metadata": {},
          "execution_count": 67
        }
      ]
    },
    {
      "cell_type": "code",
      "source": [
        "from sklearn.manifold import TSNE\n",
        "# Apply t-SNE transformation on node embeddings\n",
        "tsne = TSNE(n_components=2)\n",
        "node_embeddings_2d = tsne.fit_transform(w)"
      ],
      "metadata": {
        "colab": {
          "base_uri": "https://localhost:8080/"
        },
        "id": "w5OG4UDvmMly",
        "outputId": "b3a622d4-1f60-429b-884e-f94a7a197caa"
      },
      "execution_count": 68,
      "outputs": [
        {
          "output_type": "stream",
          "name": "stderr",
          "text": [
            "/usr/local/lib/python3.8/dist-packages/sklearn/manifold/_t_sne.py:780: FutureWarning: The default initialization in TSNE will change from 'random' to 'pca' in 1.2.\n",
            "  warnings.warn(\n",
            "/usr/local/lib/python3.8/dist-packages/sklearn/manifold/_t_sne.py:790: FutureWarning: The default learning rate in TSNE will change from 200.0 to 'auto' in 1.2.\n",
            "  warnings.warn(\n"
          ]
        }
      ]
    },
    {
      "cell_type": "code",
      "source": [
        "# draw the points\n",
        "alpha = 0.7\n",
        "label_map = {l: i for i, l in enumerate(np.unique(node_Class))}\n",
        "node_colours = [label_map[target] for target in node_Class]\n",
        "\n",
        "plt.figure(figsize=(10, 8))\n",
        "plt.scatter(\n",
        "    node_embeddings_2d[:, 0],\n",
        "    node_embeddings_2d[:, 1],\n",
        "    c=node_colours,\n",
        "    cmap=\"jet\",\n",
        "    alpha=alpha,\n",
        ")"
      ],
      "metadata": {
        "colab": {
          "base_uri": "https://localhost:8080/",
          "height": 502
        },
        "id": "wYPGh00qmTLO",
        "outputId": "a7f765fa-eb8a-401f-9ee5-2ce67969b6cb"
      },
      "execution_count": 69,
      "outputs": [
        {
          "output_type": "execute_result",
          "data": {
            "text/plain": [
              "<matplotlib.collections.PathCollection at 0x7f3ee3f73b80>"
            ]
          },
          "metadata": {},
          "execution_count": 69
        },
        {
          "output_type": "display_data",
          "data": {
            "text/plain": [
              "<Figure size 720x576 with 1 Axes>"
            ],
            "image/png": "[encoded data removed]"
          },
          "metadata": {
            "needs_background": "light"
          }
        }
      ]
    },
    {
      "cell_type": "markdown",
      "source": [
        "### Node embeddings"
      ],
      "metadata": {
        "id": "Kgp6sTcKHJIU"
      }
    },
    {
      "cell_type": "code",
      "source": [
        "from sklearn.model_selection import train_test_split\n",
        "from sklearn import tree\n",
        "from sklearn.metrics import classification_report,accuracy_score\n",
        "from sklearn import preprocessing\n",
        "from sklearn.linear_model import LogisticRegression\n",
        "from sklearn.linear_model import LinearRegression\n",
        "from sklearn.svm import SVC\n",
        "from sklearn.svm import LinearSVC\n",
        "from sklearn import metrics\n",
        "\n",
        "from sklearn.ensemble import RandomForestClassifier\n",
        "from sklearn.tree import DecisionTreeClassifier\n",
        "from sklearn.naive_bayes import MultinomialNB\n",
        "from sklearn.svm import LinearSVC\n",
        "from xgboost import XGBClassifier\n",
        "from xgboost import XGBRegressor\n",
        "from sklearn.metrics import confusion_matrix, recall_score, precision_score,f1_score\n",
        "import seaborn as sns"
      ],
      "metadata": {
        "id": "LpG7V5YX6iqI"
      },
      "execution_count": 70,
      "outputs": []
    },
    {
      "cell_type": "code",
      "source": [
        "X=node_emb.drop(['Class'],axis=1)\n",
        "Y=node_emb['Class']"
      ],
      "metadata": {
        "id": "NPVaXqfw6itB"
      },
      "execution_count": 71,
      "outputs": []
    },
    {
      "cell_type": "markdown",
      "source": [
        "## Model Building"
      ],
      "metadata": {
        "id": "7BMWYFgCz2rk"
      }
    },
    {
      "cell_type": "markdown",
      "metadata": {
        "id": "7BA9musmser_"
      },
      "source": [
        "### CROSS VALIDATION"
      ]
    },
    {
      "cell_type": "code",
      "execution_count": 72,
      "metadata": {
        "id": "ooTRuGimrzkQ"
      },
      "outputs": [],
      "source": [
        "from sklearn.model_selection import KFold\n",
        "from sklearn.model_selection import StratifiedKFold\n",
        "from sklearn.model_selection import cross_val_score"
      ]
    },
    {
      "cell_type": "code",
      "execution_count": 73,
      "metadata": {
        "colab": {
          "base_uri": "https://localhost:8080/"
        },
        "id": "peKxZ_jTrzng",
        "outputId": "0ea9c655-4517-42cd-e3f5-c0f9a91cf5f1"
      },
      "outputs": [
        {
          "output_type": "stream",
          "name": "stderr",
          "text": [
            "/usr/local/lib/python3.8/dist-packages/sklearn/svm/_base.py:1206: ConvergenceWarning: Liblinear failed to converge, increase the number of iterations.\n",
            "  warnings.warn(\n",
            "/usr/local/lib/python3.8/dist-packages/sklearn/svm/_base.py:1206: ConvergenceWarning: Liblinear failed to converge, increase the number of iterations.\n",
            "  warnings.warn(\n"
          ]
        },
        {
          "output_type": "stream",
          "name": "stdout",
          "text": [
            "Accuracy:  0.8325\n",
            "              precision    recall  f1-score   support\n",
            "\n",
            "           0       0.84      0.82      0.83       800\n",
            "           1       0.83      0.84      0.83       800\n",
            "\n",
            "    accuracy                           0.83      1600\n",
            "   macro avg       0.83      0.83      0.83      1600\n",
            "weighted avg       0.83      0.83      0.83      1600\n",
            "\n",
            "Confusion matrix:  [[660 140]\n",
            " [128 672]]\n"
          ]
        },
        {
          "output_type": "stream",
          "name": "stderr",
          "text": [
            "/usr/local/lib/python3.8/dist-packages/sklearn/svm/_base.py:1206: ConvergenceWarning: Liblinear failed to converge, increase the number of iterations.\n",
            "  warnings.warn(\n"
          ]
        }
      ],
      "source": [
        "from sklearn.svm import LinearSVC\n",
        "models = LinearSVC()\n",
        "folds = StratifiedKFold(n_splits=10, shuffle=True, random_state=1)\n",
        "y_pred = []\n",
        "y_exp = []\n",
        "\n",
        "for train_index, test_index in folds.split(X, Y):\n",
        "    x_train, x_test = X.iloc[train_index], X.iloc[test_index]\n",
        "    y_train, y_test = Y[train_index], Y[test_index]\n",
        "    models.fit(x_train, y_train)\n",
        "    # store result from classification\n",
        "    y_pred.extend(models.predict(x_test))\n",
        "    # store expected result for this specific fold\n",
        "    y_exp.extend(y_test)\n",
        "\n",
        "print(\"Accuracy: \",  accuracy_score(y_exp, y_pred))\n",
        "print(classification_report(y_exp, y_pred))\n",
        "print(\"Confusion matrix: \", confusion_matrix(y_exp, y_pred))"
      ]
    },
    {
      "cell_type": "code",
      "execution_count": 74,
      "metadata": {
        "colab": {
          "base_uri": "https://localhost:8080/"
        },
        "id": "Bsrm5F62rzqo",
        "outputId": "8aeba454-3e34-4db7-eede-ceb02170e2c5"
      },
      "outputs": [
        {
          "output_type": "stream",
          "name": "stdout",
          "text": [
            "Accuracy:  0.75\n",
            "              precision    recall  f1-score   support\n",
            "\n",
            "           0       0.78      0.70      0.74       800\n",
            "           1       0.73      0.80      0.76       800\n",
            "\n",
            "    accuracy                           0.75      1600\n",
            "   macro avg       0.75      0.75      0.75      1600\n",
            "weighted avg       0.75      0.75      0.75      1600\n",
            "\n",
            "Confusion matrix:  [[562 238]\n",
            " [162 638]]\n"
          ]
        }
      ],
      "source": [
        "from sklearn.linear_model import PassiveAggressiveClassifier\n",
        "pag=PassiveAggressiveClassifier(max_iter=1000, random_state=7, tol=1e-3)\n",
        "folds = StratifiedKFold(n_splits=10, shuffle=True, random_state=1)\n",
        "y_pred = []\n",
        "y_exp = []\n",
        "\n",
        "for train_index, test_index in folds.split(X, Y):\n",
        "    x_train, x_test = X.iloc[train_index], X.iloc[test_index]\n",
        "    y_train, y_test = Y[train_index], Y[test_index]\n",
        "    pag.fit(x_train, y_train)\n",
        "    # store result from classification\n",
        "    y_pred.extend(pag.predict(x_test))\n",
        "    # store expected result for this specific fold\n",
        "    y_exp.extend(y_test)\n",
        "\n",
        "print(\"Accuracy: \",  accuracy_score(y_exp, y_pred))\n",
        "print(classification_report(y_exp, y_pred))\n",
        "print(\"Confusion matrix: \", confusion_matrix(y_exp, y_pred))"
      ]
    },
    {
      "cell_type": "code",
      "execution_count": 75,
      "metadata": {
        "colab": {
          "base_uri": "https://localhost:8080/"
        },
        "id": "q8NrGILoslC6",
        "outputId": "fa0aa0a5-13be-4021-e1bf-d2d386c6c43a"
      },
      "outputs": [
        {
          "output_type": "stream",
          "name": "stdout",
          "text": [
            "Accuracy:  0.810625\n",
            "              precision    recall  f1-score   support\n",
            "\n",
            "           0       0.82      0.80      0.81       800\n",
            "           1       0.80      0.82      0.81       800\n",
            "\n",
            "    accuracy                           0.81      1600\n",
            "   macro avg       0.81      0.81      0.81      1600\n",
            "weighted avg       0.81      0.81      0.81      1600\n",
            "\n",
            "Confusion matrix:  [[638 162]\n",
            " [141 659]]\n"
          ]
        }
      ],
      "source": [
        "from sklearn.linear_model import LogisticRegression\n",
        "lr = LogisticRegression(max_iter=10000) \n",
        "folds = StratifiedKFold(n_splits=10, shuffle=True, random_state=1)\n",
        "y_pred = []\n",
        "y_exp = []\n",
        "\n",
        "for train_index, test_index in folds.split(X, Y):\n",
        "    x_train, x_test = X.iloc[train_index], X.iloc[test_index]\n",
        "    y_train, y_test = Y[train_index], Y[test_index]\n",
        "    lr.fit(x_train, y_train)\n",
        "    # store result from classification\n",
        "    y_pred.extend(lr.predict(x_test))\n",
        "    # store expected result for this specific fold\n",
        "    y_exp.extend(y_test)\n",
        "\n",
        "print(\"Accuracy: \",  accuracy_score(y_exp, y_pred))\n",
        "print(classification_report(y_exp, y_pred))\n",
        "print(\"Confusion matrix: \", confusion_matrix(y_exp, y_pred))"
      ]
    },
    {
      "cell_type": "code",
      "execution_count": 76,
      "metadata": {
        "colab": {
          "base_uri": "https://localhost:8080/"
        },
        "id": "qZJhUJNY6EcA",
        "outputId": "f5e49a70-096e-49b9-9510-49185444d06a"
      },
      "outputs": [
        {
          "output_type": "stream",
          "name": "stdout",
          "text": [
            "Accuracy:  0.81125\n",
            "              precision    recall  f1-score   support\n",
            "\n",
            "           0       0.80      0.83      0.81       800\n",
            "           1       0.82      0.80      0.81       800\n",
            "\n",
            "    accuracy                           0.81      1600\n",
            "   macro avg       0.81      0.81      0.81      1600\n",
            "weighted avg       0.81      0.81      0.81      1600\n",
            "\n",
            "Confusion matrix:  [[661 139]\n",
            " [163 637]]\n"
          ]
        }
      ],
      "source": [
        "from sklearn.ensemble import RandomForestClassifier, GradientBoostingClassifier, AdaBoostClassifier\n",
        "rf = RandomForestClassifier(n_estimators=300)\n",
        "folds = StratifiedKFold(n_splits=10, shuffle=True, random_state=1)\n",
        "y_pred = []\n",
        "y_exp = []\n",
        "\n",
        "for train_index, test_index in folds.split(X, Y):\n",
        "    x_train, x_test = X.iloc[train_index], X.iloc[test_index]\n",
        "    y_train, y_test = Y[train_index], Y[test_index]\n",
        "    rf.fit(x_train, y_train)\n",
        "    # store result from classification\n",
        "    y_pred.extend(rf.predict(x_test))\n",
        "    # store expected result for this specific fold\n",
        "    y_exp.extend(y_test)\n",
        "\n",
        "print(\"Accuracy: \",  accuracy_score(y_exp, y_pred))\n",
        "print(classification_report(y_exp, y_pred))\n",
        "print(\"Confusion matrix: \", confusion_matrix(y_exp, y_pred))"
      ]
    },
    {
      "cell_type": "code",
      "source": [
        "gbc = GradientBoostingClassifier(n_estimators=300)\n",
        "folds = StratifiedKFold(n_splits=10, shuffle=True, random_state=7)\n",
        "y_pred = []\n",
        "y_exp = []\n",
        "\n",
        "for train_index, test_index in folds.split(X, Y):\n",
        "    x_train, x_test = X.iloc[train_index], X.iloc[test_index]\n",
        "    y_train, y_test = Y[train_index], Y[test_index]\n",
        "    gbc.fit(x_train, y_train)\n",
        "    # store result from classification\n",
        "    y_pred.extend(gbc.predict(x_test))\n",
        "    # store expected result for this specific fold\n",
        "    y_exp.extend(y_test)\n",
        "\n",
        "print(\"Accuracy: \",  accuracy_score(y_exp, y_pred))\n",
        "print(classification_report(y_exp, y_pred))\n",
        "print(\"Confusion matrix: \", confusion_matrix(y_exp, y_pred))"
      ],
      "metadata": {
        "colab": {
          "base_uri": "https://localhost:8080/"
        },
        "id": "M0ehuU5ye1oO",
        "outputId": "b69a9a59-c1c2-49a0-dcaf-ed87485d2c1c"
      },
      "execution_count": 77,
      "outputs": [
        {
          "output_type": "stream",
          "name": "stdout",
          "text": [
            "Accuracy:  0.81625\n",
            "              precision    recall  f1-score   support\n",
            "\n",
            "           0       0.82      0.81      0.82       800\n",
            "           1       0.81      0.82      0.82       800\n",
            "\n",
            "    accuracy                           0.82      1600\n",
            "   macro avg       0.82      0.82      0.82      1600\n",
            "weighted avg       0.82      0.82      0.82      1600\n",
            "\n",
            "Confusion matrix:  [[648 152]\n",
            " [142 658]]\n"
          ]
        }
      ]
    },
    {
      "cell_type": "code",
      "source": [
        "abc = AdaBoostClassifier(n_estimators=300)\n",
        "folds = StratifiedKFold(n_splits=10, shuffle=True, random_state=7)\n",
        "y_pred = []\n",
        "y_exp = []\n",
        "\n",
        "for train_index, test_index in folds.split(X, Y):\n",
        "    x_train, x_test = X.iloc[train_index], X.iloc[test_index]\n",
        "    y_train, y_test = Y[train_index], Y[test_index]\n",
        "    abc.fit(x_train, y_train)\n",
        "    # store result from classification\n",
        "    y_pred.extend(abc.predict(x_test))\n",
        "    # store expected result for this specific fold\n",
        "    y_exp.extend(y_test)\n",
        "\n",
        "print(\"Accuracy: \",  accuracy_score(y_exp, y_pred))\n",
        "print(classification_report(y_exp, y_pred))\n",
        "print(\"Confusion matrix: \", confusion_matrix(y_exp, y_pred))"
      ],
      "metadata": {
        "colab": {
          "base_uri": "https://localhost:8080/"
        },
        "id": "ClkdOLDOe1sx",
        "outputId": "6ccc4c22-50d1-463a-8e88-cea3f2195848"
      },
      "execution_count": 78,
      "outputs": [
        {
          "output_type": "stream",
          "name": "stdout",
          "text": [
            "Accuracy:  0.78\n",
            "              precision    recall  f1-score   support\n",
            "\n",
            "           0       0.78      0.79      0.78       800\n",
            "           1       0.78      0.77      0.78       800\n",
            "\n",
            "    accuracy                           0.78      1600\n",
            "   macro avg       0.78      0.78      0.78      1600\n",
            "weighted avg       0.78      0.78      0.78      1600\n",
            "\n",
            "Confusion matrix:  [[631 169]\n",
            " [183 617]]\n"
          ]
        }
      ]
    },
    {
      "cell_type": "code",
      "execution_count": 79,
      "metadata": {
        "colab": {
          "base_uri": "https://localhost:8080/"
        },
        "id": "1Pw1Z7tN6Efv",
        "outputId": "a15cff6e-9270-478b-adc4-46ca5c573875"
      },
      "outputs": [
        {
          "output_type": "stream",
          "name": "stdout",
          "text": [
            "Accuracy:  0.806875\n",
            "              precision    recall  f1-score   support\n",
            "\n",
            "           0       0.80      0.81      0.81       800\n",
            "           1       0.81      0.80      0.81       800\n",
            "\n",
            "    accuracy                           0.81      1600\n",
            "   macro avg       0.81      0.81      0.81      1600\n",
            "weighted avg       0.81      0.81      0.81      1600\n",
            "\n",
            "Confusion matrix:  [[650 150]\n",
            " [159 641]]\n"
          ]
        }
      ],
      "source": [
        "import xgboost as xgb\n",
        "xgbc = xgb.XGBClassifier(base_score=0.5, booster='gbtree', colsample_bylevel=1,\n",
        "              colsample_bynode=1, colsample_bytree=1, \n",
        "              gamma=0,  importance_type='gain',\n",
        "              interaction_constraints='', learning_rate=0.300000012,\n",
        "              max_delta_step=0, max_depth=6, min_child_weight=1, \n",
        "             n_estimators=200, n_jobs=16,\n",
        "              num_parallel_tree=1, random_state=0,\n",
        "              reg_alpha=0, reg_lambda=1, subsample=1,\n",
        "              tree_method='exact', use_label_encoder=False\n",
        "              )\n",
        "folds = StratifiedKFold(n_splits=10, shuffle=True, random_state=1)\n",
        "y_pred = []\n",
        "y_exp = []\n",
        "\n",
        "for train_index, test_index in folds.split(X, Y):\n",
        "    x_train, x_test = X.iloc[train_index], X.iloc[test_index]\n",
        "    y_train, y_test = Y[train_index], Y[test_index]\n",
        "    xgbc.fit(x_train, y_train)\n",
        "    # store result from classification\n",
        "    y_pred.extend(xgbc.predict(x_test))\n",
        "    # store expected result for this specific fold\n",
        "    y_exp.extend(y_test)\n",
        "\n",
        "print(\"Accuracy: \",  accuracy_score(y_exp, y_pred))\n",
        "print(classification_report(y_exp, y_pred))\n",
        "print(\"Confusion matrix: \", confusion_matrix(y_exp, y_pred))"
      ]
    },
    {
      "cell_type": "code",
      "source": [
        "import lightgbm as lgb\n",
        "lgb = lgb.LGBMClassifier(boosting_type='gbdt', class_weight=None, colsample_bytree=1.0,\n",
        "               importance_type='split', learning_rate=0.1, max_depth=-1,\n",
        "               min_child_samples=20, min_child_weight=0.001, min_split_gain=0.0,\n",
        "               n_estimators=400, n_jobs=-1, num_leaves=31, objective=None,\n",
        "               random_state=None, reg_alpha=0.0, reg_lambda=0.0, silent=True,\n",
        "               subsample=1.0, subsample_for_bin=200000, subsample_freq=0)\n",
        "folds = StratifiedKFold(n_splits=10, shuffle=True, random_state=1)\n",
        "y_pred = []\n",
        "y_exp = []\n",
        "\n",
        "for train_index, test_index in folds.split(X, Y):\n",
        "    x_train, x_test = X.iloc[train_index], X.iloc[test_index]\n",
        "    y_train, y_test = Y[train_index], Y[test_index]\n",
        "    lgb.fit(x_train, y_train)\n",
        "    # store result from classification\n",
        "    y_pred.extend(lgb.predict(x_test))\n",
        "    # store expected result for this specific fold\n",
        "    y_exp.extend(y_test)\n",
        "\n",
        "print(\"Accuracy: \",  accuracy_score(y_exp, y_pred))\n",
        "print(classification_report(y_exp, y_pred))\n",
        "print(\"Confusion matrix: \", confusion_matrix(y_exp, y_pred))"
      ],
      "metadata": {
        "colab": {
          "base_uri": "https://localhost:8080/"
        },
        "id": "P-Vglq9B6OzH",
        "outputId": "12620bdd-c004-424a-efdd-c1b17fae1853"
      },
      "execution_count": 80,
      "outputs": [
        {
          "output_type": "stream",
          "name": "stdout",
          "text": [
            "Accuracy:  0.798125\n",
            "              precision    recall  f1-score   support\n",
            "\n",
            "           0       0.80      0.80      0.80       800\n",
            "           1       0.80      0.79      0.80       800\n",
            "\n",
            "    accuracy                           0.80      1600\n",
            "   macro avg       0.80      0.80      0.80      1600\n",
            "weighted avg       0.80      0.80      0.80      1600\n",
            "\n",
            "Confusion matrix:  [[642 158]\n",
            " [165 635]]\n"
          ]
        }
      ]
    },
    {
      "cell_type": "markdown",
      "source": [
        "### Train - test split (Without cross validation)"
      ],
      "metadata": {
        "id": "dicNh6MhHQQa"
      }
    },
    {
      "cell_type": "code",
      "source": [
        "from sklearn.model_selection import train_test_split\n",
        "x_train, x_test, y_train, y_test = train_test_split(X, Y, test_size=0.2, random_state=7, stratify=Y)"
      ],
      "metadata": {
        "id": "3FuGnHCEDDop"
      },
      "execution_count": 81,
      "outputs": []
    },
    {
      "cell_type": "code",
      "source": [
        "from sklearn.linear_model import PassiveAggressiveClassifier\n",
        "pa=PassiveAggressiveClassifier(max_iter=1000, random_state=7, tol=1e-3)\n",
        "pa.fit(x_train, y_train)\n",
        "y_pred=pa.predict(x_test)\n",
        "from sklearn.metrics import confusion_matrix, classification_report, accuracy_score\n",
        "print(confusion_matrix(y_test, y_pred))\n",
        "print(classification_report(y_test, y_pred))\n",
        "print('accuracy_score: ', accuracy_score(y_test, y_pred))"
      ],
      "metadata": {
        "colab": {
          "base_uri": "https://localhost:8080/"
        },
        "id": "Xd2Fs89EDGJR",
        "outputId": "e1ca8a3f-ed4c-4272-b4c9-0e8a3c8e4868"
      },
      "execution_count": 82,
      "outputs": [
        {
          "output_type": "stream",
          "name": "stdout",
          "text": [
            "[[ 93  67]\n",
            " [  4 156]]\n",
            "              precision    recall  f1-score   support\n",
            "\n",
            "           0       0.96      0.58      0.72       160\n",
            "           1       0.70      0.97      0.81       160\n",
            "\n",
            "    accuracy                           0.78       320\n",
            "   macro avg       0.83      0.78      0.77       320\n",
            "weighted avg       0.83      0.78      0.77       320\n",
            "\n",
            "accuracy_score:  0.778125\n"
          ]
        }
      ]
    },
    {
      "cell_type": "code",
      "source": [
        "from sklearn.svm import LinearSVC\n",
        "lsvm = LinearSVC()\n",
        "lsvm.fit(x_train, y_train)\n",
        "y_pred=lsvm.predict(x_test)\n",
        "from sklearn.metrics import confusion_matrix, classification_report, accuracy_score\n",
        "print(confusion_matrix(y_test, y_pred))\n",
        "print(classification_report(y_test, y_pred))\n",
        "print('accuracy_score: ', accuracy_score(y_test, y_pred))"
      ],
      "metadata": {
        "colab": {
          "base_uri": "https://localhost:8080/"
        },
        "id": "WKOZOIM_DGM_",
        "outputId": "0fc58f7c-ce16-445e-c45c-4e9a7f509911"
      },
      "execution_count": 83,
      "outputs": [
        {
          "output_type": "stream",
          "name": "stdout",
          "text": [
            "[[134  26]\n",
            " [ 22 138]]\n",
            "              precision    recall  f1-score   support\n",
            "\n",
            "           0       0.86      0.84      0.85       160\n",
            "           1       0.84      0.86      0.85       160\n",
            "\n",
            "    accuracy                           0.85       320\n",
            "   macro avg       0.85      0.85      0.85       320\n",
            "weighted avg       0.85      0.85      0.85       320\n",
            "\n",
            "accuracy_score:  0.85\n"
          ]
        }
      ]
    },
    {
      "cell_type": "code",
      "source": [
        "rf = RandomForestClassifier(n_estimators=300)\n",
        "rf.fit(x_train, y_train)\n",
        "y_pred=rf.predict(x_test)\n",
        "from sklearn.metrics import confusion_matrix, classification_report, accuracy_score\n",
        "print(confusion_matrix(y_test, y_pred))\n",
        "print(classification_report(y_test, y_pred))\n",
        "print('accuracy_score: ', accuracy_score(y_test, y_pred))"
      ],
      "metadata": {
        "colab": {
          "base_uri": "https://localhost:8080/"
        },
        "id": "AD2pxMxeDGQQ",
        "outputId": "f827a9bf-71f4-4b52-c81c-377bf5bbe559"
      },
      "execution_count": 84,
      "outputs": [
        {
          "output_type": "stream",
          "name": "stdout",
          "text": [
            "[[131  29]\n",
            " [ 23 137]]\n",
            "              precision    recall  f1-score   support\n",
            "\n",
            "           0       0.85      0.82      0.83       160\n",
            "           1       0.83      0.86      0.84       160\n",
            "\n",
            "    accuracy                           0.84       320\n",
            "   macro avg       0.84      0.84      0.84       320\n",
            "weighted avg       0.84      0.84      0.84       320\n",
            "\n",
            "accuracy_score:  0.8375\n"
          ]
        }
      ]
    },
    {
      "cell_type": "code",
      "source": [
        "xgbc = xgb.XGBClassifier(base_score=0.5, booster='gbtree', colsample_bylevel=1,\n",
        "              colsample_bynode=1, colsample_bytree=1, \n",
        "              gamma=0,  importance_type='gain',\n",
        "              interaction_constraints='', learning_rate=0.300000012,\n",
        "              max_delta_step=0, max_depth=6, min_child_weight=1, \n",
        "             n_estimators=200, n_jobs=16,\n",
        "              num_parallel_tree=1, random_state=0,\n",
        "              reg_alpha=0, reg_lambda=1, subsample=1,\n",
        "              tree_method='exact', use_label_encoder=False\n",
        "              )\n",
        "xgbc.fit(x_train, y_train)\n",
        "y_pred=xgbc.predict(x_test)\n",
        "from sklearn.metrics import confusion_matrix, classification_report, accuracy_score\n",
        "print(confusion_matrix(y_test, y_pred))\n",
        "print(classification_report(y_test, y_pred))\n",
        "print('accuracy_score: ', accuracy_score(y_test, y_pred))"
      ],
      "metadata": {
        "colab": {
          "base_uri": "https://localhost:8080/"
        },
        "id": "p7kRvvKeUwIJ",
        "outputId": "5014e8c5-c114-468e-f61d-1b74f68765da"
      },
      "execution_count": 85,
      "outputs": [
        {
          "output_type": "stream",
          "name": "stdout",
          "text": [
            "[[130  30]\n",
            " [ 29 131]]\n",
            "              precision    recall  f1-score   support\n",
            "\n",
            "           0       0.82      0.81      0.82       160\n",
            "           1       0.81      0.82      0.82       160\n",
            "\n",
            "    accuracy                           0.82       320\n",
            "   macro avg       0.82      0.82      0.82       320\n",
            "weighted avg       0.82      0.82      0.82       320\n",
            "\n",
            "accuracy_score:  0.815625\n"
          ]
        }
      ]
    },
    {
      "cell_type": "code",
      "source": [
        "log = LogisticRegression(max_iter=10000) \n",
        "log.fit(x_train, y_train)\n",
        "y_pred=log.predict(x_test)\n",
        "from sklearn.metrics import confusion_matrix, classification_report, accuracy_score\n",
        "print(confusion_matrix(y_test, y_pred))\n",
        "print(classification_report(y_test, y_pred))\n",
        "print('accuracy_score: ', accuracy_score(y_test, y_pred))"
      ],
      "metadata": {
        "colab": {
          "base_uri": "https://localhost:8080/"
        },
        "id": "RbfeqvbLDGTQ",
        "outputId": "de8b4bef-3afe-4e91-fdfe-a630249d84f7"
      },
      "execution_count": 86,
      "outputs": [
        {
          "output_type": "stream",
          "name": "stdout",
          "text": [
            "[[124  36]\n",
            " [ 19 141]]\n",
            "              precision    recall  f1-score   support\n",
            "\n",
            "           0       0.87      0.78      0.82       160\n",
            "           1       0.80      0.88      0.84       160\n",
            "\n",
            "    accuracy                           0.83       320\n",
            "   macro avg       0.83      0.83      0.83       320\n",
            "weighted avg       0.83      0.83      0.83       320\n",
            "\n",
            "accuracy_score:  0.828125\n"
          ]
        }
      ]
    },
    {
      "cell_type": "code",
      "source": [
        "gbc = GradientBoostingClassifier(n_estimators=300)\n",
        "gbc.fit(x_train, y_train)\n",
        "y_pred=gbc.predict(x_test)\n",
        "from sklearn.metrics import confusion_matrix, classification_report, accuracy_score\n",
        "print(confusion_matrix(y_test, y_pred))\n",
        "print(classification_report(y_test, y_pred))\n",
        "print('accuracy_score: ', accuracy_score(y_test, y_pred))"
      ],
      "metadata": {
        "colab": {
          "base_uri": "https://localhost:8080/"
        },
        "id": "mLioDkwAe9mX",
        "outputId": "eb9568c7-5a95-4200-b56a-7f139301d551"
      },
      "execution_count": 87,
      "outputs": [
        {
          "output_type": "stream",
          "name": "stdout",
          "text": [
            "[[129  31]\n",
            " [ 26 134]]\n",
            "              precision    recall  f1-score   support\n",
            "\n",
            "           0       0.83      0.81      0.82       160\n",
            "           1       0.81      0.84      0.82       160\n",
            "\n",
            "    accuracy                           0.82       320\n",
            "   macro avg       0.82      0.82      0.82       320\n",
            "weighted avg       0.82      0.82      0.82       320\n",
            "\n",
            "accuracy_score:  0.821875\n"
          ]
        }
      ]
    },
    {
      "cell_type": "code",
      "source": [
        "abc = AdaBoostClassifier(n_estimators=300)\n",
        "abc.fit(x_train, y_train)\n",
        "y_pred=abc.predict(x_test)\n",
        "from sklearn.metrics import confusion_matrix, classification_report, accuracy_score\n",
        "print(confusion_matrix(y_test, y_pred))\n",
        "print(classification_report(y_test, y_pred))\n",
        "print('accuracy_score: ', accuracy_score(y_test, y_pred))"
      ],
      "metadata": {
        "colab": {
          "base_uri": "https://localhost:8080/"
        },
        "id": "GwTw3SLse9wh",
        "outputId": "c5a94719-3965-4034-e4b0-fda6edff9a40"
      },
      "execution_count": 88,
      "outputs": [
        {
          "output_type": "stream",
          "name": "stdout",
          "text": [
            "[[128  32]\n",
            " [ 35 125]]\n",
            "              precision    recall  f1-score   support\n",
            "\n",
            "           0       0.79      0.80      0.79       160\n",
            "           1       0.80      0.78      0.79       160\n",
            "\n",
            "    accuracy                           0.79       320\n",
            "   macro avg       0.79      0.79      0.79       320\n",
            "weighted avg       0.79      0.79      0.79       320\n",
            "\n",
            "accuracy_score:  0.790625\n"
          ]
        }
      ]
    },
    {
      "cell_type": "code",
      "source": [
        "import lightgbm as lgb\n",
        "lgb = lgb.LGBMClassifier(boosting_type='gbdt', class_weight=None, colsample_bytree=1.0,\n",
        "               importance_type='split', learning_rate=0.1, max_depth=-1,\n",
        "               min_child_samples=20, min_child_weight=0.001, min_split_gain=0.0,\n",
        "               n_estimators=400, n_jobs=-1, num_leaves=31, objective=None,\n",
        "               random_state=None, reg_alpha=0.0, reg_lambda=0.0, silent=True,\n",
        "               subsample=1.0, subsample_for_bin=200000, subsample_freq=0)\n",
        "lgb.fit(x_train, y_train)\n",
        "y_pred=lgb.predict(x_test)\n",
        "from sklearn.metrics import confusion_matrix, classification_report, accuracy_score\n",
        "print(confusion_matrix(y_test, y_pred))\n",
        "print(classification_report(y_test, y_pred))\n",
        "print('accuracy_score: ', accuracy_score(y_test, y_pred))"
      ],
      "metadata": {
        "colab": {
          "base_uri": "https://localhost:8080/"
        },
        "id": "GWgRMGsue971",
        "outputId": "29b2cb56-8b0b-4157-af09-f3393d5927a7"
      },
      "execution_count": 89,
      "outputs": [
        {
          "output_type": "stream",
          "name": "stdout",
          "text": [
            "[[131  29]\n",
            " [ 30 130]]\n",
            "              precision    recall  f1-score   support\n",
            "\n",
            "           0       0.81      0.82      0.82       160\n",
            "           1       0.82      0.81      0.82       160\n",
            "\n",
            "    accuracy                           0.82       320\n",
            "   macro avg       0.82      0.82      0.82       320\n",
            "weighted avg       0.82      0.82      0.82       320\n",
            "\n",
            "accuracy_score:  0.815625\n"
          ]
        }
      ]
    }
  ],
  "metadata": {
    "colab": {
      "provenance": [],
      "collapsed_sections": [
        "8IBbo4APsYNP"
      ]
    },
    "kernelspec": {
      "display_name": "Python 3",
      "language": "python",
      "name": "python3"
    },
    "language_info": {
      "codemirror_mode": {
        "name": "ipython",
        "version": 3
      },
      "file_extension": ".py",
      "mimetype": "text/x-python",
      "name": "python",
      "nbconvert_exporter": "python",
      "pygments_lexer": "ipython3",
      "version": "3.6.8"
    }
  },
  "nbformat": 4,
  "nbformat_minor": 0
}